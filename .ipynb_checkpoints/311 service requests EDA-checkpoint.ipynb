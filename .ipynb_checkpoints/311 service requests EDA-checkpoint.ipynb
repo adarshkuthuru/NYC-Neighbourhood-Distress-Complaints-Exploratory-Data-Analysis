{
 "cells": [
  {
   "cell_type": "markdown",
   "metadata": {},
   "source": [
    "# 1. Table of contents<a class =\"anchor\" id=\"0.Contents\"></a>\n",
    "\n",
    "* [1. Table of contents](#0.Contents)\n",
    "    * [1.1. Introduction](#Intro)\n",
    "* [2. Import Dependent Libraries](#1.Import)\n",
    "* [3. Importing 311 Service Requests Data](#2.Import_data)\n",
    "    * [3.1. Import data from Socrata Open Data API (Soda)](#2.1.Import_data1)\n",
    "    * [3.2. Google-colab authorization and importing data from Google Drive](#2.2.Import_data2)\n",
    "    * [3.3. Importing JSON objects using API and flattening ](#2.3.Import_data3)\n",
    "    * [3.4. Importing data from a csv file in a local directory](#2.4.Import_data4)\n",
    "* [4. Plot to check for missing values](#3.missing_values)\n",
    "    * [comments](#comment1)\n",
    "* [5. 2017 Reporting](#4.2017_Reporting)\n",
    "    * [5.1. Analysis-1](#4.1.Q1)\n",
    "        * [5.1.2. Plot of top 10 complaints in NYC in 2017](#4.1.2.Fig1)\n",
    "        * [5.1.4.  Plot of top 10 complaint types by each borough in 2017](#4.1.4.Fig2)\n",
    "            * [comments](#comment2)\n",
    "    * [5.2. Analysis-2](#4.2.Q2)\n",
    "        * [4.2.6. Plot of Complaint-index (total complaints relative to their population) for each Borough in 2017](#4.2.6.Fig3)\n",
    "            * [comments](#comment3)\n",
    "    * [5.3. Analysis-3](#4.3.Q3)\n",
    "        * [5.3.4. Plot of Complaint-index (total complaints relative to their population) of the two complaint types for each Borough in NYC in 2017'](#4.3.4.Fig4)\n",
    "            * [comments](#comment4)\n",
    "* [6. Time Series/Exploratory Analysis](#5.TS)\n",
    "    * [6.1. Analysis-4](#5.1.Q1)\n",
    "        * [6.1.5. Monthly plot of complaint-rates by each Borough between 2010 and 2021](#5.1.5.Fig5)\n",
    "        * [6.1.7. Monthly plot of complaint-rates for NYC between 2010 and 2021](#5.1.7.Fig6)\n",
    "            * [comments](#comment5)\n",
    "    * [6.2. Analysis-5](#5.2.Q2)\n",
    "        * [6.2.2. Scatter plot of Complaint rate vs Complaint Index to look for anomalies/outliers](#5.2.2.Fig6)\n",
    "            * [comments](#comment6)\n",
    "        * [6.2.3. Zip codes with highest complaint rates before and after winsorization](#5.2.3.Tab1)\n",
    "            * [comments](#comment7)\n",
    "* [7. Animation of complaints in NYC by each month in 2021](#animation)"
   ]
  },
  {
   "cell_type": "markdown",
   "metadata": {},
   "source": [
    "# 1.1. Introduction<a class=\"anchor\" id=\"Intro\"></a>"
   ]
  },
  {
   "cell_type": "markdown",
   "metadata": {},
   "source": [
    "The objective of this project is to analyze recent data on NYC 311 calls and develop a neural network capable of classifying the agency that responded to each call. By examining the content, timing, frequency, and location of the issues raised by 311 callers, government agencies and local policy stakeholders can better serve NYC residents. Through exploratory analysis and visualization of public 311 data, this project aims to contribute to this understanding. The modeling section focuses on demonstrating a proof-of-concept tool that efficiently connects residents to the appropriate government services.\\\n",
    "\n",
    "In this analysis, I analyze the 311 service request data for New York city between the years 2010 and 2021. \\\n",
    "The dataset has 25,839,156 rows and 47 columns."
   ]
  },
  {
   "cell_type": "markdown",
   "metadata": {},
   "source": [
    "# 2. Import Dependent Libraries<a class=\"anchor\" id=\"1.Import_libraries\"></a>"
   ]
  },
  {
   "cell_type": "code",
   "execution_count": null,
   "metadata": {
    "scrolled": true
   },
   "outputs": [],
   "source": [
    "import pandas as pd\n",
    "import numpy as np\n",
    "import datetime as dt\n",
    "\n",
    "%matplotlib inline\n",
    "import matplotlib.pyplot as plt\n",
    "import plotly as px\n",
    "import seaborn as sns \n",
    "import warnings\n",
    "\n",
    "from matplotlib import style\n",
    "from google.colab import drive\n",
    "warnings.filterwarnings(\"ignore\")"
   ]
  },
  {
   "cell_type": "markdown",
   "metadata": {},
   "source": [
    "# 3. Importing 311 Service Requests Data <a class=\"anchor\" id=\"2.Import_data\"></a>\n",
    "Note: Data source details are in the README.md file. \\\n",
    "Data imports can be done in either of the below 4 methods"
   ]
  },
  {
   "cell_type": "markdown",
   "metadata": {},
   "source": [
    "#### 3.1. Import data from Socrata Open Data API (Soda)  <a class=\"anchor\" id=\"2.1.Import_data1\"></a>"
   ]
  },
  {
   "cell_type": "code",
   "execution_count": null,
   "metadata": {},
   "outputs": [
    {
     "name": "stderr",
     "output_type": "stream",
     "text": [
      "WARNING:root:Requests made without an app_token will be subject to strict throttling limits.\n"
     ]
    }
   ],
   "source": [
    "from sodapy import Socrata #install sodapy from pip and then import dataset\n",
    "\n",
    "client = Socrata(\"data.cityofnewyork.us\", None)\n",
    "client.timeout = 1000\n",
    "results = client.get(\"erm2-nwe9\", limit=1500000)"
   ]
  },
  {
   "cell_type": "code",
   "execution_count": null,
   "metadata": {},
   "outputs": [],
   "source": [
    "df = pd.DataFrame.from_records(results)\n",
    "df.head()"
   ]
  },
  {
   "cell_type": "markdown",
   "metadata": {},
   "source": [
    "#### 3.2. Google-colab authorization and importing data from Google Drive <a class=\"anchor\" id=\"2.2.Import_data2\"></a>"
   ]
  },
  {
   "cell_type": "markdown",
   "metadata": {},
   "source": [
    "```python\n",
    "from pydrive.auth import GoogleAuth #!pip install -U -q PyDrive\n",
    "from pydrive.drive import GoogleDrive\n",
    "from google.colab import auth #!pip install google-colab\n",
    "from oauth2client.client import GoogleCredentials\n",
    "\n",
    "#to import files from google drive\n",
    "from google.colab import drive\n",
    "drive.mount('/content/gdrive')\n",
    "df=pd.read_csv('/content/gdrive/My Drive/Colab Notebooks/311_Service_Requests_from_2010_to_Present.csv')\n",
    "\n",
    "#authorization-not required if done manually\n",
    "auth.authenticate_user()\n",
    "gauth = GoogleAuth()\n",
    "gauth.credentials = GoogleCredentials.get_application_default()\n",
    "drive = GoogleDrive(gauth)\n",
    "```"
   ]
  },
  {
   "cell_type": "markdown",
   "metadata": {},
   "source": [
    "#### 3.3. Importing JSON objects using API and flattening <a class=\"anchor\" id=\"2.3.Import_data3\"></a>\n",
    "#### --Only imports first 1000 obs--"
   ]
  },
  {
   "cell_type": "markdown",
   "metadata": {
    "scrolled": false
   },
   "source": [
    "```python\n",
    "import requests\n",
    "import json\n",
    "Data_API = requests.get('https://data.cityofnewyork.us/resource/erm2-nwe9.json')\n",
    "Data = Data_API.text\n",
    "parse_json=json.loads(Data) #parses the json objects\n",
    "df = json_normalize(parse_json) #flatterns the json object to form a dataframe\n",
    "```"
   ]
  },
  {
   "cell_type": "markdown",
   "metadata": {},
   "source": [
    "#### 3.4. Importing data from a csv file in a local directory<a class=\"anchor\" id=\"2.4.Import_data4\"></a>"
   ]
  },
  {
   "cell_type": "code",
   "execution_count": 7,
   "metadata": {},
   "outputs": [
    {
     "name": "stdout",
     "output_type": "stream",
     "text": [
      "(25839156, 14)\n",
      "<class 'pandas.core.frame.DataFrame'>\n",
      "RangeIndex: 25839156 entries, 0 to 25839155\n",
      "Data columns (total 14 columns):\n",
      " #   Column          Dtype  \n",
      "---  ------          -----  \n",
      " 0   Unique Key      int64  \n",
      " 1   Created Date    object \n",
      " 2   Closed Date     object \n",
      " 3   Agency          object \n",
      " 4   Complaint Type  object \n",
      " 5   Descriptor      object \n",
      " 6   Borough         object \n",
      " 7   Incident Zip    object \n",
      " 8   Latitude        float64\n",
      " 9   Longitude       float64\n",
      " 10  Location        object \n",
      " 11  Year_month      object \n",
      " 12  Year            int64  \n",
      " 13  Month           int64  \n",
      "dtypes: float64(2), int64(3), object(9)\n",
      "memory usage: 2.7+ GB\n",
      "None\n"
     ]
    }
   ],
   "source": [
    "df=pd.read_csv('311_Service_Requests_from_2010_to_Present.csv')\n",
    "#print(df.columns) #prints column names\n",
    "\n",
    "#include only essential columns\n",
    "df = df[['Unique Key', 'Created Date', 'Closed Date', 'Agency', 'Complaint Type', 'Descriptor', 'Borough',\n",
    "         'Incident Zip','Latitude', 'Longitude', 'Location']]\n",
    "\n",
    "\n",
    "Borough_list=['BRONX','BROOKLYN','MANHATTAN','QUEENS','STATEN ISLAND']\n",
    "df=df[df['Borough'].isin(Borough_list)] #drops observations of boroughs not in the above list\n",
    "df=pd.read_csv('df.csv')\n",
    "print(df.shape) #dimensions of the dataframe\n",
    "print(df.info()) #gives basic characteristics of the dataset\n",
    "#df.describe().loc[['mean','std', 'min', 'max']] #summary statistics"
   ]
  },
  {
   "cell_type": "markdown",
   "metadata": {},
   "source": [
    "  "
   ]
  },
  {
   "cell_type": "markdown",
   "metadata": {},
   "source": [
    "# 4. Plot to check for missing values<a class=\"anchor\" id=\"3.missing_values\"></a>\n",
    "\n",
    "####      --yellow color in the below plot represents missing values--"
   ]
  },
  {
   "cell_type": "code",
   "execution_count": 15,
   "metadata": {
    "scrolled": false
   },
   "outputs": [
    {
     "data": {
      "image/png": "[encoded data removed]",
      "text/plain": [
       "<Figure size 576x576 with 1 Axes>"
      ]
     },
     "metadata": {
      "needs_background": "light"
     },
     "output_type": "display_data"
    }
   ],
   "source": [
    "plt.figure(figsize=(8, 8))      #figsize in inches\n",
    "sns.heatmap(df.isnull(),xticklabels=True,cbar=False,cmap='viridis') #heat map of missing data\n",
    "plt.show()"
   ]
  },
  {
   "cell_type": "markdown",
   "metadata": {},
   "source": [
    "<a class=\"anchor\" id=\"comment1\"></a> From the above plot, it seems like there are not many missing observations in the key variables about to be used in this analysis. But I will deal with them later in the analysis."
   ]
  },
  {
   "cell_type": "markdown",
   "metadata": {},
   "source": [
    "# 5. 2017 Reporting<a class=\"anchor\" id=\"4.2017_Reporting\"></a>"
   ]
  },
  {
   "cell_type": "markdown",
   "metadata": {},
   "source": [
    "### <a class=\"anchor\" id=\"4.1.Q1\"></a> 5.1. Analysis-1: \n",
    "### Consider only the 10 most common overall complaint types. For each borough, how many of each of those 10 types were there in 2017?"
   ]
  },
  {
   "cell_type": "markdown",
   "metadata": {},
   "source": [
    "#### <a class=\"anchor\" id=\"4.1.1\"></a> 5.1.1. Create year-month, year and month variables"
   ]
  },
  {
   "cell_type": "code",
   "execution_count": 32,
   "metadata": {},
   "outputs": [
    {
     "data": {
      "text/html": [
       "<div>\n",
       "<style scoped>\n",
       "    .dataframe tbody tr th:only-of-type {\n",
       "        vertical-align: middle;\n",
       "    }\n",
       "\n",
       "    .dataframe tbody tr th {\n",
       "        vertical-align: top;\n",
       "    }\n",
       "\n",
       "    .dataframe thead th {\n",
       "        text-align: right;\n",
       "    }\n",
       "</style>\n",
       "<table border=\"1\" class=\"dataframe\">\n",
       "  <thead>\n",
       "    <tr style=\"text-align: right;\">\n",
       "      <th></th>\n",
       "      <th>Unique Key</th>\n",
       "      <th>Created Date</th>\n",
       "      <th>Closed Date</th>\n",
       "      <th>Agency</th>\n",
       "      <th>Complaint Type</th>\n",
       "      <th>Descriptor</th>\n",
       "      <th>Borough</th>\n",
       "      <th>Incident Zip</th>\n",
       "      <th>Latitude</th>\n",
       "      <th>Longitude</th>\n",
       "      <th>Location</th>\n",
       "      <th>Year_month</th>\n",
       "      <th>Year</th>\n",
       "      <th>Month</th>\n",
       "    </tr>\n",
       "  </thead>\n",
       "  <tbody>\n",
       "    <tr>\n",
       "      <th>0</th>\n",
       "      <td>21739884</td>\n",
       "      <td>10/26/2011 07:31:00 PM</td>\n",
       "      <td>12/23/2011 12:00:00 PM</td>\n",
       "      <td>DSNY</td>\n",
       "      <td>Dirty Conditions</td>\n",
       "      <td>E12 Illegal Dumping Surveillance</td>\n",
       "      <td>BRONX</td>\n",
       "      <td>10458</td>\n",
       "      <td>40.855093</td>\n",
       "      <td>-73.884935</td>\n",
       "      <td>(40.85509340131799, -73.88493530762781)</td>\n",
       "      <td>2011-10</td>\n",
       "      <td>2011</td>\n",
       "      <td>10</td>\n",
       "    </tr>\n",
       "    <tr>\n",
       "      <th>1</th>\n",
       "      <td>21738939</td>\n",
       "      <td>10/26/2011 10:31:00 AM</td>\n",
       "      <td>10/26/2011 01:10:00 PM</td>\n",
       "      <td>DEP</td>\n",
       "      <td>Sewer</td>\n",
       "      <td>Sewer Backup (Use Comments) (SA)</td>\n",
       "      <td>QUEENS</td>\n",
       "      <td>11102</td>\n",
       "      <td>40.771719</td>\n",
       "      <td>-73.924194</td>\n",
       "      <td>(40.77171927047292, -73.92419376703837)</td>\n",
       "      <td>2011-10</td>\n",
       "      <td>2011</td>\n",
       "      <td>10</td>\n",
       "    </tr>\n",
       "    <tr>\n",
       "      <th>2</th>\n",
       "      <td>21738160</td>\n",
       "      <td>10/26/2011 12:00:00 AM</td>\n",
       "      <td>11/10/2011 12:00:00 AM</td>\n",
       "      <td>HPD</td>\n",
       "      <td>PLUMBING</td>\n",
       "      <td>WATER-LEAKS</td>\n",
       "      <td>BROOKLYN</td>\n",
       "      <td>11225</td>\n",
       "      <td>40.660516</td>\n",
       "      <td>-73.944292</td>\n",
       "      <td>(40.660515782814635, -73.9442916673507)</td>\n",
       "      <td>2011-10</td>\n",
       "      <td>2011</td>\n",
       "      <td>10</td>\n",
       "    </tr>\n",
       "    <tr>\n",
       "      <th>3</th>\n",
       "      <td>21738643</td>\n",
       "      <td>10/26/2011 12:00:00 AM</td>\n",
       "      <td>10/26/2011 12:00:00 AM</td>\n",
       "      <td>HPD</td>\n",
       "      <td>HEATING</td>\n",
       "      <td>HEAT</td>\n",
       "      <td>BROOKLYN</td>\n",
       "      <td>11236</td>\n",
       "      <td>40.631104</td>\n",
       "      <td>-73.907929</td>\n",
       "      <td>(40.631104004393514, -73.90792864374247)</td>\n",
       "      <td>2011-10</td>\n",
       "      <td>2011</td>\n",
       "      <td>10</td>\n",
       "    </tr>\n",
       "    <tr>\n",
       "      <th>4</th>\n",
       "      <td>21739724</td>\n",
       "      <td>10/26/2011 12:00:00 AM</td>\n",
       "      <td>10/31/2011 12:00:00 AM</td>\n",
       "      <td>HPD</td>\n",
       "      <td>HEATING</td>\n",
       "      <td>HEAT</td>\n",
       "      <td>BRONX</td>\n",
       "      <td>10456</td>\n",
       "      <td>40.824868</td>\n",
       "      <td>-73.908380</td>\n",
       "      <td>(40.824867693955554, -73.90837957440094)</td>\n",
       "      <td>2011-10</td>\n",
       "      <td>2011</td>\n",
       "      <td>10</td>\n",
       "    </tr>\n",
       "  </tbody>\n",
       "</table>\n",
       "</div>"
      ],
      "text/plain": [
       "   Unique Key            Created Date             Closed Date Agency  \\\n",
       "0    21739884  10/26/2011 07:31:00 PM  12/23/2011 12:00:00 PM   DSNY   \n",
       "1    21738939  10/26/2011 10:31:00 AM  10/26/2011 01:10:00 PM    DEP   \n",
       "2    21738160  10/26/2011 12:00:00 AM  11/10/2011 12:00:00 AM    HPD   \n",
       "3    21738643  10/26/2011 12:00:00 AM  10/26/2011 12:00:00 AM    HPD   \n",
       "4    21739724  10/26/2011 12:00:00 AM  10/31/2011 12:00:00 AM    HPD   \n",
       "\n",
       "     Complaint Type                        Descriptor   Borough Incident Zip  \\\n",
       "0  Dirty Conditions  E12 Illegal Dumping Surveillance     BRONX        10458   \n",
       "1             Sewer  Sewer Backup (Use Comments) (SA)    QUEENS        11102   \n",
       "2          PLUMBING                       WATER-LEAKS  BROOKLYN        11225   \n",
       "3           HEATING                              HEAT  BROOKLYN        11236   \n",
       "4           HEATING                              HEAT     BRONX        10456   \n",
       "\n",
       "    Latitude  Longitude                                  Location Year_month  \\\n",
       "0  40.855093 -73.884935   (40.85509340131799, -73.88493530762781)    2011-10   \n",
       "1  40.771719 -73.924194   (40.77171927047292, -73.92419376703837)    2011-10   \n",
       "2  40.660516 -73.944292   (40.660515782814635, -73.9442916673507)    2011-10   \n",
       "3  40.631104 -73.907929  (40.631104004393514, -73.90792864374247)    2011-10   \n",
       "4  40.824868 -73.908380  (40.824867693955554, -73.90837957440094)    2011-10   \n",
       "\n",
       "   Year  Month  \n",
       "0  2011     10  \n",
       "1  2011     10  \n",
       "2  2011     10  \n",
       "3  2011     10  \n",
       "4  2011     10  "
      ]
     },
     "execution_count": 32,
     "metadata": {},
     "output_type": "execute_result"
    }
   ],
   "source": [
    "df['Year_month'] = pd.DatetimeIndex(df['Created Date']).strftime('%Y-%m')\n",
    "df['Year'] = pd.DatetimeIndex(df['Created Date']).year #creates year variable\n",
    "df['Month'] = pd.DatetimeIndex(df['Created Date']).month #creates month variable\n",
    "df.to_csv('df.csv', index=False) #saves the above file in csv format\n",
    "#type(data)#### \n",
    "#df['Year'].value_counts() #num of observations by each year\n",
    "df.head()"
   ]
  },
  {
   "cell_type": "markdown",
   "metadata": {},
   "source": [
    "#### <a class=\"anchor\" id=\"4.1.2.Fig1\"></a>5.1.2. Plot of top 10 complaints in NYC in 2017 "
   ]
  },
  {
   "cell_type": "code",
   "execution_count": 16,
   "metadata": {},
   "outputs": [],
   "source": [
    "df_2017=df[df['Year']==2017] #subset the original dataset to a new one with only year 2017 obs \n",
    "df_2017.shape\n",
    "df_2017.to_csv('df_2017.csv', index=False) #saves the above file in csv format"
   ]
  },
  {
   "cell_type": "code",
   "execution_count": 20,
   "metadata": {},
   "outputs": [
    {
     "data": {
      "image/png": "[encoded data removed]",
      "text/plain": [
       "<Figure size 432x432 with 1 Axes>"
      ]
     },
     "metadata": {
      "needs_background": "light"
     },
     "output_type": "display_data"
    }
   ],
   "source": [
    "top_complaints=df_2017['Complaint Type'].value_counts()[:10].index.tolist() #list with names of the top 10 complaints\n",
    "\n",
    "#plot for the top complaints in 2017\n",
    "plt.figure(figsize=(6,6))      #figsize in inches\n",
    "#Specify a horizontal barplot ('barh') as kind of plot (kind=)\n",
    "df_2017['Complaint Type'].value_counts()[:10].plot(kind='barh') #plot function that plots frequency\n",
    "plt.xlabel('Total Complaints')\n",
    "plt.ylabel('Complaint Type')\n",
    "plt.title('Top 10 complaints in NYC in 2017')\n",
    "plt.show()"
   ]
  },
  {
   "cell_type": "markdown",
   "metadata": {},
   "source": [
    "#### 5.1.3. Number of complaints of the top 10 complaint types by each borough in 2017"
   ]
  },
  {
   "cell_type": "code",
   "execution_count": 21,
   "metadata": {
    "scrolled": false
   },
   "outputs": [
    {
     "data": {
      "text/html": [
       "<div>\n",
       "<style scoped>\n",
       "    .dataframe tbody tr th:only-of-type {\n",
       "        vertical-align: middle;\n",
       "    }\n",
       "\n",
       "    .dataframe tbody tr th {\n",
       "        vertical-align: top;\n",
       "    }\n",
       "\n",
       "    .dataframe thead th {\n",
       "        text-align: right;\n",
       "    }\n",
       "</style>\n",
       "<table border=\"1\" class=\"dataframe\">\n",
       "  <thead>\n",
       "    <tr style=\"text-align: right;\">\n",
       "      <th>Borough</th>\n",
       "      <th>BRONX</th>\n",
       "      <th>BROOKLYN</th>\n",
       "      <th>MANHATTAN</th>\n",
       "      <th>QUEENS</th>\n",
       "      <th>STATEN ISLAND</th>\n",
       "    </tr>\n",
       "    <tr>\n",
       "      <th>Complaint Type</th>\n",
       "      <th></th>\n",
       "      <th></th>\n",
       "      <th></th>\n",
       "      <th></th>\n",
       "      <th></th>\n",
       "    </tr>\n",
       "  </thead>\n",
       "  <tbody>\n",
       "    <tr>\n",
       "      <th>Blocked Driveway</th>\n",
       "      <td>24615</td>\n",
       "      <td>49432</td>\n",
       "      <td>3434</td>\n",
       "      <td>54413</td>\n",
       "      <td>3795</td>\n",
       "    </tr>\n",
       "    <tr>\n",
       "      <th>HEAT/HOT WATER</th>\n",
       "      <td>68718</td>\n",
       "      <td>66984</td>\n",
       "      <td>46529</td>\n",
       "      <td>29217</td>\n",
       "      <td>2073</td>\n",
       "    </tr>\n",
       "    <tr>\n",
       "      <th>Illegal Parking</th>\n",
       "      <td>16148</td>\n",
       "      <td>55516</td>\n",
       "      <td>19750</td>\n",
       "      <td>46169</td>\n",
       "      <td>8069</td>\n",
       "    </tr>\n",
       "    <tr>\n",
       "      <th>Noise</th>\n",
       "      <td>3134</td>\n",
       "      <td>15421</td>\n",
       "      <td>29002</td>\n",
       "      <td>10684</td>\n",
       "      <td>1926</td>\n",
       "    </tr>\n",
       "    <tr>\n",
       "      <th>Noise - Residential</th>\n",
       "      <td>57704</td>\n",
       "      <td>67687</td>\n",
       "      <td>51078</td>\n",
       "      <td>46425</td>\n",
       "      <td>7038</td>\n",
       "    </tr>\n",
       "    <tr>\n",
       "      <th>Noise - Street/Sidewalk</th>\n",
       "      <td>14029</td>\n",
       "      <td>21328</td>\n",
       "      <td>29175</td>\n",
       "      <td>7532</td>\n",
       "      <td>868</td>\n",
       "    </tr>\n",
       "    <tr>\n",
       "      <th>Street Condition</th>\n",
       "      <td>11761</td>\n",
       "      <td>25432</td>\n",
       "      <td>14840</td>\n",
       "      <td>30637</td>\n",
       "      <td>10595</td>\n",
       "    </tr>\n",
       "    <tr>\n",
       "      <th>Street Light Condition</th>\n",
       "      <td>18410</td>\n",
       "      <td>22458</td>\n",
       "      <td>11077</td>\n",
       "      <td>24258</td>\n",
       "      <td>6604</td>\n",
       "    </tr>\n",
       "    <tr>\n",
       "      <th>UNSANITARY CONDITION</th>\n",
       "      <td>24561</td>\n",
       "      <td>26659</td>\n",
       "      <td>14635</td>\n",
       "      <td>11474</td>\n",
       "      <td>1953</td>\n",
       "    </tr>\n",
       "    <tr>\n",
       "      <th>Water System</th>\n",
       "      <td>10223</td>\n",
       "      <td>19804</td>\n",
       "      <td>10929</td>\n",
       "      <td>18788</td>\n",
       "      <td>5349</td>\n",
       "    </tr>\n",
       "  </tbody>\n",
       "</table>\n",
       "</div>"
      ],
      "text/plain": [
       "Borough                  BRONX  BROOKLYN  MANHATTAN  QUEENS  STATEN ISLAND\n",
       "Complaint Type                                                            \n",
       "Blocked Driveway         24615     49432       3434   54413           3795\n",
       "HEAT/HOT WATER           68718     66984      46529   29217           2073\n",
       "Illegal Parking          16148     55516      19750   46169           8069\n",
       "Noise                     3134     15421      29002   10684           1926\n",
       "Noise - Residential      57704     67687      51078   46425           7038\n",
       "Noise - Street/Sidewalk  14029     21328      29175    7532            868\n",
       "Street Condition         11761     25432      14840   30637          10595\n",
       "Street Light Condition   18410     22458      11077   24258           6604\n",
       "UNSANITARY CONDITION     24561     26659      14635   11474           1953\n",
       "Water System             10223     19804      10929   18788           5349"
      ]
     },
     "execution_count": 21,
     "metadata": {},
     "output_type": "execute_result"
    }
   ],
   "source": [
    "#Filter the observations having complaint type from the top complaints list\n",
    "df2_2017=df_2017[df_2017['Complaint Type'].isin(top_complaints)] \n",
    "df3_2017 = df2_2017.groupby(['Complaint Type','Borough']) #grouping by 2 columns -'Complaint Type','Borough'\n",
    "df4_2017=df3_2017.size().unstack() #Borough_level_complaint_frequency\n",
    "df4_2017.reset_index(inplace=False) #converts labels to column\n",
    "df4_2017"
   ]
  },
  {
   "cell_type": "markdown",
   "metadata": {},
   "source": [
    "#### <a class=\"anchor\" id=\"4.1.4.Fig2\"></a>5.1.4.  plot of top 10 complaint types by each borough in 2017"
   ]
  },
  {
   "cell_type": "code",
   "execution_count": 22,
   "metadata": {},
   "outputs": [
    {
     "data": {
      "image/png": "[encoded data removed]",
      "text/plain": [
       "<Figure size 720x720 with 1 Axes>"
      ]
     },
     "metadata": {
      "needs_background": "light"
     },
     "output_type": "display_data"
    }
   ],
   "source": [
    "(df4_2017.reindex(index=df4_2017.mean(axis=1)\n",
    "    .sort_values(ascending=False)\n",
    "    .index).plot(kind='barh', figsize=(10, 10), width=0.75,\n",
    "                 title='Total number of complaints by complaint type for each Borough'))\n",
    "plt.xlabel('Total complaints')\n",
    "plt.show()"
   ]
  },
  {
   "cell_type": "markdown",
   "metadata": {},
   "source": [
    "<a class=\"anchor\" id=\"comment2\"></a> \n",
    "From the above two plots, it is evident that the highest complaint type in 2017 across each borough and NYC as a whole is Noise - Residential, followed by Heat/Hot water, Illegal parking, and the others."
   ]
  },
  {
   "cell_type": "markdown",
   "metadata": {},
   "source": [
    "   "
   ]
  },
  {
   "cell_type": "markdown",
   "metadata": {},
   "source": [
    "### <a class=\"anchor\" id=\"4.2.Q2\"></a>5.2. Analysis-2: \n",
    "### Considering all complaint types. Which boroughs are the biggest \"complainers\" relative to the size of the population in 2017? Meaning, calculate a complaint-index that adjusts for population of the borough."
   ]
  },
  {
   "cell_type": "markdown",
   "metadata": {},
   "source": [
    "#### 5.2.1. Import population data and convert the keys used for merging to the same data type"
   ]
  },
  {
   "cell_type": "code",
   "execution_count": 24,
   "metadata": {
    "scrolled": false
   },
   "outputs": [
    {
     "name": "stdout",
     "output_type": "stream",
     "text": [
      "(32948, 2)\n"
     ]
    }
   ],
   "source": [
    "pop=pd.read_csv('2010_Census_Population_By_Zipcode.csv')\n",
    "pop=pop.dropna() #delete rows with missing values\n",
    "#drop rows with population=0, otherwise it creates complaint-index = infinity\n",
    "pop.drop(pop[pop['2010 Census Population'] == 0].index, inplace = True) \n",
    "print(pop.shape)\n",
    "#print(pop.columns) #column names\n",
    "pop=pop.rename(columns={'Zip Code ZCTA': 'Incident Zip', '2010 Census Population': 'Population'}) #renaming columns\n",
    "df_2017['Incident Zip']= pd.to_numeric(df_2017['Incident Zip'], errors='coerce') #convert string to numeric"
   ]
  },
  {
   "cell_type": "markdown",
   "metadata": {},
   "source": [
    "#### 5.2.2. Form unique zipcode & borough combination table from the original 311 service request dataset"
   ]
  },
  {
   "cell_type": "code",
   "execution_count": 25,
   "metadata": {
    "scrolled": false
   },
   "outputs": [
    {
     "data": {
      "text/html": [
       "<div>\n",
       "<style scoped>\n",
       "    .dataframe tbody tr th:only-of-type {\n",
       "        vertical-align: middle;\n",
       "    }\n",
       "\n",
       "    .dataframe tbody tr th {\n",
       "        vertical-align: top;\n",
       "    }\n",
       "\n",
       "    .dataframe thead th {\n",
       "        text-align: right;\n",
       "    }\n",
       "</style>\n",
       "<table border=\"1\" class=\"dataframe\">\n",
       "  <thead>\n",
       "    <tr style=\"text-align: right;\">\n",
       "      <th></th>\n",
       "      <th>Borough</th>\n",
       "      <th>Incident Zip</th>\n",
       "    </tr>\n",
       "  </thead>\n",
       "  <tbody>\n",
       "    <tr>\n",
       "      <th>1229</th>\n",
       "      <td>BRONX</td>\n",
       "      <td>10453.0</td>\n",
       "    </tr>\n",
       "    <tr>\n",
       "      <th>5083</th>\n",
       "      <td>BROOKLYN</td>\n",
       "      <td>11221.0</td>\n",
       "    </tr>\n",
       "    <tr>\n",
       "      <th>14658</th>\n",
       "      <td>QUEENS</td>\n",
       "      <td>11422.0</td>\n",
       "    </tr>\n",
       "    <tr>\n",
       "      <th>14782</th>\n",
       "      <td>QUEENS</td>\n",
       "      <td>11411.0</td>\n",
       "    </tr>\n",
       "    <tr>\n",
       "      <th>18059</th>\n",
       "      <td>BROOKLYN</td>\n",
       "      <td>11225.0</td>\n",
       "    </tr>\n",
       "  </tbody>\n",
       "</table>\n",
       "</div>"
      ],
      "text/plain": [
       "        Borough  Incident Zip\n",
       "1229      BRONX       10453.0\n",
       "5083   BROOKLYN       11221.0\n",
       "14658    QUEENS       11422.0\n",
       "14782    QUEENS       11411.0\n",
       "18059  BROOKLYN       11225.0"
      ]
     },
     "execution_count": 25,
     "metadata": {},
     "output_type": "execute_result"
    }
   ],
   "source": [
    "Borough_Zip=df_2017[['Borough','Incident Zip']].drop_duplicates()\n",
    "Borough_Zip=Borough_Zip.dropna() #dropping rows with missing values\n",
    "Borough_Zip.head()"
   ]
  },
  {
   "cell_type": "markdown",
   "metadata": {},
   "source": [
    "#### 5.2.3. Calculate total number of complaints by zip code"
   ]
  },
  {
   "cell_type": "code",
   "execution_count": 26,
   "metadata": {
    "scrolled": false
   },
   "outputs": [
    {
     "data": {
      "text/plain": [
       "(265, 2)"
      ]
     },
     "execution_count": 26,
     "metadata": {},
     "output_type": "execute_result"
    }
   ],
   "source": [
    "total_complaints_freq_all = df_2017['Incident Zip'].value_counts().tolist() #list with frequencies of the complaints\n",
    "total_complaints_all = df_2017['Incident Zip'].value_counts().index.tolist() #list with index of zipcodes\n",
    "total_complaints_freq_all =pd.DataFrame(total_complaints_freq_all, columns=['num_complaints'])\n",
    "total_complaints_all =pd.DataFrame(total_complaints_all, columns=['Incident Zip'])\n",
    "df5_2017 = pd.concat([total_complaints_all, total_complaints_freq_all], axis=1)\n",
    "df5_2017.shape\n",
    "#data2.head()"
   ]
  },
  {
   "cell_type": "markdown",
   "metadata": {},
   "source": [
    "#### 5.2.4. Merge population dataset with the above total number of complaints dataset using zip code as the key"
   ]
  },
  {
   "cell_type": "code",
   "execution_count": 27,
   "metadata": {
    "scrolled": false
   },
   "outputs": [
    {
     "name": "stdout",
     "output_type": "stream",
     "text": [
      "(32948, 2)\n",
      "(265, 3)\n"
     ]
    },
    {
     "data": {
      "text/html": [
       "<div>\n",
       "<style scoped>\n",
       "    .dataframe tbody tr th:only-of-type {\n",
       "        vertical-align: middle;\n",
       "    }\n",
       "\n",
       "    .dataframe tbody tr th {\n",
       "        vertical-align: top;\n",
       "    }\n",
       "\n",
       "    .dataframe thead th {\n",
       "        text-align: right;\n",
       "    }\n",
       "</style>\n",
       "<table border=\"1\" class=\"dataframe\">\n",
       "  <thead>\n",
       "    <tr style=\"text-align: right;\">\n",
       "      <th></th>\n",
       "      <th>Incident Zip</th>\n",
       "      <th>num_complaints</th>\n",
       "      <th>Population</th>\n",
       "    </tr>\n",
       "  </thead>\n",
       "  <tbody>\n",
       "    <tr>\n",
       "      <th>0</th>\n",
       "      <td>11226.0</td>\n",
       "      <td>42462</td>\n",
       "      <td>101572.0</td>\n",
       "    </tr>\n",
       "    <tr>\n",
       "      <th>1</th>\n",
       "      <td>11385.0</td>\n",
       "      <td>35293</td>\n",
       "      <td>98592.0</td>\n",
       "    </tr>\n",
       "    <tr>\n",
       "      <th>2</th>\n",
       "      <td>10467.0</td>\n",
       "      <td>34257</td>\n",
       "      <td>97060.0</td>\n",
       "    </tr>\n",
       "    <tr>\n",
       "      <th>3</th>\n",
       "      <td>11207.0</td>\n",
       "      <td>31063</td>\n",
       "      <td>93386.0</td>\n",
       "    </tr>\n",
       "    <tr>\n",
       "      <th>4</th>\n",
       "      <td>10453.0</td>\n",
       "      <td>29844</td>\n",
       "      <td>78309.0</td>\n",
       "    </tr>\n",
       "  </tbody>\n",
       "</table>\n",
       "</div>"
      ],
      "text/plain": [
       "   Incident Zip  num_complaints  Population\n",
       "0       11226.0           42462    101572.0\n",
       "1       11385.0           35293     98592.0\n",
       "2       10467.0           34257     97060.0\n",
       "3       11207.0           31063     93386.0\n",
       "4       10453.0           29844     78309.0"
      ]
     },
     "execution_count": 27,
     "metadata": {},
     "output_type": "execute_result"
    }
   ],
   "source": [
    "df6_2017=df5_2017.merge(pop, on='Incident Zip', how='left') #Left join merge\n",
    "print(pop.shape)\n",
    "print(df6_2017.shape) #checking if the merged table has same no. of obs as the left-side dataset\n",
    "df6_2017.head()"
   ]
  },
  {
   "cell_type": "markdown",
   "metadata": {},
   "source": [
    "#### 5.2.5. Merging Borough Zip table with total number of complaints dataset to estimate complaint-index (total complaints relative to their population) for each borough of NYC"
   ]
  },
  {
   "cell_type": "code",
   "execution_count": 31,
   "metadata": {
    "scrolled": false
   },
   "outputs": [
    {
     "name": "stdout",
     "output_type": "stream",
     "text": [
      "(297, 2)\n",
      "(5, 3)\n"
     ]
    },
    {
     "data": {
      "text/html": [
       "<div>\n",
       "<style scoped>\n",
       "    .dataframe tbody tr th:only-of-type {\n",
       "        vertical-align: middle;\n",
       "    }\n",
       "\n",
       "    .dataframe tbody tr th {\n",
       "        vertical-align: top;\n",
       "    }\n",
       "\n",
       "    .dataframe thead th {\n",
       "        text-align: right;\n",
       "    }\n",
       "</style>\n",
       "<table border=\"1\" class=\"dataframe\">\n",
       "  <thead>\n",
       "    <tr style=\"text-align: right;\">\n",
       "      <th></th>\n",
       "      <th>Borough</th>\n",
       "      <th>complaint_index</th>\n",
       "    </tr>\n",
       "  </thead>\n",
       "  <tbody>\n",
       "    <tr>\n",
       "      <th>0</th>\n",
       "      <td>BRONX</td>\n",
       "      <td>0.293921</td>\n",
       "    </tr>\n",
       "    <tr>\n",
       "      <th>1</th>\n",
       "      <td>BROOKLYN</td>\n",
       "      <td>0.300462</td>\n",
       "    </tr>\n",
       "    <tr>\n",
       "      <th>2</th>\n",
       "      <td>MANHATTAN</td>\n",
       "      <td>0.295520</td>\n",
       "    </tr>\n",
       "    <tr>\n",
       "      <th>3</th>\n",
       "      <td>QUEENS</td>\n",
       "      <td>0.251499</td>\n",
       "    </tr>\n",
       "    <tr>\n",
       "      <th>4</th>\n",
       "      <td>STATEN ISLAND</td>\n",
       "      <td>0.275267</td>\n",
       "    </tr>\n",
       "  </tbody>\n",
       "</table>\n",
       "</div>"
      ],
      "text/plain": [
       "         Borough  complaint_index\n",
       "0          BRONX         0.293921\n",
       "1       BROOKLYN         0.300462\n",
       "2      MANHATTAN         0.295520\n",
       "3         QUEENS         0.251499\n",
       "4  STATEN ISLAND         0.275267"
      ]
     },
     "execution_count": 31,
     "metadata": {},
     "output_type": "execute_result"
    }
   ],
   "source": [
    "df7_2017=df6_2017.merge(Borough_Zip, on='Incident Zip', how='left') #Left join merge\n",
    "df7_2017.head()\n",
    "df7_2017=df7_2017.dropna() \n",
    "\n",
    "#aggregate the number of complaints and population for each borough\n",
    "df8_2017=df7_2017.groupby(['Borough'])[['num_complaints','Population']].sum()\n",
    "\n",
    "#complaint-index at borough-level\n",
    "df8_2017['complaint_index']=df8_2017['num_complaints']/df8_2017['Population']\n",
    "print(Borough_Zip.shape)\n",
    "print(df8_2017.shape) #checking if the merged table has same no. of obs as the left-side dataset\n",
    "df8_2017.reset_index(inplace=True) #converts labels to column\n",
    "df9_2017=df8_2017[['Borough','complaint_index']]\n",
    "df9_2017.head()\n",
    "#print(type(data6))\n",
    "#print(data6.shape)"
   ]
  },
  {
   "cell_type": "markdown",
   "metadata": {},
   "source": [
    "#### <a class=\"anchor\" id=\"4.2.6.Fig3\"></a>5.2.6. Plot of Complaint-index (total complaints relative to their population) for each Borough in 2017"
   ]
  },
  {
   "cell_type": "code",
   "execution_count": 29,
   "metadata": {
    "scrolled": false
   },
   "outputs": [
    {
     "data": {
      "image/png": "[encoded data removed]",
      "text/plain": [
       "<Figure size 432x432 with 1 Axes>"
      ]
     },
     "metadata": {
      "needs_background": "light"
     },
     "output_type": "display_data"
    }
   ],
   "source": [
    "(df9_2017.reindex(index=df9_2017.mean(axis=1)\n",
    "    .sort_values(ascending=False)\n",
    "    .index).set_index('Borough').plot(kind='barh', figsize=(6,6), width=0.25)) #renaming bar plot index values\n",
    "plt.ylabel('Borough')\n",
    "plt.xlabel('Complaint-index')\n",
    "plt.title(\"Complaint-index (total complaints relative to their population) for each Borough of NYC in 2017\") \n",
    "plt.show()"
   ]
  },
  {
   "cell_type": "markdown",
   "metadata": {},
   "source": [
    "<a class=\"anchor\" id=\"comment3\"></a> \n",
    "From the above plot, Brooklyn has the most number of complaints relative to the size of its population in 2017, followed by Manhattan, Bronx, Staten Island and Queens."
   ]
  },
  {
   "cell_type": "markdown",
   "metadata": {},
   "source": [
    "  "
   ]
  },
  {
   "cell_type": "markdown",
   "metadata": {},
   "source": [
    "## 5.3. <a class=\"anchor\" id=\"4.3.Q3\"></a>Analysis-3: Run the Complaint index focusing on one or two complaint types you’re curious about."
   ]
  },
  {
   "cell_type": "markdown",
   "metadata": {},
   "source": [
    "#### Here, I will analyze two of the most frequent complaint types- 'Blocked Driveway' & 'Illegal Parking'"
   ]
  },
  {
   "cell_type": "markdown",
   "metadata": {},
   "source": [
    "#### 5.3.1. Calculate total number of complaints by complaint type by zipcode"
   ]
  },
  {
   "cell_type": "code",
   "execution_count": 30,
   "metadata": {
    "scrolled": false
   },
   "outputs": [
    {
     "name": "stdout",
     "output_type": "stream",
     "text": [
      "(391, 3)\n"
     ]
    },
    {
     "data": {
      "text/html": [
       "<div>\n",
       "<style scoped>\n",
       "    .dataframe tbody tr th:only-of-type {\n",
       "        vertical-align: middle;\n",
       "    }\n",
       "\n",
       "    .dataframe tbody tr th {\n",
       "        vertical-align: top;\n",
       "    }\n",
       "\n",
       "    .dataframe thead th {\n",
       "        text-align: right;\n",
       "    }\n",
       "</style>\n",
       "<table border=\"1\" class=\"dataframe\">\n",
       "  <thead>\n",
       "    <tr style=\"text-align: right;\">\n",
       "      <th></th>\n",
       "      <th>Incident Zip</th>\n",
       "      <th>Complaint Type</th>\n",
       "      <th>num_complaints</th>\n",
       "    </tr>\n",
       "  </thead>\n",
       "  <tbody>\n",
       "    <tr>\n",
       "      <th>14</th>\n",
       "      <td>11368.0</td>\n",
       "      <td>Blocked Driveway</td>\n",
       "      <td>4388</td>\n",
       "    </tr>\n",
       "    <tr>\n",
       "      <th>18</th>\n",
       "      <td>11385.0</td>\n",
       "      <td>Illegal Parking</td>\n",
       "      <td>4136</td>\n",
       "    </tr>\n",
       "    <tr>\n",
       "      <th>30</th>\n",
       "      <td>11209.0</td>\n",
       "      <td>Illegal Parking</td>\n",
       "      <td>3289</td>\n",
       "    </tr>\n",
       "    <tr>\n",
       "      <th>35</th>\n",
       "      <td>11214.0</td>\n",
       "      <td>Illegal Parking</td>\n",
       "      <td>3159</td>\n",
       "    </tr>\n",
       "    <tr>\n",
       "      <th>40</th>\n",
       "      <td>11223.0</td>\n",
       "      <td>Illegal Parking</td>\n",
       "      <td>3082</td>\n",
       "    </tr>\n",
       "  </tbody>\n",
       "</table>\n",
       "</div>"
      ],
      "text/plain": [
       "    Incident Zip    Complaint Type  num_complaints\n",
       "14       11368.0  Blocked Driveway            4388\n",
       "18       11385.0   Illegal Parking            4136\n",
       "30       11209.0   Illegal Parking            3289\n",
       "35       11214.0   Illegal Parking            3159\n",
       "40       11223.0   Illegal Parking            3082"
      ]
     },
     "execution_count": 30,
     "metadata": {},
     "output_type": "execute_result"
    }
   ],
   "source": [
    "#list with frequencies of the complaints\n",
    "ct_total_complaints_freq_all = df_2017[['Incident Zip','Complaint Type']].value_counts().tolist()\n",
    "#list with index of zipcodes\n",
    "ct_total_complaints_all = df_2017[['Incident Zip','Complaint Type']].value_counts().index.tolist() \n",
    "\n",
    "#convert these lists to dataframes\n",
    "ct_total_complaints_freq_all =pd.DataFrame(ct_total_complaints_freq_all, columns=['num_complaints'])\n",
    "ct_total_complaints_all =pd.DataFrame(ct_total_complaints_all, columns=['Incident Zip','Complaint Type'])\n",
    "#column bind to form one dataset\n",
    "df10_2017 = pd.concat([ct_total_complaints_all, ct_total_complaints_freq_all], axis=1) \n",
    "\n",
    "#include observations of the two compaint types of interest \n",
    "df11_2017=df10_2017[df10_2017['Complaint Type'].isin(['Blocked Driveway','Illegal Parking'])]\n",
    "print(df11_2017.shape)\n",
    "df11_2017.head()"
   ]
  },
  {
   "cell_type": "markdown",
   "metadata": {},
   "source": [
    "#### 5.3.2. Merge poulation dataset with the above total number of complaints dataset using zip code as key"
   ]
  },
  {
   "cell_type": "code",
   "execution_count": 32,
   "metadata": {
    "scrolled": false
   },
   "outputs": [
    {
     "name": "stdout",
     "output_type": "stream",
     "text": [
      "(32948, 2)\n",
      "(391, 4)\n"
     ]
    }
   ],
   "source": [
    "df12_2017=df11_2017.merge(pop, on='Incident Zip', how='left') #Left join merge\n",
    "print(pop.shape)\n",
    "print(df12_2017.shape) #checking if the merged table has same no. of obs as the left-side dataset"
   ]
  },
  {
   "cell_type": "markdown",
   "metadata": {},
   "source": [
    "#### 5.3.3. Merging Borough table with the total number of complaints dataset to estimate complaint-index (total complaints relative to their population) for each Borough in 2017"
   ]
  },
  {
   "cell_type": "code",
   "execution_count": 33,
   "metadata": {
    "scrolled": true
   },
   "outputs": [
    {
     "name": "stdout",
     "output_type": "stream",
     "text": [
      "(297, 2)\n",
      "(10, 3)\n",
      "Complaint Type        Borough  Blocked Driveway  Illegal Parking\n",
      "0                       BRONX          0.018628         0.014703\n",
      "1                    BROOKLYN          0.020716         0.022961\n",
      "2                   MANHATTAN          0.007277         0.017189\n",
      "3                      QUEENS          0.023000         0.019339\n",
      "4               STATEN ISLAND          0.008096         0.017215\n"
     ]
    }
   ],
   "source": [
    "df13_2017=df12_2017.merge(Borough_Zip, on='Incident Zip', how='left') #Left join merge\n",
    "df13_2017=df13_2017.dropna() \n",
    "\n",
    "#aggregating number of complaints and population by borough and complaint type\n",
    "df14_2017=df13_2017.groupby(['Borough','Complaint Type'])[['num_complaints','Population']].sum()\n",
    "#print(type(data5))\n",
    "\n",
    "#complaint-index at borough-level for each complaint type\n",
    "df14_2017['complaint_index']=df14_2017['num_complaints']/df14_2017['Population']\n",
    "print(Borough_Zip.shape)\n",
    "print(df14_2017.shape) #checking if the merged table has same no. of obs as the left-side dataset\n",
    "df14_2017.reset_index(inplace=True) #converts labels to column\n",
    "df15_2017=df14_2017[['Borough','Complaint Type','complaint_index']]\n",
    "\n",
    "#convert the dataframe long to wide format for plots\n",
    "df16_2017=df15_2017.pivot(index='Borough', columns='Complaint Type', values='complaint_index') \n",
    "df16_2017.reset_index(inplace=True) #converts labels to column\n",
    "print(df16_2017.head())"
   ]
  },
  {
   "cell_type": "markdown",
   "metadata": {},
   "source": [
    "#### <a class=\"anchor\" id=\"4.3.4.Fig4\"></a>5.3.4. Plot of Complaint-index (total complaints relative to their population) of the two complaint types for each Borough in NYC in 2017'"
   ]
  },
  {
   "cell_type": "code",
   "execution_count": 34,
   "metadata": {
    "scrolled": false
   },
   "outputs": [
    {
     "data": {
      "image/png": "[encoded data removed]",
      "text/plain": [
       "<Figure size 432x432 with 1 Axes>"
      ]
     },
     "metadata": {
      "needs_background": "light"
     },
     "output_type": "display_data"
    }
   ],
   "source": [
    "(df16_2017.reindex(index=df16_2017.mean(axis=1)\n",
    "    .sort_values(ascending=False)\n",
    "    .index).set_index('Borough').plot(kind='barh', figsize=(6,6), width=0.3,\n",
    "            title='Complaint-index (total complaints relative to their population) for each Borough of NYC in 2017'))\n",
    "plt.xlabel('Complaint-index')\n",
    "plt.show()"
   ]
  },
  {
   "cell_type": "markdown",
   "metadata": {},
   "source": [
    "<a class=\"anchor\" id=\"comment4\"></a> My prior was that the boroughs with the highest complaints about 'Blocked Driveway' also have the highest complaints about 'IIlegal Parking' and vice-versa, as they are both related. From the above plot, my assumption appears to be true, as Brooklyn and Queens have the highest complaints about both the types, wheras the other three boroughs have lesser complaints about the two complaint types. With regard to the variance of the complaint-indices, the level of illegal parking seems to be almost the same across all the boroughs in NYC but the variance for Blocked Driveway complaints is high."
   ]
  },
  {
   "cell_type": "markdown",
   "metadata": {},
   "source": [
    "  "
   ]
  },
  {
   "cell_type": "markdown",
   "metadata": {},
   "source": [
    "\n",
    "# <a class=\"anchor\" id=\"5.TS\"></a> 6. Time Series / Exploratory Analysis"
   ]
  },
  {
   "cell_type": "markdown",
   "metadata": {},
   "source": [
    "### 6.1. <a class=\"anchor\" id=\"5.1.Q1\"></a> Analysis-1: \n",
    "### Focus on complaints for “Loud Music / Party”. Create a graph of the rate of complaints by population over time for the city overall and each of the boroughs. Comment on any notable trends."
   ]
  },
  {
   "cell_type": "markdown",
   "metadata": {},
   "source": [
    "#### 6.1.1. Create a subset which has complaint descriptor variable - 'Loud music/Party'"
   ]
  },
  {
   "cell_type": "code",
   "execution_count": 35,
   "metadata": {},
   "outputs": [],
   "source": [
    "Loud_music=df[df['Descriptor'].isin(['Loud Music/Party'])]\n",
    "Loud_music['Incident Zip']= pd.to_numeric(Loud_music['Incident Zip'], errors='coerce') #convert string to numeric\n",
    "Loud_music.shape\n",
    "Loud_music.to_csv('Loud_music.csv', index=False) #saves the above file in csv format"
   ]
  },
  {
   "cell_type": "markdown",
   "metadata": {},
   "source": [
    "#### 6.1.2. Calculate total number of complaints by descriptor by zipcode each month in 2021"
   ]
  },
  {
   "cell_type": "code",
   "execution_count": 36,
   "metadata": {},
   "outputs": [
    {
     "name": "stdout",
     "output_type": "stream",
     "text": [
      "(25473, 5)\n"
     ]
    },
    {
     "data": {
      "text/html": [
       "<div>\n",
       "<style scoped>\n",
       "    .dataframe tbody tr th:only-of-type {\n",
       "        vertical-align: middle;\n",
       "    }\n",
       "\n",
       "    .dataframe tbody tr th {\n",
       "        vertical-align: top;\n",
       "    }\n",
       "\n",
       "    .dataframe thead th {\n",
       "        text-align: right;\n",
       "    }\n",
       "</style>\n",
       "<table border=\"1\" class=\"dataframe\">\n",
       "  <thead>\n",
       "    <tr style=\"text-align: right;\">\n",
       "      <th></th>\n",
       "      <th>Incident Zip</th>\n",
       "      <th>Year_month</th>\n",
       "      <th>Year</th>\n",
       "      <th>Month</th>\n",
       "      <th>num_complaints</th>\n",
       "    </tr>\n",
       "  </thead>\n",
       "  <tbody>\n",
       "    <tr>\n",
       "      <th>0</th>\n",
       "      <td>10466.0</td>\n",
       "      <td>2020-08</td>\n",
       "      <td>2020</td>\n",
       "      <td>8</td>\n",
       "      <td>16766</td>\n",
       "    </tr>\n",
       "    <tr>\n",
       "      <th>1</th>\n",
       "      <td>10466.0</td>\n",
       "      <td>2021-07</td>\n",
       "      <td>2021</td>\n",
       "      <td>7</td>\n",
       "      <td>14477</td>\n",
       "    </tr>\n",
       "    <tr>\n",
       "      <th>2</th>\n",
       "      <td>10466.0</td>\n",
       "      <td>2020-09</td>\n",
       "      <td>2020</td>\n",
       "      <td>9</td>\n",
       "      <td>13779</td>\n",
       "    </tr>\n",
       "    <tr>\n",
       "      <th>3</th>\n",
       "      <td>10466.0</td>\n",
       "      <td>2020-07</td>\n",
       "      <td>2020</td>\n",
       "      <td>7</td>\n",
       "      <td>12049</td>\n",
       "    </tr>\n",
       "    <tr>\n",
       "      <th>4</th>\n",
       "      <td>10466.0</td>\n",
       "      <td>2021-09</td>\n",
       "      <td>2021</td>\n",
       "      <td>9</td>\n",
       "      <td>9195</td>\n",
       "    </tr>\n",
       "  </tbody>\n",
       "</table>\n",
       "</div>"
      ],
      "text/plain": [
       "   Incident Zip Year_month  Year  Month  num_complaints\n",
       "0       10466.0    2020-08  2020      8           16766\n",
       "1       10466.0    2021-07  2021      7           14477\n",
       "2       10466.0    2020-09  2020      9           13779\n",
       "3       10466.0    2020-07  2020      7           12049\n",
       "4       10466.0    2021-09  2021      9            9195"
      ]
     },
     "execution_count": 36,
     "metadata": {},
     "output_type": "execute_result"
    }
   ],
   "source": [
    "#list with frequencies of the complaints\n",
    "LM_total_complaints_freq_all = Loud_music[['Incident Zip','Year_month','Year','Month']].value_counts().tolist() \n",
    "#list with index of zipcodes\n",
    "LM_total_complaints_all = Loud_music[['Incident Zip','Year_month','Year','Month']].value_counts().index.tolist() \n",
    "\n",
    "#convert lists to dataframes\n",
    "LM_total_complaints_freq_all =pd.DataFrame(LM_total_complaints_freq_all, columns=['num_complaints'])\n",
    "LM_total_complaints_all =pd.DataFrame(LM_total_complaints_all, columns=['Incident Zip','Year_month','Year','Month'])\n",
    "\n",
    "#combine dataframes to form one\n",
    "Loud_music2 = pd.concat([LM_total_complaints_all, LM_total_complaints_freq_all], axis=1)\n",
    "print(Loud_music2.shape)\n",
    "Loud_music2.head()"
   ]
  },
  {
   "cell_type": "markdown",
   "metadata": {},
   "source": [
    "#### 6.1.3. Merge Loud music dataset with population & Borough-Zip datasets"
   ]
  },
  {
   "cell_type": "code",
   "execution_count": 145,
   "metadata": {
    "scrolled": true
   },
   "outputs": [
    {
     "data": {
      "text/html": [
       "<div>\n",
       "<style scoped>\n",
       "    .dataframe tbody tr th:only-of-type {\n",
       "        vertical-align: middle;\n",
       "    }\n",
       "\n",
       "    .dataframe tbody tr th {\n",
       "        vertical-align: top;\n",
       "    }\n",
       "\n",
       "    .dataframe thead th {\n",
       "        text-align: right;\n",
       "    }\n",
       "</style>\n",
       "<table border=\"1\" class=\"dataframe\">\n",
       "  <thead>\n",
       "    <tr style=\"text-align: right;\">\n",
       "      <th></th>\n",
       "      <th>Incident Zip</th>\n",
       "      <th>Year_month</th>\n",
       "      <th>Year</th>\n",
       "      <th>Month</th>\n",
       "      <th>num_complaints</th>\n",
       "      <th>Population</th>\n",
       "      <th>Borough</th>\n",
       "    </tr>\n",
       "  </thead>\n",
       "  <tbody>\n",
       "    <tr>\n",
       "      <th>0</th>\n",
       "      <td>10466.0</td>\n",
       "      <td>2020-08</td>\n",
       "      <td>2020</td>\n",
       "      <td>8</td>\n",
       "      <td>16766</td>\n",
       "      <td>67813.0</td>\n",
       "      <td>BRONX</td>\n",
       "    </tr>\n",
       "    <tr>\n",
       "      <th>1</th>\n",
       "      <td>10466.0</td>\n",
       "      <td>2021-07</td>\n",
       "      <td>2021</td>\n",
       "      <td>7</td>\n",
       "      <td>14477</td>\n",
       "      <td>67813.0</td>\n",
       "      <td>BRONX</td>\n",
       "    </tr>\n",
       "    <tr>\n",
       "      <th>2</th>\n",
       "      <td>10466.0</td>\n",
       "      <td>2020-09</td>\n",
       "      <td>2020</td>\n",
       "      <td>9</td>\n",
       "      <td>13779</td>\n",
       "      <td>67813.0</td>\n",
       "      <td>BRONX</td>\n",
       "    </tr>\n",
       "    <tr>\n",
       "      <th>3</th>\n",
       "      <td>10466.0</td>\n",
       "      <td>2020-07</td>\n",
       "      <td>2020</td>\n",
       "      <td>7</td>\n",
       "      <td>12049</td>\n",
       "      <td>67813.0</td>\n",
       "      <td>BRONX</td>\n",
       "    </tr>\n",
       "    <tr>\n",
       "      <th>4</th>\n",
       "      <td>10466.0</td>\n",
       "      <td>2021-09</td>\n",
       "      <td>2021</td>\n",
       "      <td>9</td>\n",
       "      <td>9195</td>\n",
       "      <td>67813.0</td>\n",
       "      <td>BRONX</td>\n",
       "    </tr>\n",
       "  </tbody>\n",
       "</table>\n",
       "</div>"
      ],
      "text/plain": [
       "   Incident Zip Year_month  Year  Month  num_complaints  Population Borough\n",
       "0       10466.0    2020-08  2020      8           16766     67813.0   BRONX\n",
       "1       10466.0    2021-07  2021      7           14477     67813.0   BRONX\n",
       "2       10466.0    2020-09  2020      9           13779     67813.0   BRONX\n",
       "3       10466.0    2020-07  2020      7           12049     67813.0   BRONX\n",
       "4       10466.0    2021-09  2021      9            9195     67813.0   BRONX"
      ]
     },
     "execution_count": 145,
     "metadata": {},
     "output_type": "execute_result"
    }
   ],
   "source": [
    "Loud_music3=Loud_music2.merge(pop, on='Incident Zip', how='left')\n",
    "Loud_music4=Loud_music3.merge(Borough_Zip, on='Incident Zip', how='left') #Left join merge\n",
    "Loud_music4=Loud_music4.dropna() \n",
    "Loud_music4.head()"
   ]
  },
  {
   "cell_type": "markdown",
   "metadata": {},
   "source": [
    "#### 6.1.4. Create complaint-index variable & complaint-rate variable to form dataset by borough"
   ]
  },
  {
   "cell_type": "code",
   "execution_count": 136,
   "metadata": {},
   "outputs": [
    {
     "data": {
      "text/html": [
       "<div>\n",
       "<style scoped>\n",
       "    .dataframe tbody tr th:only-of-type {\n",
       "        vertical-align: middle;\n",
       "    }\n",
       "\n",
       "    .dataframe tbody tr th {\n",
       "        vertical-align: top;\n",
       "    }\n",
       "\n",
       "    .dataframe thead th {\n",
       "        text-align: right;\n",
       "    }\n",
       "</style>\n",
       "<table border=\"1\" class=\"dataframe\">\n",
       "  <thead>\n",
       "    <tr style=\"text-align: right;\">\n",
       "      <th></th>\n",
       "      <th>Borough</th>\n",
       "      <th>Year_month</th>\n",
       "      <th>Month</th>\n",
       "      <th>Year</th>\n",
       "      <th>num_complaints</th>\n",
       "      <th>Population</th>\n",
       "      <th>complaint_index</th>\n",
       "      <th>complaint_index_1</th>\n",
       "      <th>complaint_rate</th>\n",
       "    </tr>\n",
       "  </thead>\n",
       "  <tbody>\n",
       "    <tr>\n",
       "      <th>0</th>\n",
       "      <td>BRONX</td>\n",
       "      <td>2010-01</td>\n",
       "      <td>1</td>\n",
       "      <td>2010</td>\n",
       "      <td>2335</td>\n",
       "      <td>1828343.0</td>\n",
       "      <td>0.001277</td>\n",
       "      <td>NaN</td>\n",
       "      <td>NaN</td>\n",
       "    </tr>\n",
       "    <tr>\n",
       "      <th>1</th>\n",
       "      <td>BRONX</td>\n",
       "      <td>2010-02</td>\n",
       "      <td>2</td>\n",
       "      <td>2010</td>\n",
       "      <td>2200</td>\n",
       "      <td>1828343.0</td>\n",
       "      <td>0.001203</td>\n",
       "      <td>0.001277</td>\n",
       "      <td>-0.057816</td>\n",
       "    </tr>\n",
       "    <tr>\n",
       "      <th>2</th>\n",
       "      <td>BRONX</td>\n",
       "      <td>2010-03</td>\n",
       "      <td>3</td>\n",
       "      <td>2010</td>\n",
       "      <td>2165</td>\n",
       "      <td>1805421.0</td>\n",
       "      <td>0.001199</td>\n",
       "      <td>0.001203</td>\n",
       "      <td>-0.003415</td>\n",
       "    </tr>\n",
       "    <tr>\n",
       "      <th>3</th>\n",
       "      <td>BRONX</td>\n",
       "      <td>2010-04</td>\n",
       "      <td>4</td>\n",
       "      <td>2010</td>\n",
       "      <td>2614</td>\n",
       "      <td>1828343.0</td>\n",
       "      <td>0.001430</td>\n",
       "      <td>0.001199</td>\n",
       "      <td>0.192253</td>\n",
       "    </tr>\n",
       "    <tr>\n",
       "      <th>4</th>\n",
       "      <td>BRONX</td>\n",
       "      <td>2010-05</td>\n",
       "      <td>5</td>\n",
       "      <td>2010</td>\n",
       "      <td>2780</td>\n",
       "      <td>1828343.0</td>\n",
       "      <td>0.001521</td>\n",
       "      <td>0.001430</td>\n",
       "      <td>0.063504</td>\n",
       "    </tr>\n",
       "  </tbody>\n",
       "</table>\n",
       "</div>"
      ],
      "text/plain": [
       "  Borough Year_month  Month  Year  num_complaints  Population  \\\n",
       "0   BRONX    2010-01      1  2010            2335   1828343.0   \n",
       "1   BRONX    2010-02      2  2010            2200   1828343.0   \n",
       "2   BRONX    2010-03      3  2010            2165   1805421.0   \n",
       "3   BRONX    2010-04      4  2010            2614   1828343.0   \n",
       "4   BRONX    2010-05      5  2010            2780   1828343.0   \n",
       "\n",
       "   complaint_index  complaint_index_1  complaint_rate  \n",
       "0         0.001277                NaN             NaN  \n",
       "1         0.001203           0.001277       -0.057816  \n",
       "2         0.001199           0.001203       -0.003415  \n",
       "3         0.001430           0.001199        0.192253  \n",
       "4         0.001521           0.001430        0.063504  "
      ]
     },
     "execution_count": 136,
     "metadata": {},
     "output_type": "execute_result"
    }
   ],
   "source": [
    "#aggregating num_complaints and population by borough, month, year\n",
    "Loud_music5=Loud_music4.groupby(['Borough','Year_month','Month','Year'])[['num_complaints','Population']].sum()\n",
    "\n",
    "#complaint-index variable\n",
    "Loud_music5['complaint_index']=Loud_music5['num_complaints']/Loud_music5['Population']\n",
    "\n",
    "#adding lag of complaint_index variable by zipcode by month\n",
    "Loud_music5['complaint_index_1']=Loud_music5.sort_values(['Borough','Year_month','Month','Year'],ascending=True)['complaint_index'].shift(1)\n",
    "\n",
    "#add complaint-rate variable which is the growth rate in complaint index\n",
    "#complaint-rate=(change in complaints index from last month to the current month)/(last month complaint index)\n",
    "Loud_music5['complaint_rate']=(Loud_music5['complaint_index']-Loud_music5['complaint_index_1'])/Loud_music5['complaint_index_1']\n",
    "\n",
    "Loud_music5 = Loud_music5.sort_values(['Borough','Year_month','Month','Year'],ascending=True) #sort by group\n",
    "Loud_music5.reset_index(inplace=True) #converts labels to column\n",
    "Loud_music5.head()"
   ]
  },
  {
   "cell_type": "markdown",
   "metadata": {},
   "source": [
    "#### <a class=\"anchor\" id=\"5.1.5.Fig5\"></a>6.1.5. Monthly plot of complaint-rates by each Borough between 2010 and 2021"
   ]
  },
  {
   "cell_type": "code",
   "execution_count": 137,
   "metadata": {
    "scrolled": false
   },
   "outputs": [
    {
     "data": {
      "image/png": "[encoded data removed]",
      "text/plain": [
       "<Figure size 1080x576 with 1 Axes>"
      ]
     },
     "metadata": {
      "needs_background": "light"
     },
     "output_type": "display_data"
    }
   ],
   "source": [
    "fig, ax = plt.subplots(figsize=(15,8))\n",
    "\n",
    "for name, group in Loud_music5.groupby('Borough'):\n",
    "    group.plot(x='Year_month', y='complaint_rate', ax=ax, label=name)\n",
    "\n",
    "plt.xlabel('Calendar Year-Month')\n",
    "plt.ylabel('Complaint rate')\n",
    "plt.legend(title = \"Borough\")\n",
    "plt.title(\"Monthly complaint-rates by each Borough between 2010 and 2021\") \n",
    "plt.show()"
   ]
  },
  {
   "cell_type": "markdown",
   "metadata": {},
   "source": [
    "#### 6.1.6. Create complaint-index variable & complaint-rate variable to form dataset for the entire city"
   ]
  },
  {
   "cell_type": "code",
   "execution_count": 138,
   "metadata": {},
   "outputs": [
    {
     "data": {
      "text/html": [
       "<div>\n",
       "<style scoped>\n",
       "    .dataframe tbody tr th:only-of-type {\n",
       "        vertical-align: middle;\n",
       "    }\n",
       "\n",
       "    .dataframe tbody tr th {\n",
       "        vertical-align: top;\n",
       "    }\n",
       "\n",
       "    .dataframe thead th {\n",
       "        text-align: right;\n",
       "    }\n",
       "</style>\n",
       "<table border=\"1\" class=\"dataframe\">\n",
       "  <thead>\n",
       "    <tr style=\"text-align: right;\">\n",
       "      <th></th>\n",
       "      <th>Year_month</th>\n",
       "      <th>Month</th>\n",
       "      <th>Year</th>\n",
       "      <th>num_complaints</th>\n",
       "      <th>Population</th>\n",
       "      <th>complaint_index</th>\n",
       "      <th>complaint_index_1</th>\n",
       "      <th>complaint_rate</th>\n",
       "    </tr>\n",
       "  </thead>\n",
       "  <tbody>\n",
       "    <tr>\n",
       "      <th>0</th>\n",
       "      <td>2010-01</td>\n",
       "      <td>1</td>\n",
       "      <td>2010</td>\n",
       "      <td>8669</td>\n",
       "      <td>9629926.0</td>\n",
       "      <td>0.000900</td>\n",
       "      <td>NaN</td>\n",
       "      <td>NaN</td>\n",
       "    </tr>\n",
       "    <tr>\n",
       "      <th>1</th>\n",
       "      <td>2010-02</td>\n",
       "      <td>2</td>\n",
       "      <td>2010</td>\n",
       "      <td>8306</td>\n",
       "      <td>9607727.0</td>\n",
       "      <td>0.000865</td>\n",
       "      <td>0.000900</td>\n",
       "      <td>-0.039660</td>\n",
       "    </tr>\n",
       "    <tr>\n",
       "      <th>2</th>\n",
       "      <td>2010-03</td>\n",
       "      <td>3</td>\n",
       "      <td>2010</td>\n",
       "      <td>8570</td>\n",
       "      <td>9563464.0</td>\n",
       "      <td>0.000896</td>\n",
       "      <td>0.000865</td>\n",
       "      <td>0.036560</td>\n",
       "    </tr>\n",
       "    <tr>\n",
       "      <th>3</th>\n",
       "      <td>2010-04</td>\n",
       "      <td>4</td>\n",
       "      <td>2010</td>\n",
       "      <td>10741</td>\n",
       "      <td>9628868.0</td>\n",
       "      <td>0.001115</td>\n",
       "      <td>0.000896</td>\n",
       "      <td>0.244812</td>\n",
       "    </tr>\n",
       "    <tr>\n",
       "      <th>4</th>\n",
       "      <td>2010-05</td>\n",
       "      <td>5</td>\n",
       "      <td>2010</td>\n",
       "      <td>13464</td>\n",
       "      <td>9641043.0</td>\n",
       "      <td>0.001397</td>\n",
       "      <td>0.001115</td>\n",
       "      <td>0.251932</td>\n",
       "    </tr>\n",
       "  </tbody>\n",
       "</table>\n",
       "</div>"
      ],
      "text/plain": [
       "  Year_month  Month  Year  num_complaints  Population  complaint_index  \\\n",
       "0    2010-01      1  2010            8669   9629926.0         0.000900   \n",
       "1    2010-02      2  2010            8306   9607727.0         0.000865   \n",
       "2    2010-03      3  2010            8570   9563464.0         0.000896   \n",
       "3    2010-04      4  2010           10741   9628868.0         0.001115   \n",
       "4    2010-05      5  2010           13464   9641043.0         0.001397   \n",
       "\n",
       "   complaint_index_1  complaint_rate  \n",
       "0                NaN             NaN  \n",
       "1           0.000900       -0.039660  \n",
       "2           0.000865        0.036560  \n",
       "3           0.000896        0.244812  \n",
       "4           0.001115        0.251932  "
      ]
     },
     "execution_count": 138,
     "metadata": {},
     "output_type": "execute_result"
    }
   ],
   "source": [
    "#aggregating num_complaints and population by borough, month, year\n",
    "Loud_music6=Loud_music4.groupby(['Year_month','Month','Year'])[['num_complaints','Population']].sum()\n",
    "\n",
    "#complaint-index variable\n",
    "Loud_music6['complaint_index']=Loud_music6['num_complaints']/Loud_music6['Population']\n",
    "\n",
    "#adding lag of complaint_index variable by zipcode by month\n",
    "Loud_music6['complaint_index_1']=Loud_music6.sort_values(['Year_month','Month','Year'],ascending=True)['complaint_index'].shift(1)\n",
    "\n",
    "#add complaint-rate variable which is the growth rate in complaint index\n",
    "#complaint-rate=(change in complaints index from last month to the current month)/(last month complaint index)\n",
    "Loud_music6['complaint_rate']=(Loud_music6['complaint_index']-Loud_music6['complaint_index_1'])/Loud_music6['complaint_index_1']\n",
    "\n",
    "Loud_music6 = Loud_music6.sort_values(['Year_month','Month','Year'],ascending=True) #sort by group\n",
    "Loud_music6.reset_index(inplace=True) #converts labels to column\n",
    "\n",
    "Loud_music6.head()"
   ]
  },
  {
   "cell_type": "markdown",
   "metadata": {},
   "source": [
    "#### <a class=\"anchor\" id=\"5.1.7.Fig6\"></a> 6.1.7. Monthly plot of complaint-rates for NYC between 2010 and 2021"
   ]
  },
  {
   "cell_type": "code",
   "execution_count": 139,
   "metadata": {},
   "outputs": [
    {
     "data": {
      "image/png": "[encoded data removed]",
      "text/plain": [
       "<Figure size 1080x576 with 1 Axes>"
      ]
     },
     "metadata": {
      "needs_background": "light"
     },
     "output_type": "display_data"
    }
   ],
   "source": [
    "fig, ax = plt.subplots(figsize=(15,8))\n",
    "\n",
    "Loud_music6.plot(x='Year_month', y='complaint_rate', ax=ax)\n",
    "\n",
    "plt.xlabel('Calendar Year-Month')\n",
    "plt.ylabel('Complaint rate')\n",
    "plt.title(\"Monthly complaint-rate for NYC between 2010 and 2021\") \n",
    "plt.show()"
   ]
  },
  {
   "cell_type": "markdown",
   "metadata": {},
   "source": [
    "<a class=\"anchor\" id=\"comment5\"></a> From the above two plots, the series appear to be mean reverting with notable peaks in the month of May each year across all the boroughs and NYC as a whole. The complaint-rates have gone up leading to the month of May followed by a decline in the following months. This could be because people start to go outdoors or have more fun at the beginning of summers after long snowy/gloomy winters, and the complaints related to noise and illegal parking have gone up significantly in the month of May. I plot the same plot below between the years 2019 and 2021 to portray a much clearer picture."
   ]
  },
  {
   "cell_type": "code",
   "execution_count": 140,
   "metadata": {
    "scrolled": false
   },
   "outputs": [
    {
     "data": {
      "image/png": "[encoded data removed]",
      "text/plain": [
       "<Figure size 1080x576 with 1 Axes>"
      ]
     },
     "metadata": {
      "needs_background": "light"
     },
     "output_type": "display_data"
    }
   ],
   "source": [
    "fig, ax = plt.subplots(figsize=(15,8))\n",
    "\n",
    "Loud_music6[Loud_music6['Year'].isin([2019,2020,2021])].plot(x='Year_month', y='complaint_rate', ax=ax)\n",
    "\n",
    "plt.xlabel('Calendar Year-Month')\n",
    "plt.ylabel('Complaint rate')\n",
    "plt.title(\"Monthly complaint-rate for NYC between 2010 and 2021\") \n",
    "plt.show()"
   ]
  },
  {
   "cell_type": "markdown",
   "metadata": {},
   "source": [
    "  "
   ]
  },
  {
   "cell_type": "markdown",
   "metadata": {},
   "source": [
    "## <a class=\"anchor\" id=\"5.2.Q2\"></a> 6.2. Analysis-2: Which zip codes have shown the largest increase in these complaints over time? Develop some filter to make sure that the growth rates aren’t merely an artifact of low volumes."
   ]
  },
  {
   "cell_type": "markdown",
   "metadata": {},
   "source": [
    "#### 6.2.1. Create complaint-index variable & complaint-rate variable by zipcode by each month between 2010 and 2021"
   ]
  },
  {
   "cell_type": "code",
   "execution_count": 219,
   "metadata": {},
   "outputs": [
    {
     "data": {
      "text/html": [
       "<div>\n",
       "<style scoped>\n",
       "    .dataframe tbody tr th:only-of-type {\n",
       "        vertical-align: middle;\n",
       "    }\n",
       "\n",
       "    .dataframe tbody tr th {\n",
       "        vertical-align: top;\n",
       "    }\n",
       "\n",
       "    .dataframe thead th {\n",
       "        text-align: right;\n",
       "    }\n",
       "</style>\n",
       "<table border=\"1\" class=\"dataframe\">\n",
       "  <thead>\n",
       "    <tr style=\"text-align: right;\">\n",
       "      <th></th>\n",
       "      <th>index</th>\n",
       "      <th>Incident Zip</th>\n",
       "      <th>Year_month</th>\n",
       "      <th>Year</th>\n",
       "      <th>Month</th>\n",
       "      <th>num_complaints</th>\n",
       "      <th>Population</th>\n",
       "      <th>Borough</th>\n",
       "      <th>complaint_index</th>\n",
       "      <th>complaint_index_1</th>\n",
       "      <th>complaint_rate</th>\n",
       "    </tr>\n",
       "  </thead>\n",
       "  <tbody>\n",
       "    <tr>\n",
       "      <th>0</th>\n",
       "      <td>20257</td>\n",
       "      <td>10001.0</td>\n",
       "      <td>2010-01</td>\n",
       "      <td>2010</td>\n",
       "      <td>1</td>\n",
       "      <td>31</td>\n",
       "      <td>21102.0</td>\n",
       "      <td>MANHATTAN</td>\n",
       "      <td>0.001469</td>\n",
       "      <td>NaN</td>\n",
       "      <td>NaN</td>\n",
       "    </tr>\n",
       "    <tr>\n",
       "      <th>1</th>\n",
       "      <td>21308</td>\n",
       "      <td>10001.0</td>\n",
       "      <td>2010-02</td>\n",
       "      <td>2010</td>\n",
       "      <td>2</td>\n",
       "      <td>27</td>\n",
       "      <td>21102.0</td>\n",
       "      <td>MANHATTAN</td>\n",
       "      <td>0.001279</td>\n",
       "      <td>0.001469</td>\n",
       "      <td>-0.129032</td>\n",
       "    </tr>\n",
       "    <tr>\n",
       "      <th>2</th>\n",
       "      <td>19561</td>\n",
       "      <td>10001.0</td>\n",
       "      <td>2010-03</td>\n",
       "      <td>2010</td>\n",
       "      <td>3</td>\n",
       "      <td>34</td>\n",
       "      <td>21102.0</td>\n",
       "      <td>MANHATTAN</td>\n",
       "      <td>0.001611</td>\n",
       "      <td>0.001279</td>\n",
       "      <td>0.259259</td>\n",
       "    </tr>\n",
       "    <tr>\n",
       "      <th>3</th>\n",
       "      <td>16568</td>\n",
       "      <td>10001.0</td>\n",
       "      <td>2010-04</td>\n",
       "      <td>2010</td>\n",
       "      <td>4</td>\n",
       "      <td>49</td>\n",
       "      <td>21102.0</td>\n",
       "      <td>MANHATTAN</td>\n",
       "      <td>0.002322</td>\n",
       "      <td>0.001611</td>\n",
       "      <td>0.441176</td>\n",
       "    </tr>\n",
       "    <tr>\n",
       "      <th>4</th>\n",
       "      <td>19499</td>\n",
       "      <td>10001.0</td>\n",
       "      <td>2010-05</td>\n",
       "      <td>2010</td>\n",
       "      <td>5</td>\n",
       "      <td>35</td>\n",
       "      <td>21102.0</td>\n",
       "      <td>MANHATTAN</td>\n",
       "      <td>0.001659</td>\n",
       "      <td>0.002322</td>\n",
       "      <td>-0.285714</td>\n",
       "    </tr>\n",
       "  </tbody>\n",
       "</table>\n",
       "</div>"
      ],
      "text/plain": [
       "   index  Incident Zip Year_month  Year  Month  num_complaints  Population  \\\n",
       "0  20257       10001.0    2010-01  2010      1              31     21102.0   \n",
       "1  21308       10001.0    2010-02  2010      2              27     21102.0   \n",
       "2  19561       10001.0    2010-03  2010      3              34     21102.0   \n",
       "3  16568       10001.0    2010-04  2010      4              49     21102.0   \n",
       "4  19499       10001.0    2010-05  2010      5              35     21102.0   \n",
       "\n",
       "     Borough  complaint_index  complaint_index_1  complaint_rate  \n",
       "0  MANHATTAN         0.001469                NaN             NaN  \n",
       "1  MANHATTAN         0.001279           0.001469       -0.129032  \n",
       "2  MANHATTAN         0.001611           0.001279        0.259259  \n",
       "3  MANHATTAN         0.002322           0.001611        0.441176  \n",
       "4  MANHATTAN         0.001659           0.002322       -0.285714  "
      ]
     },
     "execution_count": 219,
     "metadata": {},
     "output_type": "execute_result"
    }
   ],
   "source": [
    "Loud_music8=Loud_music4.copy()\n",
    "\n",
    "#complaint-index variable\n",
    "Loud_music8['complaint_index']=Loud_music8['num_complaints']/Loud_music8['Population']\n",
    "\n",
    "#adding lag of complaint_index variable by zipcode by month\n",
    "Loud_music8['complaint_index_1']=Loud_music8.sort_values(['Incident Zip','Year_month','Month','Year'],ascending=True)['complaint_index'].shift(1)\n",
    "\n",
    "#add complaint-rate variable which is the growth rate in complaint index\n",
    "#complaint-rate=(change in complaints index from last month to the current month)/(last month complaint index)\n",
    "Loud_music8['complaint_rate']=(Loud_music8['complaint_index']-Loud_music8['complaint_index_1'])/Loud_music8['complaint_index_1']\n",
    "\n",
    "Loud_music8 = Loud_music8.sort_values(['Incident Zip','Year_month','Month','Year'],ascending=True) #sort by group\n",
    "Loud_music8.reset_index(inplace=True) #converts labels to column\n",
    "#Loud_music8=Loud_music8[Loud_music8['borough'].isin(Borough)]\n",
    "Loud_music8.head()"
   ]
  },
  {
   "cell_type": "markdown",
   "metadata": {},
   "source": [
    "#### 6.2.1.2. Estimating mean of complaint-rates between 2010 and 2021 by zipcode"
   ]
  },
  {
   "cell_type": "markdown",
   "metadata": {},
   "source": [
    "I estimate the means of complaint rates by zip code to check which zip codes have higher average growth rate"
   ]
  },
  {
   "cell_type": "code",
   "execution_count": 220,
   "metadata": {},
   "outputs": [],
   "source": [
    "Loud_music9=Loud_music8.groupby(['Incident Zip','Population'])[['num_complaints','complaint_index','complaint_rate']].mean()\n",
    "Loud_music9.reset_index(inplace=True) #converts labels to column\n",
    "Loud_music9 = Loud_music9.sort_values(['complaint_rate'],ascending=False) #sort by complaint_rate\n",
    "Loud_music9a = Loud_music9[:20] #20 largest zipcodes in terms of the increase in complaints over 6 months in 2021"
   ]
  },
  {
   "cell_type": "markdown",
   "metadata": {},
   "source": [
    "#### <a class=\"anchor\" id=\"5.2.2.Fig6\"></a> 6.2.2. Scatter plot of Complaint rate vs Complaint Index at Zipcode level between 2010 and 2021 "
   ]
  },
  {
   "cell_type": "markdown",
   "metadata": {},
   "source": [
    "I then plot the scatter plot to look for anomalies/outliers either in complaint rates or complaint index or population"
   ]
  },
  {
   "cell_type": "code",
   "execution_count": 221,
   "metadata": {
    "scrolled": false
   },
   "outputs": [
    {
     "data": {
      "image/png": "[encoded data removed]",
      "text/plain": [
       "<Figure size 864x432 with 1 Axes>"
      ]
     },
     "metadata": {
      "needs_background": "light"
     },
     "output_type": "display_data"
    }
   ],
   "source": [
    "fig, ax = plt.subplots(figsize=(12,6))\n",
    "ax.scatter(Loud_music8['complaint_rate'],Loud_music8['complaint_index'])\n",
    "ax.set_xlabel('Complaint rate')\n",
    "ax.set_ylabel('Complaint index')\n",
    "plt.title(\"Complaint rate vs Complaint Index at Zipcode level between 2010 and 2021\")\n",
    "plt.show()"
   ]
  },
  {
   "cell_type": "markdown",
   "metadata": {},
   "source": [
    "<a class=\"anchor\" id=\"comment6\"></a> From the above scatter plot, there are a few outliers (too far from the cluster), wherein the complaint index (number of complaints to population ratio) is low but complaint rates (rate of change of complaint index) are high, and vice versa. Hence, I winsorize the extreme 10 percentile values of the variables - population, number of complaints, and complaint index variables below to eliminate these outliers (meaning, replace observations less than 10 and greater than 90 percentile values with 10 and 90 values respectively)."
   ]
  },
  {
   "cell_type": "markdown",
   "metadata": {},
   "source": [
    "#### 6.2.2.1. Print 10 and 90 percentile values"
   ]
  },
  {
   "cell_type": "code",
   "execution_count": 222,
   "metadata": {},
   "outputs": [
    {
     "name": "stdout",
     "output_type": "stream",
     "text": [
      "17823.0\n",
      "87757.0\n",
      "9.0\n",
      "252.0\n"
     ]
    }
   ],
   "source": [
    "print(Loud_music8['Population'].quantile(0.10))\n",
    "print(Loud_music8['Population'].quantile(0.90))\n",
    "print(Loud_music8['num_complaints'].quantile(0.10))\n",
    "print(Loud_music8['num_complaints'].quantile(0.90))"
   ]
  },
  {
   "cell_type": "markdown",
   "metadata": {},
   "source": [
    "#### 6.2.2.2. Winsorize the variables - complaint index and complaint rate"
   ]
  },
  {
   "cell_type": "code",
   "execution_count": 223,
   "metadata": {},
   "outputs": [],
   "source": [
    "Loud_music8['Population'] = np.where(Loud_music8['Population'] <17823.0, 17823.0,Loud_music8['Population'])\n",
    "Loud_music8['Population'] = np.where(Loud_music8['Population'] >87757.0, 87757.0,Loud_music8['Population'])\n",
    "Loud_music8['num_complaints'] = np.where(Loud_music8['num_complaints'] <9.0, 9.0,Loud_music8['num_complaints'])\n",
    "Loud_music8['num_complaints'] = np.where(Loud_music8['num_complaints'] >252.0, 252.0,Loud_music8['num_complaints'])"
   ]
  },
  {
   "cell_type": "markdown",
   "metadata": {},
   "source": [
    "#### 6.2.3. Post winsorization, create complaint-index variable by zipcode by each month between 2010 and 2021"
   ]
  },
  {
   "cell_type": "code",
   "execution_count": 224,
   "metadata": {
    "scrolled": true
   },
   "outputs": [],
   "source": [
    "#complaint-index variable\n",
    "Loud_music8['complaint_index']=Loud_music8['num_complaints']/Loud_music8['Population']"
   ]
  },
  {
   "cell_type": "markdown",
   "metadata": {},
   "source": [
    "#### 6.2.3.1. Winsorize complaint index variable"
   ]
  },
  {
   "cell_type": "code",
   "execution_count": 225,
   "metadata": {
    "scrolled": true
   },
   "outputs": [
    {
     "name": "stdout",
     "output_type": "stream",
     "text": [
      "0.00043577981651376146\n",
      "0.003871388199923732\n"
     ]
    }
   ],
   "source": [
    "print(Loud_music8['complaint_index'].quantile(0.10))\n",
    "print(Loud_music8['complaint_index'].quantile(0.90))"
   ]
  },
  {
   "cell_type": "code",
   "execution_count": 231,
   "metadata": {},
   "outputs": [
    {
     "data": {
      "text/html": [
       "<div>\n",
       "<style scoped>\n",
       "    .dataframe tbody tr th:only-of-type {\n",
       "        vertical-align: middle;\n",
       "    }\n",
       "\n",
       "    .dataframe tbody tr th {\n",
       "        vertical-align: top;\n",
       "    }\n",
       "\n",
       "    .dataframe thead th {\n",
       "        text-align: right;\n",
       "    }\n",
       "</style>\n",
       "<table border=\"1\" class=\"dataframe\">\n",
       "  <thead>\n",
       "    <tr style=\"text-align: right;\">\n",
       "      <th></th>\n",
       "      <th>index</th>\n",
       "      <th>Incident Zip</th>\n",
       "      <th>Year_month</th>\n",
       "      <th>Year</th>\n",
       "      <th>Month</th>\n",
       "      <th>num_complaints</th>\n",
       "      <th>Population</th>\n",
       "      <th>Borough</th>\n",
       "      <th>complaint_index</th>\n",
       "      <th>complaint_index_1</th>\n",
       "      <th>complaint_rate</th>\n",
       "    </tr>\n",
       "  </thead>\n",
       "  <tbody>\n",
       "    <tr>\n",
       "      <th>0</th>\n",
       "      <td>20257</td>\n",
       "      <td>10001.0</td>\n",
       "      <td>2010-01</td>\n",
       "      <td>2010</td>\n",
       "      <td>1</td>\n",
       "      <td>31.0</td>\n",
       "      <td>21102.0</td>\n",
       "      <td>MANHATTAN</td>\n",
       "      <td>0.001469</td>\n",
       "      <td>NaN</td>\n",
       "      <td>NaN</td>\n",
       "    </tr>\n",
       "    <tr>\n",
       "      <th>1</th>\n",
       "      <td>21308</td>\n",
       "      <td>10001.0</td>\n",
       "      <td>2010-02</td>\n",
       "      <td>2010</td>\n",
       "      <td>2</td>\n",
       "      <td>27.0</td>\n",
       "      <td>21102.0</td>\n",
       "      <td>MANHATTAN</td>\n",
       "      <td>0.001279</td>\n",
       "      <td>0.001469</td>\n",
       "      <td>-0.129032</td>\n",
       "    </tr>\n",
       "    <tr>\n",
       "      <th>2</th>\n",
       "      <td>19561</td>\n",
       "      <td>10001.0</td>\n",
       "      <td>2010-03</td>\n",
       "      <td>2010</td>\n",
       "      <td>3</td>\n",
       "      <td>34.0</td>\n",
       "      <td>21102.0</td>\n",
       "      <td>MANHATTAN</td>\n",
       "      <td>0.001611</td>\n",
       "      <td>0.001279</td>\n",
       "      <td>0.259259</td>\n",
       "    </tr>\n",
       "    <tr>\n",
       "      <th>3</th>\n",
       "      <td>16568</td>\n",
       "      <td>10001.0</td>\n",
       "      <td>2010-04</td>\n",
       "      <td>2010</td>\n",
       "      <td>4</td>\n",
       "      <td>49.0</td>\n",
       "      <td>21102.0</td>\n",
       "      <td>MANHATTAN</td>\n",
       "      <td>0.002322</td>\n",
       "      <td>0.001611</td>\n",
       "      <td>0.441176</td>\n",
       "    </tr>\n",
       "    <tr>\n",
       "      <th>4</th>\n",
       "      <td>19499</td>\n",
       "      <td>10001.0</td>\n",
       "      <td>2010-05</td>\n",
       "      <td>2010</td>\n",
       "      <td>5</td>\n",
       "      <td>35.0</td>\n",
       "      <td>21102.0</td>\n",
       "      <td>MANHATTAN</td>\n",
       "      <td>0.001659</td>\n",
       "      <td>0.002322</td>\n",
       "      <td>-0.285714</td>\n",
       "    </tr>\n",
       "  </tbody>\n",
       "</table>\n",
       "</div>"
      ],
      "text/plain": [
       "   index  Incident Zip Year_month  Year  Month  num_complaints  Population  \\\n",
       "0  20257       10001.0    2010-01  2010      1            31.0     21102.0   \n",
       "1  21308       10001.0    2010-02  2010      2            27.0     21102.0   \n",
       "2  19561       10001.0    2010-03  2010      3            34.0     21102.0   \n",
       "3  16568       10001.0    2010-04  2010      4            49.0     21102.0   \n",
       "4  19499       10001.0    2010-05  2010      5            35.0     21102.0   \n",
       "\n",
       "     Borough  complaint_index  complaint_index_1  complaint_rate  \n",
       "0  MANHATTAN         0.001469                NaN             NaN  \n",
       "1  MANHATTAN         0.001279           0.001469       -0.129032  \n",
       "2  MANHATTAN         0.001611           0.001279        0.259259  \n",
       "3  MANHATTAN         0.002322           0.001611        0.441176  \n",
       "4  MANHATTAN         0.001659           0.002322       -0.285714  "
      ]
     },
     "execution_count": 231,
     "metadata": {},
     "output_type": "execute_result"
    }
   ],
   "source": [
    "Loud_music8['complaint_index'] = np.where(Loud_music8['complaint_index'] <0.00044, 0.00044,Loud_music8['complaint_index'])\n",
    "Loud_music8['complaint_index'] = np.where(Loud_music8['complaint_index'] >0.0039, 0.0039,Loud_music8['complaint_index']\n",
    "                                         \n",
    "                                         \n",
    "#adding lag of complaint_index variable by zipcode by month\n",
    "Loud_music8['complaint_index_1']=Loud_music8.sort_values(['Incident Zip','Year_month','Month','Year'],ascending=True)['complaint_index'].shift(1)\n",
    "\n",
    "#add complaint-rate variable which is the growth rate in complaint index\n",
    "#complaint-rate=(change in complaints index from last month to the current month)/(last month complaint index)\n",
    "Loud_music8['complaint_rate']=(Loud_music8['complaint_index']-Loud_music8['complaint_index_1'])/Loud_music8['complaint_index_1']\n",
    "\n",
    "Loud_music8 = Loud_music8.sort_values(['Incident Zip','Year_month','Month','Year'],ascending=True) #sort by group\n",
    "#Loud_music8.reset_index(inplace=True) #converts labels to column\n",
    "#Loud_music8=Loud_music8[Loud_music8['borough'].isin(Borough)]\n",
    "Loud_music8.head()"
   ]
  },
  {
   "cell_type": "markdown",
   "metadata": {},
   "source": [
    "#### 6.2.3.2. Scatter plot of Complaint rate vs Complaint Index at Zipcode level between 2010 and 2021 -- after winsorization"
   ]
  },
  {
   "cell_type": "markdown",
   "metadata": {},
   "source": [
    "This is to make sure that there are no outliers"
   ]
  },
  {
   "cell_type": "code",
   "execution_count": 232,
   "metadata": {},
   "outputs": [
    {
     "data": {
      "image/png": "[encoded data removed]",
      "text/plain": [
       "<Figure size 864x432 with 1 Axes>"
      ]
     },
     "metadata": {
      "needs_background": "light"
     },
     "output_type": "display_data"
    }
   ],
   "source": [
    "fig, ax = plt.subplots(figsize=(12,6))\n",
    "ax.scatter(Loud_music8['complaint_rate'],Loud_music8['complaint_index'])\n",
    "ax.set_xlabel('Complaint rate')\n",
    "ax.set_ylabel('Complaint index')\n",
    "plt.title(\"Complaint rate vs Complaint Index at Zipcode level between 2010 and 2021\")\n",
    "plt.show()"
   ]
  },
  {
   "cell_type": "markdown",
   "metadata": {},
   "source": [
    "<a class=\"anchor\" id=\"comment7\"></a> From the above plot, upon eliminating the outliers, it seems like higher average complaint index values have higher average complaint rates and vice versa. So this is an evidence that growth rates are not just a manifestation of low volumes. I also provide a comparison of average complaint indices and average growth rates for the top 20 zip codes below to reaffirm my conclusion."
   ]
  },
  {
   "cell_type": "code",
   "execution_count": 233,
   "metadata": {},
   "outputs": [],
   "source": [
    "Loud_music9=Loud_music8.groupby(['Incident Zip','Population'])[['num_complaints','complaint_index','complaint_rate']].mean()\n",
    "Loud_music9.reset_index(inplace=True) #converts labels to column\n",
    "Loud_music9 = Loud_music9.sort_values(['complaint_rate'],ascending=False) #sort by complaint_rate\n",
    "Loud_music9b = Loud_music9[:20] #20 largest zipcodes in terms of the increase in complaints over 6 months in 2021"
   ]
  },
  {
   "cell_type": "markdown",
   "metadata": {},
   "source": [
    "#### <a class=\"anchor\" id=\"5.2.3.Tab1\"></a> 6.2.3. Zip codes with highest average complaint growth rates before and after winsorization"
   ]
  },
  {
   "cell_type": "code",
   "execution_count": 234,
   "metadata": {
    "scrolled": false
   },
   "outputs": [
    {
     "data": {
      "text/html": [
       "<th style=\"text-align:center\"><td style=\"vertical-align:top\"><h2>Before winsorization</h2><table style=\"display:inline\" border=\"1\" class=\"dataframe\">\n",
       "  <thead>\n",
       "    <tr style=\"text-align: right;\">\n",
       "      <th></th>\n",
       "      <th>Incident Zip</th>\n",
       "      <th>Population</th>\n",
       "      <th>num_complaints</th>\n",
       "      <th>complaint_index</th>\n",
       "      <th>complaint_rate</th>\n",
       "    </tr>\n",
       "  </thead>\n",
       "  <tbody>\n",
       "    <tr>\n",
       "      <th>45</th>\n",
       "      <td>10165.0</td>\n",
       "      <td>2.0</td>\n",
       "      <td>1.000000</td>\n",
       "      <td>0.500000</td>\n",
       "      <td>841.500000</td>\n",
       "    </tr>\n",
       "    <tr>\n",
       "      <th>41</th>\n",
       "      <td>10103.0</td>\n",
       "      <td>3.0</td>\n",
       "      <td>1.000000</td>\n",
       "      <td>0.333333</td>\n",
       "      <td>131.590909</td>\n",
       "    </tr>\n",
       "    <tr>\n",
       "      <th>92</th>\n",
       "      <td>11096.0</td>\n",
       "      <td>8344.0</td>\n",
       "      <td>1.000000</td>\n",
       "      <td>0.000120</td>\n",
       "      <td>3.887584</td>\n",
       "    </tr>\n",
       "    <tr>\n",
       "      <th>188</th>\n",
       "      <td>11697.0</td>\n",
       "      <td>4079.0</td>\n",
       "      <td>5.000000</td>\n",
       "      <td>0.001226</td>\n",
       "      <td>1.074376</td>\n",
       "    </tr>\n",
       "    <tr>\n",
       "      <th>46</th>\n",
       "      <td>10170.0</td>\n",
       "      <td>2.0</td>\n",
       "      <td>2.000000</td>\n",
       "      <td>1.000000</td>\n",
       "      <td>1.000000</td>\n",
       "    </tr>\n",
       "    <tr>\n",
       "      <th>88</th>\n",
       "      <td>11001.0</td>\n",
       "      <td>26883.0</td>\n",
       "      <td>3.545455</td>\n",
       "      <td>0.000132</td>\n",
       "      <td>0.872583</td>\n",
       "    </tr>\n",
       "    <tr>\n",
       "      <th>48</th>\n",
       "      <td>10280.0</td>\n",
       "      <td>7853.0</td>\n",
       "      <td>3.300971</td>\n",
       "      <td>0.000420</td>\n",
       "      <td>0.665743</td>\n",
       "    </tr>\n",
       "    <tr>\n",
       "      <th>5</th>\n",
       "      <td>10006.0</td>\n",
       "      <td>3011.0</td>\n",
       "      <td>6.544118</td>\n",
       "      <td>0.002173</td>\n",
       "      <td>0.663717</td>\n",
       "    </tr>\n",
       "    <tr>\n",
       "      <th>142</th>\n",
       "      <td>11360.0</td>\n",
       "      <td>18884.0</td>\n",
       "      <td>5.954545</td>\n",
       "      <td>0.000315</td>\n",
       "      <td>0.627924</td>\n",
       "    </tr>\n",
       "    <tr>\n",
       "      <th>3</th>\n",
       "      <td>10004.0</td>\n",
       "      <td>3089.0</td>\n",
       "      <td>6.014815</td>\n",
       "      <td>0.001947</td>\n",
       "      <td>0.596319</td>\n",
       "    </tr>\n",
       "    <tr>\n",
       "      <th>136</th>\n",
       "      <td>11239.0</td>\n",
       "      <td>13393.0</td>\n",
       "      <td>5.205357</td>\n",
       "      <td>0.000389</td>\n",
       "      <td>0.575642</td>\n",
       "    </tr>\n",
       "    <tr>\n",
       "      <th>99</th>\n",
       "      <td>11109.0</td>\n",
       "      <td>3523.0</td>\n",
       "      <td>8.446809</td>\n",
       "      <td>0.002398</td>\n",
       "      <td>0.533544</td>\n",
       "    </tr>\n",
       "    <tr>\n",
       "      <th>161</th>\n",
       "      <td>11411.0</td>\n",
       "      <td>18556.0</td>\n",
       "      <td>17.878571</td>\n",
       "      <td>0.000963</td>\n",
       "      <td>0.532756</td>\n",
       "    </tr>\n",
       "    <tr>\n",
       "      <th>75</th>\n",
       "      <td>10464.0</td>\n",
       "      <td>4534.0</td>\n",
       "      <td>9.961240</td>\n",
       "      <td>0.002197</td>\n",
       "      <td>0.527512</td>\n",
       "    </tr>\n",
       "    <tr>\n",
       "      <th>144</th>\n",
       "      <td>11362.0</td>\n",
       "      <td>17823.0</td>\n",
       "      <td>7.000000</td>\n",
       "      <td>0.000393</td>\n",
       "      <td>0.516196</td>\n",
       "    </tr>\n",
       "    <tr>\n",
       "      <th>148</th>\n",
       "      <td>11366.0</td>\n",
       "      <td>13532.0</td>\n",
       "      <td>33.645390</td>\n",
       "      <td>0.002486</td>\n",
       "      <td>0.514827</td>\n",
       "    </tr>\n",
       "    <tr>\n",
       "      <th>177</th>\n",
       "      <td>11429.0</td>\n",
       "      <td>25105.0</td>\n",
       "      <td>30.148936</td>\n",
       "      <td>0.001201</td>\n",
       "      <td>0.498726</td>\n",
       "    </tr>\n",
       "    <tr>\n",
       "      <th>145</th>\n",
       "      <td>11363.0</td>\n",
       "      <td>6988.0</td>\n",
       "      <td>3.350427</td>\n",
       "      <td>0.000479</td>\n",
       "      <td>0.486330</td>\n",
       "    </tr>\n",
       "    <tr>\n",
       "      <th>4</th>\n",
       "      <td>10005.0</td>\n",
       "      <td>7135.0</td>\n",
       "      <td>14.176056</td>\n",
       "      <td>0.001987</td>\n",
       "      <td>0.458790</td>\n",
       "    </tr>\n",
       "    <tr>\n",
       "      <th>174</th>\n",
       "      <td>11426.0</td>\n",
       "      <td>17590.0</td>\n",
       "      <td>13.237037</td>\n",
       "      <td>0.000753</td>\n",
       "      <td>0.457073</td>\n",
       "    </tr>\n",
       "  </tbody>\n",
       "</table style=\"display:inline\"></td></th><th style=\"text-align:center\"><td style=\"vertical-align:top\"><h2>After winsorization</h2><table style=\"display:inline\" border=\"1\" class=\"dataframe\">\n",
       "  <thead>\n",
       "    <tr style=\"text-align: right;\">\n",
       "      <th></th>\n",
       "      <th>Incident Zip</th>\n",
       "      <th>Population</th>\n",
       "      <th>num_complaints</th>\n",
       "      <th>complaint_index</th>\n",
       "      <th>complaint_rate</th>\n",
       "    </tr>\n",
       "  </thead>\n",
       "  <tbody>\n",
       "    <tr>\n",
       "      <th>92</th>\n",
       "      <td>11096.0</td>\n",
       "      <td>17823.0</td>\n",
       "      <td>9.000000</td>\n",
       "      <td>0.000505</td>\n",
       "      <td>1.288167</td>\n",
       "    </tr>\n",
       "    <tr>\n",
       "      <th>148</th>\n",
       "      <td>11366.0</td>\n",
       "      <td>17823.0</td>\n",
       "      <td>31.865248</td>\n",
       "      <td>0.001788</td>\n",
       "      <td>0.258528</td>\n",
       "    </tr>\n",
       "    <tr>\n",
       "      <th>183</th>\n",
       "      <td>11436.0</td>\n",
       "      <td>17949.0</td>\n",
       "      <td>49.853147</td>\n",
       "      <td>0.002777</td>\n",
       "      <td>0.255423</td>\n",
       "    </tr>\n",
       "    <tr>\n",
       "      <th>87</th>\n",
       "      <td>10803.0</td>\n",
       "      <td>17823.0</td>\n",
       "      <td>9.000000</td>\n",
       "      <td>0.000505</td>\n",
       "      <td>0.215808</td>\n",
       "    </tr>\n",
       "    <tr>\n",
       "      <th>173</th>\n",
       "      <td>11423.0</td>\n",
       "      <td>29987.0</td>\n",
       "      <td>52.979021</td>\n",
       "      <td>0.001767</td>\n",
       "      <td>0.205520</td>\n",
       "    </tr>\n",
       "    <tr>\n",
       "      <th>139</th>\n",
       "      <td>11356.0</td>\n",
       "      <td>23438.0</td>\n",
       "      <td>50.237762</td>\n",
       "      <td>0.002143</td>\n",
       "      <td>0.203291</td>\n",
       "    </tr>\n",
       "    <tr>\n",
       "      <th>162</th>\n",
       "      <td>11412.0</td>\n",
       "      <td>34882.0</td>\n",
       "      <td>51.279720</td>\n",
       "      <td>0.001470</td>\n",
       "      <td>0.198897</td>\n",
       "    </tr>\n",
       "    <tr>\n",
       "      <th>170</th>\n",
       "      <td>11420.0</td>\n",
       "      <td>44354.0</td>\n",
       "      <td>118.608392</td>\n",
       "      <td>0.002674</td>\n",
       "      <td>0.198702</td>\n",
       "    </tr>\n",
       "    <tr>\n",
       "      <th>17</th>\n",
       "      <td>10021.0</td>\n",
       "      <td>43631.0</td>\n",
       "      <td>27.293706</td>\n",
       "      <td>0.000626</td>\n",
       "      <td>0.193532</td>\n",
       "    </tr>\n",
       "    <tr>\n",
       "      <th>177</th>\n",
       "      <td>11429.0</td>\n",
       "      <td>25105.0</td>\n",
       "      <td>31.418440</td>\n",
       "      <td>0.001251</td>\n",
       "      <td>0.190504</td>\n",
       "    </tr>\n",
       "    <tr>\n",
       "      <th>163</th>\n",
       "      <td>11413.0</td>\n",
       "      <td>38912.0</td>\n",
       "      <td>43.405594</td>\n",
       "      <td>0.001115</td>\n",
       "      <td>0.188056</td>\n",
       "    </tr>\n",
       "    <tr>\n",
       "      <th>167</th>\n",
       "      <td>11417.0</td>\n",
       "      <td>28967.0</td>\n",
       "      <td>69.650350</td>\n",
       "      <td>0.002404</td>\n",
       "      <td>0.186859</td>\n",
       "    </tr>\n",
       "    <tr>\n",
       "      <th>176</th>\n",
       "      <td>11428.0</td>\n",
       "      <td>19168.0</td>\n",
       "      <td>33.181818</td>\n",
       "      <td>0.001731</td>\n",
       "      <td>0.179570</td>\n",
       "    </tr>\n",
       "    <tr>\n",
       "      <th>14</th>\n",
       "      <td>10017.0</td>\n",
       "      <td>17823.0</td>\n",
       "      <td>24.223776</td>\n",
       "      <td>0.001359</td>\n",
       "      <td>0.177290</td>\n",
       "    </tr>\n",
       "    <tr>\n",
       "      <th>172</th>\n",
       "      <td>11422.0</td>\n",
       "      <td>30425.0</td>\n",
       "      <td>37.293706</td>\n",
       "      <td>0.001226</td>\n",
       "      <td>0.176450</td>\n",
       "    </tr>\n",
       "    <tr>\n",
       "      <th>34</th>\n",
       "      <td>10038.0</td>\n",
       "      <td>20300.0</td>\n",
       "      <td>32.356643</td>\n",
       "      <td>0.001594</td>\n",
       "      <td>0.175721</td>\n",
       "    </tr>\n",
       "    <tr>\n",
       "      <th>59</th>\n",
       "      <td>10310.0</td>\n",
       "      <td>24962.0</td>\n",
       "      <td>52.034965</td>\n",
       "      <td>0.002085</td>\n",
       "      <td>0.168066</td>\n",
       "    </tr>\n",
       "    <tr>\n",
       "      <th>141</th>\n",
       "      <td>11358.0</td>\n",
       "      <td>37546.0</td>\n",
       "      <td>26.951049</td>\n",
       "      <td>0.000718</td>\n",
       "      <td>0.167607</td>\n",
       "    </tr>\n",
       "    <tr>\n",
       "      <th>51</th>\n",
       "      <td>10302.0</td>\n",
       "      <td>19088.0</td>\n",
       "      <td>31.552448</td>\n",
       "      <td>0.001653</td>\n",
       "      <td>0.166876</td>\n",
       "    </tr>\n",
       "    <tr>\n",
       "      <th>52</th>\n",
       "      <td>10303.0</td>\n",
       "      <td>26337.0</td>\n",
       "      <td>41.573427</td>\n",
       "      <td>0.001579</td>\n",
       "      <td>0.165962</td>\n",
       "    </tr>\n",
       "  </tbody>\n",
       "</table style=\"display:inline\"></td></th>"
      ]
     },
     "metadata": {},
     "output_type": "display_data"
    }
   ],
   "source": [
    "#code to display two pandas dataframes side by side\n",
    "from IPython.display import display_html\n",
    "from itertools import chain,cycle\n",
    "def display_side_by_side(*args,titles=cycle([''])):\n",
    "    html_str=''\n",
    "    for df,title in zip(args, chain(titles,cycle(['</br>'])) ):\n",
    "        html_str+='<th style=\"text-align:center\"><td style=\"vertical-align:top\">'\n",
    "        html_str+=f'<h2>{title}</h2>'\n",
    "        html_str+=df.to_html().replace('table','table style=\"display:inline\"')\n",
    "        html_str+='</td></th>'\n",
    "    display_html(html_str,raw=True)\n",
    "\n",
    "display_side_by_side(Loud_music9a,Loud_music9b,titles=['Before winsorization','After winsorization'])"
   ]
  },
  {
   "cell_type": "markdown",
   "metadata": {},
   "source": [
    "<a class=\"anchor\" id=\"comment8\"></a> From the above datasets, the Incident Zip codes with the highest average complaint rates have higher complaint indices, before and after the winsorization of number of complaints, population, and complaint index values. "
   ]
  }
 ],
 "metadata": {
  "kernelspec": {
   "display_name": "Python 3 (ipykernel)",
   "language": "python",
   "name": "python3"
  },
  "language_info": {
   "codemirror_mode": {
    "name": "ipython",
    "version": 3
   },
   "file_extension": ".py",
   "mimetype": "text/x-python",
   "name": "python",
   "nbconvert_exporter": "python",
   "pygments_lexer": "ipython3",
   "version": "3.10.2"
  }
 },
 "nbformat": 4,
 "nbformat_minor": 4
}
