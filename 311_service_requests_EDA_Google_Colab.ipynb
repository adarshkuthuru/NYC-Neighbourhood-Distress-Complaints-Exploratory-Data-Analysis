{
  "cells": [
    {
      "attachments": {},
      "cell_type": "markdown",
      "metadata": {
        "id": "JlLdOFVv-LEk"
      },
      "source": [
        "### Updated on 24 May, 2023"
      ]
    },
    {
      "attachments": {},
      "cell_type": "markdown",
      "metadata": {
        "id": "_xgfOy2WPJlg"
      },
      "source": [
        "# 1. Table of contents<a class =\"anchor\" id=\"0.Contents\"></a>\n",
        "\n",
        "* [1. Table of contents](#0.Contents)\n",
        "    * [1.1. Introduction](#Intro)\n",
        "* [2. Import Dependent Libraries](#1.Import)\n",
        "* [3. Importing 311 Service Requests Data](#2.Import_data)\n",
        "    * [3.1. Import data from Socrata Open Data API (Soda)](#2.1.Import_data1)\n",
        "      * [3.1.1. Scrubbing the Data](#2.1.1.Scrub_import_data1)\n",
        "      * [3.1.2. Saving the Cleaned Data on Google Drive](#2.1.2.Save_import_data1)\n",
        "    * [3.2. Google-colab authorization and importing data from Google Drive](#2.2.Import_data2)\n",
        "    * [3.3. Importing JSON objects using API and flattening ](#2.3.Import_data3)\n",
        "    * [3.4. Importing data from a csv file in a local directory](#2.4.Import_data4)\n",
        "* [4. Plot to check for missing values](#3.missing_values)\n",
        "    * [comments](#comment1)\n",
        "* [5. 2023 Reporting](#4.2023_Reporting)\n",
        "    * [5.1. Analysis-1](#4.1.Q1)\n",
        "        * [5.1.2. Plot of top 10 complaints in NYC in 2023](#4.1.2.Fig1)\n",
        "        * [5.1.4.  Plot of top 10 complaint types by each borough in 2023](#4.1.4.Fig2)\n",
        "            * [comments](#comment2)\n",
        "    * [5.2. Analysis-2](#4.2.Q2)\n",
        "        * [4.2.6. Plot of Complaint-index (total complaints relative to their population) for each Borough in 2023](#4.2.6.Fig3)\n",
        "            * [comments](#comment3)\n",
        "    * [5.3. Analysis-3](#4.3.Q3)\n",
        "        * [5.3.4. Plot of Complaint-index (total complaints relative to their population) of the two complaint types for each Borough in NYC in 2023'](#4.3.4.Fig4)\n",
        "            * [comments](#comment4)\n",
        "* [6. Time Series/Exploratory Analysis](#5.TS)\n",
        "    * [6.1. Analysis-4](#5.1.Q1)\n",
        "        * [6.1.5. Monthly plot of complaint-rates by each Borough between 2010 and 2021](#5.1.5.Fig5)\n",
        "        * [6.1.7. Monthly plot of complaint-rates for NYC between 2010 and 2021](#5.1.7.Fig6)\n",
        "            * [comments](#comment5)\n",
        "    * [6.2. Analysis-5](#5.2.Q2)\n",
        "        * [6.2.2. Scatter plot of Complaint rate vs Complaint Index to look for anomalies/outliers](#5.2.2.Fig6)\n",
        "            * [comments](#comment6)\n",
        "        * [6.2.3. Zip codes with highest complaint rates before and after winsorization](#5.2.3.Tab1)\n",
        "            * [comments](#comment7)\n",
        "* [7. Animation of complaints in NYC by each month in 2021](#animation)"
      ]
    },
    {
      "attachments": {},
      "cell_type": "markdown",
      "metadata": {
        "id": "DLqpInGQPJlj"
      },
      "source": [
        "# 1.1. Introduction<a class=\"anchor\" id=\"Intro\"></a>"
      ]
    },
    {
      "attachments": {},
      "cell_type": "markdown",
      "metadata": {
        "id": "VPUyKIqVPJlj"
      },
      "source": [
        "The objective of this project is to analyze recent data on NYC 311 calls and develop a neural network capable of classifying the agency that responded to each call. By examining the content, timing, frequency, and location of the issues raised by 311 callers, government agencies and local policy stakeholders can better serve NYC residents. Through exploratory analysis and visualization of public 311 data, this project aims to contribute to this understanding. The modeling section focuses on demonstrating a proof-of-concept tool that efficiently connects residents to the appropriate government services.\n",
        "\n",
        "In this analysis, I analyze the 311 service request data for New York city between the years 2010 and 2021. The full dataset has 25,839,156 rows and 46 columns. I will use only the first 1.5 million records for my analysis due to limitations on computational resources."
      ]
    },
    {
      "attachments": {},
      "cell_type": "markdown",
      "metadata": {
        "id": "vwuKLwhhPJlk"
      },
      "source": [
        "# 2. Import Dependent Libraries<a class=\"anchor\" id=\"1.Import_libraries\"></a>"
      ]
    },
    {
      "cell_type": "code",
      "execution_count": 3,
      "metadata": {
        "id": "hinSrS1CPJlk",
        "scrolled": true
      },
      "outputs": [],
      "source": [
        "import pandas as pd\n",
        "import numpy as np\n",
        "import datetime as dt\n",
        "\n",
        "%matplotlib inline\n",
        "import matplotlib.pyplot as plt\n",
        "import plotly as px\n",
        "import seaborn as sns \n",
        "import requests\n",
        "import json\n",
        "import warnings\n",
        "\n",
        "from matplotlib import style\n",
        "from google.colab import drive\n",
        "warnings.filterwarnings(\"ignore\")"
      ]
    },
    {
      "attachments": {},
      "cell_type": "markdown",
      "metadata": {
        "id": "iQKmnWz1PJln"
      },
      "source": [
        "# 3. Importing 311 Service Requests Data <a class=\"anchor\" id=\"2.Import_data\"></a>\n",
        "Note: Data source details are in the README.md file. \\\n",
        "Data imports can be done in either of the below 4 methods"
      ]
    },
    {
      "attachments": {},
      "cell_type": "markdown",
      "metadata": {
        "id": "ljHBVdSZPJlo"
      },
      "source": [
        "#### 3.1. Import data from Socrata Open Data API (Soda)  <a class=\"anchor\" id=\"2.1.Import_data1\"></a>"
      ]
    },
    {
      "cell_type": "code",
      "execution_count": 1,
      "metadata": {
        "id": "2_8-DaYhPJlo"
      },
      "outputs": [],
      "source": [
        "# !pip install sodapy #install sodapy from pip and then import dataset\n",
        "from sodapy import Socrata\n",
        "\n",
        "app_token = \"XXX\" # enter your app token here\n",
        "client = Socrata(\"data.cityofnewyork.us\", app_token)\n",
        "client.timeout = 1000\n",
        "results = client.get(\"erm2-nwe9\", limit=500000)"
      ]
    },
    {
      "attachments": {},
      "cell_type": "markdown",
      "metadata": {
        "id": "X4XH5pA_aDMo"
      },
      "source": [
        "##### 3.1.1. Scrubbing the Data  <a class=\"anchor\" id=\"2.1.1.Scrub_import_data1\"></a>"
      ]
    },
    {
      "cell_type": "code",
      "execution_count": 4,
      "metadata": {
        "colab": {
          "base_uri": "https://localhost:8080/",
          "height": 443
        },
        "id": "Lw9RSmCzPJlp",
        "outputId": "38c1ec15-0c2a-453d-c837-6247ae51ced8"
      },
      "outputs": [
        {
          "data": {
            "text/html": [
              "\n",
              "  <div id=\"df-fcd4d1fd-62a1-4fc9-b8d4-c5c11fb895df\">\n",
              "    <div class=\"colab-df-container\">\n",
              "      <div>\n",
              "<style scoped>\n",
              "    .dataframe tbody tr th:only-of-type {\n",
              "        vertical-align: middle;\n",
              "    }\n",
              "\n",
              "    .dataframe tbody tr th {\n",
              "        vertical-align: top;\n",
              "    }\n",
              "\n",
              "    .dataframe thead th {\n",
              "        text-align: right;\n",
              "    }\n",
              "</style>\n",
              "<table border=\"1\" class=\"dataframe\">\n",
              "  <thead>\n",
              "    <tr style=\"text-align: right;\">\n",
              "      <th></th>\n",
              "      <th>unique_key</th>\n",
              "      <th>created_date</th>\n",
              "      <th>closed_date</th>\n",
              "      <th>agency</th>\n",
              "      <th>complaint_type</th>\n",
              "      <th>descriptor</th>\n",
              "      <th>borough</th>\n",
              "      <th>incident_zip</th>\n",
              "      <th>latitude</th>\n",
              "      <th>longitude</th>\n",
              "      <th>location</th>\n",
              "    </tr>\n",
              "  </thead>\n",
              "  <tbody>\n",
              "    <tr>\n",
              "      <th>0</th>\n",
              "      <td>57729980</td>\n",
              "      <td>2023-05-28T12:00:00.000</td>\n",
              "      <td>NaN</td>\n",
              "      <td>DSNY</td>\n",
              "      <td>Derelict Vehicles</td>\n",
              "      <td>Derelict Vehicles</td>\n",
              "      <td>QUEENS</td>\n",
              "      <td>11357</td>\n",
              "      <td>40.77821342654645</td>\n",
              "      <td>-73.82385968706518</td>\n",
              "      <td>{'latitude': '40.77821342654645', 'longitude':...</td>\n",
              "    </tr>\n",
              "    <tr>\n",
              "      <th>1</th>\n",
              "      <td>57724410</td>\n",
              "      <td>2023-05-28T12:00:00.000</td>\n",
              "      <td>NaN</td>\n",
              "      <td>DSNY</td>\n",
              "      <td>Derelict Vehicles</td>\n",
              "      <td>Derelict Vehicles</td>\n",
              "      <td>BROOKLYN</td>\n",
              "      <td>11226</td>\n",
              "      <td>40.646437257782</td>\n",
              "      <td>-73.96349236479078</td>\n",
              "      <td>{'latitude': '40.646437257782', 'longitude': '...</td>\n",
              "    </tr>\n",
              "    <tr>\n",
              "      <th>2</th>\n",
              "      <td>57731994</td>\n",
              "      <td>2023-05-28T12:00:00.000</td>\n",
              "      <td>NaN</td>\n",
              "      <td>DSNY</td>\n",
              "      <td>Derelict Vehicles</td>\n",
              "      <td>Derelict Vehicles</td>\n",
              "      <td>BROOKLYN</td>\n",
              "      <td>11217</td>\n",
              "      <td>40.675906089553244</td>\n",
              "      <td>-73.9776588907734</td>\n",
              "      <td>{'latitude': '40.675906089553244', 'longitude'...</td>\n",
              "    </tr>\n",
              "    <tr>\n",
              "      <th>3</th>\n",
              "      <td>57727889</td>\n",
              "      <td>2023-05-28T01:07:49.000</td>\n",
              "      <td>NaN</td>\n",
              "      <td>NYPD</td>\n",
              "      <td>Illegal Parking</td>\n",
              "      <td>Paper License Plates</td>\n",
              "      <td>QUEENS</td>\n",
              "      <td>11357</td>\n",
              "      <td>40.77821342654645</td>\n",
              "      <td>-73.82385968706518</td>\n",
              "      <td>{'latitude': '40.77821342654645', 'longitude':...</td>\n",
              "    </tr>\n",
              "    <tr>\n",
              "      <th>4</th>\n",
              "      <td>57728964</td>\n",
              "      <td>2023-05-28T01:07:34.000</td>\n",
              "      <td>NaN</td>\n",
              "      <td>EDC</td>\n",
              "      <td>Noise - Helicopter</td>\n",
              "      <td>Other</td>\n",
              "      <td>BROOKLYN</td>\n",
              "      <td>11231</td>\n",
              "      <td>40.68019279491008</td>\n",
              "      <td>-73.99641985682297</td>\n",
              "      <td>{'latitude': '40.68019279491008', 'longitude':...</td>\n",
              "    </tr>\n",
              "  </tbody>\n",
              "</table>\n",
              "</div>\n",
              "      <button class=\"colab-df-convert\" onclick=\"convertToInteractive('df-fcd4d1fd-62a1-4fc9-b8d4-c5c11fb895df')\"\n",
              "              title=\"Convert this dataframe to an interactive table.\"\n",
              "              style=\"display:none;\">\n",
              "        \n",
              "  <svg xmlns=\"http://www.w3.org/2000/svg\" height=\"24px\"viewBox=\"0 0 24 24\"\n",
              "       width=\"24px\">\n",
              "    <path d=\"M0 0h24v24H0V0z\" fill=\"none\"/>\n",
              "    <path d=\"M18.56 5.44l.94 2.06.94-2.06 2.06-.94-2.06-.94-.94-2.06-.94 2.06-2.06.94zm-11 1L8.5 8.5l.94-2.06 2.06-.94-2.06-.94L8.5 2.5l-.94 2.06-2.06.94zm10 10l.94 2.06.94-2.06 2.06-.94-2.06-.94-.94-2.06-.94 2.06-2.06.94z\"/><path d=\"M17.41 7.96l-1.37-1.37c-.4-.4-.92-.59-1.43-.59-.52 0-1.04.2-1.43.59L10.3 9.45l-7.72 7.72c-.78.78-.78 2.05 0 2.83L4 21.41c.39.39.9.59 1.41.59.51 0 1.02-.2 1.41-.59l7.78-7.78 2.81-2.81c.8-.78.8-2.07 0-2.86zM5.41 20L4 18.59l7.72-7.72 1.47 1.35L5.41 20z\"/>\n",
              "  </svg>\n",
              "      </button>\n",
              "      \n",
              "  <style>\n",
              "    .colab-df-container {\n",
              "      display:flex;\n",
              "      flex-wrap:wrap;\n",
              "      gap: 12px;\n",
              "    }\n",
              "\n",
              "    .colab-df-convert {\n",
              "      background-color: #E8F0FE;\n",
              "      border: none;\n",
              "      border-radius: 50%;\n",
              "      cursor: pointer;\n",
              "      display: none;\n",
              "      fill: #1967D2;\n",
              "      height: 32px;\n",
              "      padding: 0 0 0 0;\n",
              "      width: 32px;\n",
              "    }\n",
              "\n",
              "    .colab-df-convert:hover {\n",
              "      background-color: #E2EBFA;\n",
              "      box-shadow: 0px 1px 2px rgba(60, 64, 67, 0.3), 0px 1px 3px 1px rgba(60, 64, 67, 0.15);\n",
              "      fill: #174EA6;\n",
              "    }\n",
              "\n",
              "    [theme=dark] .colab-df-convert {\n",
              "      background-color: #3B4455;\n",
              "      fill: #D2E3FC;\n",
              "    }\n",
              "\n",
              "    [theme=dark] .colab-df-convert:hover {\n",
              "      background-color: #434B5C;\n",
              "      box-shadow: 0px 1px 3px 1px rgba(0, 0, 0, 0.15);\n",
              "      filter: drop-shadow(0px 1px 2px rgba(0, 0, 0, 0.3));\n",
              "      fill: #FFFFFF;\n",
              "    }\n",
              "  </style>\n",
              "\n",
              "      <script>\n",
              "        const buttonEl =\n",
              "          document.querySelector('#df-fcd4d1fd-62a1-4fc9-b8d4-c5c11fb895df button.colab-df-convert');\n",
              "        buttonEl.style.display =\n",
              "          google.colab.kernel.accessAllowed ? 'block' : 'none';\n",
              "\n",
              "        async function convertToInteractive(key) {\n",
              "          const element = document.querySelector('#df-fcd4d1fd-62a1-4fc9-b8d4-c5c11fb895df');\n",
              "          const dataTable =\n",
              "            await google.colab.kernel.invokeFunction('convertToInteractive',\n",
              "                                                     [key], {});\n",
              "          if (!dataTable) return;\n",
              "\n",
              "          const docLinkHtml = 'Like what you see? Visit the ' +\n",
              "            '<a target=\"_blank\" href=https://colab.research.google.com/notebooks/data_table.ipynb>data table notebook</a>'\n",
              "            + ' to learn more about interactive tables.';\n",
              "          element.innerHTML = '';\n",
              "          dataTable['output_type'] = 'display_data';\n",
              "          await google.colab.output.renderOutput(dataTable, element);\n",
              "          const docLink = document.createElement('div');\n",
              "          docLink.innerHTML = docLinkHtml;\n",
              "          element.appendChild(docLink);\n",
              "        }\n",
              "      </script>\n",
              "    </div>\n",
              "  </div>\n",
              "  "
            ],
            "text/plain": [
              "  unique_key             created_date closed_date agency      complaint_type  \\\n",
              "0   57729980  2023-05-28T12:00:00.000         NaN   DSNY   Derelict Vehicles   \n",
              "1   57724410  2023-05-28T12:00:00.000         NaN   DSNY   Derelict Vehicles   \n",
              "2   57731994  2023-05-28T12:00:00.000         NaN   DSNY   Derelict Vehicles   \n",
              "3   57727889  2023-05-28T01:07:49.000         NaN   NYPD     Illegal Parking   \n",
              "4   57728964  2023-05-28T01:07:34.000         NaN    EDC  Noise - Helicopter   \n",
              "\n",
              "             descriptor   borough incident_zip            latitude  \\\n",
              "0     Derelict Vehicles    QUEENS        11357   40.77821342654645   \n",
              "1     Derelict Vehicles  BROOKLYN        11226     40.646437257782   \n",
              "2     Derelict Vehicles  BROOKLYN        11217  40.675906089553244   \n",
              "3  Paper License Plates    QUEENS        11357   40.77821342654645   \n",
              "4                 Other  BROOKLYN        11231   40.68019279491008   \n",
              "\n",
              "            longitude                                           location  \n",
              "0  -73.82385968706518  {'latitude': '40.77821342654645', 'longitude':...  \n",
              "1  -73.96349236479078  {'latitude': '40.646437257782', 'longitude': '...  \n",
              "2   -73.9776588907734  {'latitude': '40.675906089553244', 'longitude'...  \n",
              "3  -73.82385968706518  {'latitude': '40.77821342654645', 'longitude':...  \n",
              "4  -73.99641985682297  {'latitude': '40.68019279491008', 'longitude':...  "
            ]
          },
          "execution_count": 4,
          "metadata": {},
          "output_type": "execute_result"
        }
      ],
      "source": [
        "df = pd.DataFrame.from_records(results)\n",
        "\n",
        "# Include only the essential columns\n",
        "df = df[['unique_key', 'created_date', 'closed_date', 'agency', 'complaint_type', 'descriptor', 'borough',\n",
        "         'incident_zip','latitude', 'longitude', 'location']]\n",
        "\n",
        "# Drop observations of boroughs not in the below list\n",
        "Borough_list = ['BRONX','BROOKLYN','MANHATTAN','QUEENS','STATEN ISLAND']\n",
        "df = df[df['borough'].isin(Borough_list)] \n",
        "\n",
        "# Eliminate rows without lat/long and location type data\n",
        "df = df[df.latitude.notnull()]\n",
        "df = df[df.longitude.notnull()]\n",
        "df = df[df.descriptor.notnull()]\n",
        "\n",
        "df.head()"
      ]
    },
    {
      "attachments": {},
      "cell_type": "markdown",
      "metadata": {
        "id": "si1U6N6malfV"
      },
      "source": [
        "##### 3.1.2. Saving the Cleaned Data on Google Drive  <a class=\"anchor\" id=\"2.1.2.Save_import_data1\"></a>"
      ]
    },
    {
      "cell_type": "code",
      "execution_count": 5,
      "metadata": {
        "colab": {
          "base_uri": "https://localhost:8080/"
        },
        "id": "6p3J7BAQXXj2",
        "outputId": "620410ce-88c1-4171-8754-e9ce105538ad"
      },
      "outputs": [
        {
          "name": "stdout",
          "output_type": "stream",
          "text": [
            "Mounted at /content/gdrive\n"
          ]
        }
      ],
      "source": [
        "from pydrive.auth import GoogleAuth #!pip install -U -q PyDrive\n",
        "from pydrive.drive import GoogleDrive\n",
        "from google.colab import auth #!pip install google-colab\n",
        "from oauth2client.client import GoogleCredentials\n",
        "\n",
        "from google.colab import drive\n",
        "drive.mount('/content/gdrive')\n",
        "\n",
        "# Export files to google drive\n",
        "df.to_csv('/content/gdrive/My Drive/Colab Notebooks/311_Service_Request_Analysis/311_Service_Requests.csv', index = False)"
      ]
    },
    {
      "cell_type": "code",
      "execution_count": 6,
      "metadata": {
        "id": "d-lDXv5IYqeH"
      },
      "outputs": [],
      "source": [
        "# Import files from google drive\n",
        "data = pd.read_csv('/content/gdrive/My Drive/Colab Notebooks/311_Service_Request_Analysis/311_Service_Requests.csv')"
      ]
    },
    {
      "attachments": {},
      "cell_type": "markdown",
      "metadata": {
        "id": "6Q04-awlPJlq"
      },
      "source": [
        "#### 3.2. Google-colab authorization and importing data from Google Drive <a class=\"anchor\" id=\"2.2.Import_data2\"></a>"
      ]
    },
    {
      "attachments": {},
      "cell_type": "markdown",
      "metadata": {
        "id": "9dcH5A1xPJlq"
      },
      "source": [
        "```python\n",
        "from pydrive.auth import GoogleAuth #!pip install -U -q PyDrive\n",
        "from pydrive.drive import GoogleDrive\n",
        "from google.colab import auth #!pip install google-colab\n",
        "from oauth2client.client import GoogleCredentials\n",
        "\n",
        "#to import files from google drive\n",
        "from google.colab import drive\n",
        "drive.mount('/content/gdrive')\n",
        "df=pd.read_csv('/content/gdrive/My Drive/Colab Notebooks/311_Service_Requests_from_2010_to_Present.csv')\n",
        "\n",
        "#authorization-not required if done manually\n",
        "auth.authenticate_user()\n",
        "gauth = GoogleAuth()\n",
        "gauth.credentials = GoogleCredentials.get_application_default()\n",
        "drive = GoogleDrive(gauth)\n",
        "```"
      ]
    },
    {
      "attachments": {},
      "cell_type": "markdown",
      "metadata": {
        "id": "mOXApES1PJlq"
      },
      "source": [
        "#### 3.3. Importing JSON objects using API and flattening <a class=\"anchor\" id=\"2.3.Import_data3\"></a>\n",
        "#### --Only imports first 1000 obs--"
      ]
    },
    {
      "attachments": {},
      "cell_type": "markdown",
      "metadata": {
        "id": "YAcrHNG9PJlq",
        "scrolled": false
      },
      "source": [
        "```python\n",
        "import requests\n",
        "import json\n",
        "Data_API = requests.get('https://data.cityofnewyork.us/resource/erm2-nwe9.json')\n",
        "Data = Data_API.text\n",
        "parse_json=json.loads(Data) #parses the json objects\n",
        "df = json_normalize(parse_json) #flatterns the json object to form a dataframe\n",
        "```"
      ]
    },
    {
      "attachments": {},
      "cell_type": "markdown",
      "metadata": {
        "id": "SoZkrNNpPJlr"
      },
      "source": [
        "#### 3.4. Importing data from a csv file in a local directory<a class=\"anchor\" id=\"2.4.Import_data4\"></a>"
      ]
    },
    {
      "attachments": {},
      "cell_type": "markdown",
      "metadata": {
        "id": "eMGt2b-rXiBq"
      },
      "source": [
        "```python\n",
        "df = pd.read_csv('311_Service_Requests_from_2010_to_Present.csv')\n",
        "\n",
        "# Include only the essential columns\n",
        "df = df[['Unique Key', 'Created Date', 'Closed Date', 'Agency', 'Complaint Type', 'Descriptor', 'Borough',\n",
        "         'Incident Zip','Latitude', 'Longitude', 'Location']]\n",
        "\n",
        "# Drops observations of boroughs not in the below list\n",
        "Borough_list=['BRONX','BROOKLYN','MANHATTAN','QUEENS','STATEN ISLAND']\n",
        "df = df[df['Borough'].isin(Borough_list)] \n",
        "df = pd.read_csv('df.csv')\n",
        "```"
      ]
    },
    {
      "attachments": {},
      "cell_type": "markdown",
      "metadata": {
        "id": "HjSA43FGPJlr"
      },
      "source": [
        "# 4. Plot to check for missing values<a class=\"anchor\" id=\"3.missing_values\"></a>\n",
        "\n",
        "####      Note: yellow color in the below plot represents missing values"
      ]
    },
    {
      "cell_type": "code",
      "execution_count": 7,
      "metadata": {
        "colab": {
          "base_uri": "https://localhost:8080/",
          "height": 776
        },
        "id": "2qLVO2dMPJlr",
        "outputId": "5f3bde54-a4b0-4525-b926-9aebca0cbc46",
        "scrolled": false
      },
      "outputs": [
        {
          "data": {
            "image/png": "[encoded data removed]",
            "text/plain": [
              "<Figure size 800x800 with 1 Axes>"
            ]
          },
          "metadata": {},
          "output_type": "display_data"
        }
      ],
      "source": [
        "plt.figure(figsize=(8, 8))      # figsize in inches\n",
        "sns.heatmap(data.isnull(),xticklabels=True,cbar=False,cmap='viridis') # heat map of missing data\n",
        "plt.show()"
      ]
    },
    {
      "attachments": {},
      "cell_type": "markdown",
      "metadata": {
        "id": "6wCuS72TPJls"
      },
      "source": [
        "<a class=\"anchor\" id=\"comment1\"></a> **Observation:** From the above plot, it seems like there are not many missing observations in the key variables about to be used in this analysis. But I will deal with them later in the analysis."
      ]
    },
    {
      "attachments": {},
      "cell_type": "markdown",
      "metadata": {
        "id": "laM7yHqwPJls"
      },
      "source": [
        "# 5. 2023 Reporting<a class=\"anchor\" id=\"4.2023_Reporting\"></a>"
      ]
    },
    {
      "attachments": {},
      "cell_type": "markdown",
      "metadata": {
        "id": "pMSpzSL3PJls"
      },
      "source": [
        "### <a class=\"anchor\" id=\"4.1.Q1\"></a> 5.1. Analysis-1: For the 10 most common overall complaint type, how many of each of those 10 types were there in 2023 for each borough?"
      ]
    },
    {
      "attachments": {},
      "cell_type": "markdown",
      "metadata": {
        "id": "kiDvEEv7PJls"
      },
      "source": [
        "#### <a class=\"anchor\" id=\"4.1.1\"></a> 5.1.1. Create year-month, year and month variables"
      ]
    },
    {
      "cell_type": "code",
      "execution_count": 8,
      "metadata": {
        "colab": {
          "base_uri": "https://localhost:8080/",
          "height": 443
        },
        "id": "ibyPIXxcPJls",
        "outputId": "3b93053a-3e7d-4779-8fe0-93e544240ec9"
      },
      "outputs": [
        {
          "data": {
            "text/html": [
              "\n",
              "  <div id=\"df-0ee15232-f036-4a1e-8930-2a561bbde961\">\n",
              "    <div class=\"colab-df-container\">\n",
              "      <div>\n",
              "<style scoped>\n",
              "    .dataframe tbody tr th:only-of-type {\n",
              "        vertical-align: middle;\n",
              "    }\n",
              "\n",
              "    .dataframe tbody tr th {\n",
              "        vertical-align: top;\n",
              "    }\n",
              "\n",
              "    .dataframe thead th {\n",
              "        text-align: right;\n",
              "    }\n",
              "</style>\n",
              "<table border=\"1\" class=\"dataframe\">\n",
              "  <thead>\n",
              "    <tr style=\"text-align: right;\">\n",
              "      <th></th>\n",
              "      <th>unique_key</th>\n",
              "      <th>created_date</th>\n",
              "      <th>closed_date</th>\n",
              "      <th>agency</th>\n",
              "      <th>complaint_type</th>\n",
              "      <th>descriptor</th>\n",
              "      <th>borough</th>\n",
              "      <th>incident_zip</th>\n",
              "      <th>latitude</th>\n",
              "      <th>longitude</th>\n",
              "      <th>location</th>\n",
              "      <th>Year_month</th>\n",
              "      <th>Year</th>\n",
              "      <th>Month</th>\n",
              "    </tr>\n",
              "  </thead>\n",
              "  <tbody>\n",
              "    <tr>\n",
              "      <th>0</th>\n",
              "      <td>57729980</td>\n",
              "      <td>2023-05-28T12:00:00.000</td>\n",
              "      <td>NaN</td>\n",
              "      <td>DSNY</td>\n",
              "      <td>Derelict Vehicles</td>\n",
              "      <td>Derelict Vehicles</td>\n",
              "      <td>QUEENS</td>\n",
              "      <td>11357.0</td>\n",
              "      <td>40.778213</td>\n",
              "      <td>-73.823860</td>\n",
              "      <td>{'latitude': '40.77821342654645', 'longitude':...</td>\n",
              "      <td>2023-05</td>\n",
              "      <td>2023</td>\n",
              "      <td>5</td>\n",
              "    </tr>\n",
              "    <tr>\n",
              "      <th>1</th>\n",
              "      <td>57724410</td>\n",
              "      <td>2023-05-28T12:00:00.000</td>\n",
              "      <td>NaN</td>\n",
              "      <td>DSNY</td>\n",
              "      <td>Derelict Vehicles</td>\n",
              "      <td>Derelict Vehicles</td>\n",
              "      <td>BROOKLYN</td>\n",
              "      <td>11226.0</td>\n",
              "      <td>40.646437</td>\n",
              "      <td>-73.963492</td>\n",
              "      <td>{'latitude': '40.646437257782', 'longitude': '...</td>\n",
              "      <td>2023-05</td>\n",
              "      <td>2023</td>\n",
              "      <td>5</td>\n",
              "    </tr>\n",
              "    <tr>\n",
              "      <th>2</th>\n",
              "      <td>57731994</td>\n",
              "      <td>2023-05-28T12:00:00.000</td>\n",
              "      <td>NaN</td>\n",
              "      <td>DSNY</td>\n",
              "      <td>Derelict Vehicles</td>\n",
              "      <td>Derelict Vehicles</td>\n",
              "      <td>BROOKLYN</td>\n",
              "      <td>11217.0</td>\n",
              "      <td>40.675906</td>\n",
              "      <td>-73.977659</td>\n",
              "      <td>{'latitude': '40.675906089553244', 'longitude'...</td>\n",
              "      <td>2023-05</td>\n",
              "      <td>2023</td>\n",
              "      <td>5</td>\n",
              "    </tr>\n",
              "    <tr>\n",
              "      <th>3</th>\n",
              "      <td>57727889</td>\n",
              "      <td>2023-05-28T01:07:49.000</td>\n",
              "      <td>NaN</td>\n",
              "      <td>NYPD</td>\n",
              "      <td>Illegal Parking</td>\n",
              "      <td>Paper License Plates</td>\n",
              "      <td>QUEENS</td>\n",
              "      <td>11357.0</td>\n",
              "      <td>40.778213</td>\n",
              "      <td>-73.823860</td>\n",
              "      <td>{'latitude': '40.77821342654645', 'longitude':...</td>\n",
              "      <td>2023-05</td>\n",
              "      <td>2023</td>\n",
              "      <td>5</td>\n",
              "    </tr>\n",
              "    <tr>\n",
              "      <th>4</th>\n",
              "      <td>57728964</td>\n",
              "      <td>2023-05-28T01:07:34.000</td>\n",
              "      <td>NaN</td>\n",
              "      <td>EDC</td>\n",
              "      <td>Noise - Helicopter</td>\n",
              "      <td>Other</td>\n",
              "      <td>BROOKLYN</td>\n",
              "      <td>11231.0</td>\n",
              "      <td>40.680193</td>\n",
              "      <td>-73.996420</td>\n",
              "      <td>{'latitude': '40.68019279491008', 'longitude':...</td>\n",
              "      <td>2023-05</td>\n",
              "      <td>2023</td>\n",
              "      <td>5</td>\n",
              "    </tr>\n",
              "  </tbody>\n",
              "</table>\n",
              "</div>\n",
              "      <button class=\"colab-df-convert\" onclick=\"convertToInteractive('df-0ee15232-f036-4a1e-8930-2a561bbde961')\"\n",
              "              title=\"Convert this dataframe to an interactive table.\"\n",
              "              style=\"display:none;\">\n",
              "        \n",
              "  <svg xmlns=\"http://www.w3.org/2000/svg\" height=\"24px\"viewBox=\"0 0 24 24\"\n",
              "       width=\"24px\">\n",
              "    <path d=\"M0 0h24v24H0V0z\" fill=\"none\"/>\n",
              "    <path d=\"M18.56 5.44l.94 2.06.94-2.06 2.06-.94-2.06-.94-.94-2.06-.94 2.06-2.06.94zm-11 1L8.5 8.5l.94-2.06 2.06-.94-2.06-.94L8.5 2.5l-.94 2.06-2.06.94zm10 10l.94 2.06.94-2.06 2.06-.94-2.06-.94-.94-2.06-.94 2.06-2.06.94z\"/><path d=\"M17.41 7.96l-1.37-1.37c-.4-.4-.92-.59-1.43-.59-.52 0-1.04.2-1.43.59L10.3 9.45l-7.72 7.72c-.78.78-.78 2.05 0 2.83L4 21.41c.39.39.9.59 1.41.59.51 0 1.02-.2 1.41-.59l7.78-7.78 2.81-2.81c.8-.78.8-2.07 0-2.86zM5.41 20L4 18.59l7.72-7.72 1.47 1.35L5.41 20z\"/>\n",
              "  </svg>\n",
              "      </button>\n",
              "      \n",
              "  <style>\n",
              "    .colab-df-container {\n",
              "      display:flex;\n",
              "      flex-wrap:wrap;\n",
              "      gap: 12px;\n",
              "    }\n",
              "\n",
              "    .colab-df-convert {\n",
              "      background-color: #E8F0FE;\n",
              "      border: none;\n",
              "      border-radius: 50%;\n",
              "      cursor: pointer;\n",
              "      display: none;\n",
              "      fill: #1967D2;\n",
              "      height: 32px;\n",
              "      padding: 0 0 0 0;\n",
              "      width: 32px;\n",
              "    }\n",
              "\n",
              "    .colab-df-convert:hover {\n",
              "      background-color: #E2EBFA;\n",
              "      box-shadow: 0px 1px 2px rgba(60, 64, 67, 0.3), 0px 1px 3px 1px rgba(60, 64, 67, 0.15);\n",
              "      fill: #174EA6;\n",
              "    }\n",
              "\n",
              "    [theme=dark] .colab-df-convert {\n",
              "      background-color: #3B4455;\n",
              "      fill: #D2E3FC;\n",
              "    }\n",
              "\n",
              "    [theme=dark] .colab-df-convert:hover {\n",
              "      background-color: #434B5C;\n",
              "      box-shadow: 0px 1px 3px 1px rgba(0, 0, 0, 0.15);\n",
              "      filter: drop-shadow(0px 1px 2px rgba(0, 0, 0, 0.3));\n",
              "      fill: #FFFFFF;\n",
              "    }\n",
              "  </style>\n",
              "\n",
              "      <script>\n",
              "        const buttonEl =\n",
              "          document.querySelector('#df-0ee15232-f036-4a1e-8930-2a561bbde961 button.colab-df-convert');\n",
              "        buttonEl.style.display =\n",
              "          google.colab.kernel.accessAllowed ? 'block' : 'none';\n",
              "\n",
              "        async function convertToInteractive(key) {\n",
              "          const element = document.querySelector('#df-0ee15232-f036-4a1e-8930-2a561bbde961');\n",
              "          const dataTable =\n",
              "            await google.colab.kernel.invokeFunction('convertToInteractive',\n",
              "                                                     [key], {});\n",
              "          if (!dataTable) return;\n",
              "\n",
              "          const docLinkHtml = 'Like what you see? Visit the ' +\n",
              "            '<a target=\"_blank\" href=https://colab.research.google.com/notebooks/data_table.ipynb>data table notebook</a>'\n",
              "            + ' to learn more about interactive tables.';\n",
              "          element.innerHTML = '';\n",
              "          dataTable['output_type'] = 'display_data';\n",
              "          await google.colab.output.renderOutput(dataTable, element);\n",
              "          const docLink = document.createElement('div');\n",
              "          docLink.innerHTML = docLinkHtml;\n",
              "          element.appendChild(docLink);\n",
              "        }\n",
              "      </script>\n",
              "    </div>\n",
              "  </div>\n",
              "  "
            ],
            "text/plain": [
              "   unique_key             created_date closed_date agency      complaint_type  \\\n",
              "0    57729980  2023-05-28T12:00:00.000         NaN   DSNY   Derelict Vehicles   \n",
              "1    57724410  2023-05-28T12:00:00.000         NaN   DSNY   Derelict Vehicles   \n",
              "2    57731994  2023-05-28T12:00:00.000         NaN   DSNY   Derelict Vehicles   \n",
              "3    57727889  2023-05-28T01:07:49.000         NaN   NYPD     Illegal Parking   \n",
              "4    57728964  2023-05-28T01:07:34.000         NaN    EDC  Noise - Helicopter   \n",
              "\n",
              "             descriptor   borough  incident_zip   latitude  longitude  \\\n",
              "0     Derelict Vehicles    QUEENS       11357.0  40.778213 -73.823860   \n",
              "1     Derelict Vehicles  BROOKLYN       11226.0  40.646437 -73.963492   \n",
              "2     Derelict Vehicles  BROOKLYN       11217.0  40.675906 -73.977659   \n",
              "3  Paper License Plates    QUEENS       11357.0  40.778213 -73.823860   \n",
              "4                 Other  BROOKLYN       11231.0  40.680193 -73.996420   \n",
              "\n",
              "                                            location Year_month  Year  Month  \n",
              "0  {'latitude': '40.77821342654645', 'longitude':...    2023-05  2023      5  \n",
              "1  {'latitude': '40.646437257782', 'longitude': '...    2023-05  2023      5  \n",
              "2  {'latitude': '40.675906089553244', 'longitude'...    2023-05  2023      5  \n",
              "3  {'latitude': '40.77821342654645', 'longitude':...    2023-05  2023      5  \n",
              "4  {'latitude': '40.68019279491008', 'longitude':...    2023-05  2023      5  "
            ]
          },
          "execution_count": 8,
          "metadata": {},
          "output_type": "execute_result"
        }
      ],
      "source": [
        "data['Year_month'] = pd.DatetimeIndex(data['created_date']).strftime('%Y-%m')\n",
        "data['Year'] = pd.DatetimeIndex(data['created_date']).year #creates year variable\n",
        "data['Month'] = pd.DatetimeIndex(data['created_date']).month #creates month variable\n",
        "data.head()"
      ]
    },
    {
      "attachments": {},
      "cell_type": "markdown",
      "metadata": {
        "id": "0Mf-_b5RPJlt"
      },
      "source": [
        "#### <a class=\"anchor\" id=\"4.1.2.Fig1\"></a>5.1.2. Plot of top 10 complaints in NYC in 2023 "
      ]
    },
    {
      "cell_type": "code",
      "execution_count": 9,
      "metadata": {
        "colab": {
          "base_uri": "https://localhost:8080/",
          "height": 564
        },
        "id": "B1pq0Z1jPJlt",
        "outputId": "25a9d69c-0a5c-4015-9ce3-9edfa76cd250"
      },
      "outputs": [
        {
          "data": {
            "image/png": "[encoded data removed]",
            "text/plain": [
              "<Figure size 600x600 with 1 Axes>"
            ]
          },
          "metadata": {},
          "output_type": "display_data"
        }
      ],
      "source": [
        "df_subset = data[data['Year']==2023] #subset the original dataset to a new one with only year 2023 obs \n",
        "df_subset.shape\n",
        "\n",
        "# # Save the filtered dataset in Google Drive\n",
        "# df_subset.to_csv('/content/gdrive/My Drive/Colab Notebooks/311_Service_Request_Analysis/df_subset.csv', index=False) \n",
        "\n",
        "top_complaints = df_subset['complaint_type'].value_counts()[:10].index.tolist() # list with names of the top 10 complaints\n",
        "plt.figure(figsize=(6,6)) # figsize in inches\n",
        "df_subset['complaint_type'].value_counts()[:10].plot(kind='barh') #plot function that plots frequency\n",
        "plt.xlabel('Total Complaints')\n",
        "plt.ylabel('Complaint Type')\n",
        "plt.title('Top 10 complaints in NYC in 2023')\n",
        "plt.show()"
      ]
    },
    {
      "attachments": {},
      "cell_type": "markdown",
      "metadata": {
        "id": "aR7EhyDEPJlt"
      },
      "source": [
        "#### 5.1.3. Number of complaints of the top 10 complaint types by each borough in 2023"
      ]
    },
    {
      "cell_type": "code",
      "execution_count": 10,
      "metadata": {
        "colab": {
          "base_uri": "https://localhost:8080/",
          "height": 394
        },
        "id": "8UreWQmsPJlt",
        "outputId": "3d33efe9-9bdf-43c9-88d8-ff68131f8147",
        "scrolled": false
      },
      "outputs": [
        {
          "data": {
            "text/html": [
              "\n",
              "  <div id=\"df-ccd9911a-22eb-4c32-8e72-1c5c9bc7826a\">\n",
              "    <div class=\"colab-df-container\">\n",
              "      <div>\n",
              "<style scoped>\n",
              "    .dataframe tbody tr th:only-of-type {\n",
              "        vertical-align: middle;\n",
              "    }\n",
              "\n",
              "    .dataframe tbody tr th {\n",
              "        vertical-align: top;\n",
              "    }\n",
              "\n",
              "    .dataframe thead th {\n",
              "        text-align: right;\n",
              "    }\n",
              "</style>\n",
              "<table border=\"1\" class=\"dataframe\">\n",
              "  <thead>\n",
              "    <tr style=\"text-align: right;\">\n",
              "      <th>borough</th>\n",
              "      <th>BRONX</th>\n",
              "      <th>BROOKLYN</th>\n",
              "      <th>MANHATTAN</th>\n",
              "      <th>QUEENS</th>\n",
              "      <th>STATEN ISLAND</th>\n",
              "    </tr>\n",
              "    <tr>\n",
              "      <th>complaint_type</th>\n",
              "      <th></th>\n",
              "      <th></th>\n",
              "      <th></th>\n",
              "      <th></th>\n",
              "      <th></th>\n",
              "    </tr>\n",
              "  </thead>\n",
              "  <tbody>\n",
              "    <tr>\n",
              "      <th>Blocked Driveway</th>\n",
              "      <td>4124</td>\n",
              "      <td>9382</td>\n",
              "      <td>751</td>\n",
              "      <td>10328</td>\n",
              "      <td>610</td>\n",
              "    </tr>\n",
              "    <tr>\n",
              "      <th>HEAT/HOT WATER</th>\n",
              "      <td>7244</td>\n",
              "      <td>5648</td>\n",
              "      <td>5589</td>\n",
              "      <td>2989</td>\n",
              "      <td>254</td>\n",
              "    </tr>\n",
              "    <tr>\n",
              "      <th>Illegal Parking</th>\n",
              "      <td>11701</td>\n",
              "      <td>28620</td>\n",
              "      <td>11261</td>\n",
              "      <td>22469</td>\n",
              "      <td>2161</td>\n",
              "    </tr>\n",
              "    <tr>\n",
              "      <th>Missed Collection</th>\n",
              "      <td>754</td>\n",
              "      <td>3512</td>\n",
              "      <td>1010</td>\n",
              "      <td>3461</td>\n",
              "      <td>1197</td>\n",
              "    </tr>\n",
              "    <tr>\n",
              "      <th>Noise - Commercial</th>\n",
              "      <td>1584</td>\n",
              "      <td>4002</td>\n",
              "      <td>4178</td>\n",
              "      <td>2175</td>\n",
              "      <td>226</td>\n",
              "    </tr>\n",
              "    <tr>\n",
              "      <th>Noise - Helicopter</th>\n",
              "      <td>11</td>\n",
              "      <td>3470</td>\n",
              "      <td>8110</td>\n",
              "      <td>2255</td>\n",
              "      <td>9</td>\n",
              "    </tr>\n",
              "    <tr>\n",
              "      <th>Noise - Residential</th>\n",
              "      <td>12880</td>\n",
              "      <td>14619</td>\n",
              "      <td>9916</td>\n",
              "      <td>11944</td>\n",
              "      <td>1476</td>\n",
              "    </tr>\n",
              "    <tr>\n",
              "      <th>Noise - Street/Sidewalk</th>\n",
              "      <td>7440</td>\n",
              "      <td>6178</td>\n",
              "      <td>8678</td>\n",
              "      <td>3776</td>\n",
              "      <td>239</td>\n",
              "    </tr>\n",
              "    <tr>\n",
              "      <th>Noise - Vehicle</th>\n",
              "      <td>2886</td>\n",
              "      <td>2596</td>\n",
              "      <td>2752</td>\n",
              "      <td>2435</td>\n",
              "      <td>164</td>\n",
              "    </tr>\n",
              "    <tr>\n",
              "      <th>UNSANITARY CONDITION</th>\n",
              "      <td>5022</td>\n",
              "      <td>4488</td>\n",
              "      <td>3121</td>\n",
              "      <td>2140</td>\n",
              "      <td>384</td>\n",
              "    </tr>\n",
              "  </tbody>\n",
              "</table>\n",
              "</div>\n",
              "      <button class=\"colab-df-convert\" onclick=\"convertToInteractive('df-ccd9911a-22eb-4c32-8e72-1c5c9bc7826a')\"\n",
              "              title=\"Convert this dataframe to an interactive table.\"\n",
              "              style=\"display:none;\">\n",
              "        \n",
              "  <svg xmlns=\"http://www.w3.org/2000/svg\" height=\"24px\"viewBox=\"0 0 24 24\"\n",
              "       width=\"24px\">\n",
              "    <path d=\"M0 0h24v24H0V0z\" fill=\"none\"/>\n",
              "    <path d=\"M18.56 5.44l.94 2.06.94-2.06 2.06-.94-2.06-.94-.94-2.06-.94 2.06-2.06.94zm-11 1L8.5 8.5l.94-2.06 2.06-.94-2.06-.94L8.5 2.5l-.94 2.06-2.06.94zm10 10l.94 2.06.94-2.06 2.06-.94-2.06-.94-.94-2.06-.94 2.06-2.06.94z\"/><path d=\"M17.41 7.96l-1.37-1.37c-.4-.4-.92-.59-1.43-.59-.52 0-1.04.2-1.43.59L10.3 9.45l-7.72 7.72c-.78.78-.78 2.05 0 2.83L4 21.41c.39.39.9.59 1.41.59.51 0 1.02-.2 1.41-.59l7.78-7.78 2.81-2.81c.8-.78.8-2.07 0-2.86zM5.41 20L4 18.59l7.72-7.72 1.47 1.35L5.41 20z\"/>\n",
              "  </svg>\n",
              "      </button>\n",
              "      \n",
              "  <style>\n",
              "    .colab-df-container {\n",
              "      display:flex;\n",
              "      flex-wrap:wrap;\n",
              "      gap: 12px;\n",
              "    }\n",
              "\n",
              "    .colab-df-convert {\n",
              "      background-color: #E8F0FE;\n",
              "      border: none;\n",
              "      border-radius: 50%;\n",
              "      cursor: pointer;\n",
              "      display: none;\n",
              "      fill: #1967D2;\n",
              "      height: 32px;\n",
              "      padding: 0 0 0 0;\n",
              "      width: 32px;\n",
              "    }\n",
              "\n",
              "    .colab-df-convert:hover {\n",
              "      background-color: #E2EBFA;\n",
              "      box-shadow: 0px 1px 2px rgba(60, 64, 67, 0.3), 0px 1px 3px 1px rgba(60, 64, 67, 0.15);\n",
              "      fill: #174EA6;\n",
              "    }\n",
              "\n",
              "    [theme=dark] .colab-df-convert {\n",
              "      background-color: #3B4455;\n",
              "      fill: #D2E3FC;\n",
              "    }\n",
              "\n",
              "    [theme=dark] .colab-df-convert:hover {\n",
              "      background-color: #434B5C;\n",
              "      box-shadow: 0px 1px 3px 1px rgba(0, 0, 0, 0.15);\n",
              "      filter: drop-shadow(0px 1px 2px rgba(0, 0, 0, 0.3));\n",
              "      fill: #FFFFFF;\n",
              "    }\n",
              "  </style>\n",
              "\n",
              "      <script>\n",
              "        const buttonEl =\n",
              "          document.querySelector('#df-ccd9911a-22eb-4c32-8e72-1c5c9bc7826a button.colab-df-convert');\n",
              "        buttonEl.style.display =\n",
              "          google.colab.kernel.accessAllowed ? 'block' : 'none';\n",
              "\n",
              "        async function convertToInteractive(key) {\n",
              "          const element = document.querySelector('#df-ccd9911a-22eb-4c32-8e72-1c5c9bc7826a');\n",
              "          const dataTable =\n",
              "            await google.colab.kernel.invokeFunction('convertToInteractive',\n",
              "                                                     [key], {});\n",
              "          if (!dataTable) return;\n",
              "\n",
              "          const docLinkHtml = 'Like what you see? Visit the ' +\n",
              "            '<a target=\"_blank\" href=https://colab.research.google.com/notebooks/data_table.ipynb>data table notebook</a>'\n",
              "            + ' to learn more about interactive tables.';\n",
              "          element.innerHTML = '';\n",
              "          dataTable['output_type'] = 'display_data';\n",
              "          await google.colab.output.renderOutput(dataTable, element);\n",
              "          const docLink = document.createElement('div');\n",
              "          docLink.innerHTML = docLinkHtml;\n",
              "          element.appendChild(docLink);\n",
              "        }\n",
              "      </script>\n",
              "    </div>\n",
              "  </div>\n",
              "  "
            ],
            "text/plain": [
              "borough                  BRONX  BROOKLYN  MANHATTAN  QUEENS  STATEN ISLAND\n",
              "complaint_type                                                            \n",
              "Blocked Driveway          4124      9382        751   10328            610\n",
              "HEAT/HOT WATER            7244      5648       5589    2989            254\n",
              "Illegal Parking          11701     28620      11261   22469           2161\n",
              "Missed Collection          754      3512       1010    3461           1197\n",
              "Noise - Commercial        1584      4002       4178    2175            226\n",
              "Noise - Helicopter          11      3470       8110    2255              9\n",
              "Noise - Residential      12880     14619       9916   11944           1476\n",
              "Noise - Street/Sidewalk   7440      6178       8678    3776            239\n",
              "Noise - Vehicle           2886      2596       2752    2435            164\n",
              "UNSANITARY CONDITION      5022      4488       3121    2140            384"
            ]
          },
          "execution_count": 10,
          "metadata": {},
          "output_type": "execute_result"
        }
      ],
      "source": [
        "# Filter the observations having complaint type from the top complaints list\n",
        "df_subset2 = df_subset[df_subset['complaint_type'].isin(top_complaints)] \n",
        "df_subset3 = df_subset2.groupby(['complaint_type','borough']) # grouping by 2 columns -'Complaint Type','Borough'\n",
        "df_subset4 = df_subset3.size().unstack() # Borough-level complaint frequency\n",
        "df_subset4.reset_index(inplace=False) # converts labels to column\n",
        "df_subset4"
      ]
    },
    {
      "attachments": {},
      "cell_type": "markdown",
      "metadata": {
        "id": "eDB94ph2PJlu"
      },
      "source": [
        "#### <a class=\"anchor\" id=\"4.1.4.Fig2\"></a>5.1.4.  plot of top 10 complaint types by each borough in 2023"
      ]
    },
    {
      "cell_type": "code",
      "execution_count": 11,
      "metadata": {
        "colab": {
          "base_uri": "https://localhost:8080/",
          "height": 872
        },
        "id": "SheVL7KKPJlu",
        "outputId": "d43439b2-7e0f-4173-b5eb-42986bcb4ee9"
      },
      "outputs": [
        {
          "data": {
            "image/png": "[encoded data removed]",
            "text/plain": [
              "<Figure size 1000x1000 with 1 Axes>"
            ]
          },
          "metadata": {},
          "output_type": "display_data"
        }
      ],
      "source": [
        "(df_subset4.reindex(index=df_subset4.mean(axis=1)\n",
        "    .sort_values(ascending=False)\n",
        "    .index).plot(kind='barh', figsize=(10, 10), width=0.75,\n",
        "                 title='Total number of complaints by complaint type for each Borough'))\n",
        "plt.xlabel('Total complaints')\n",
        "plt.show()"
      ]
    },
    {
      "attachments": {},
      "cell_type": "markdown",
      "metadata": {
        "id": "mFrCOfOKPJlu"
      },
      "source": [
        "<a class=\"anchor\" id=\"comment2\"></a> \n",
        "**Observation:** From the above two plots, it is evident that the highest complaint type in 2023 across most of the boroughs and NYC as a whole is Illegal Parking, followed by Noise - Residential, Heat/Hot water, and the others. \n",
        "\n",
        "Bronx has highest complaints related to Heat/Hot water."
      ]
    },
    {
      "attachments": {},
      "cell_type": "markdown",
      "metadata": {
        "id": "Yz0PdLiJPJlu"
      },
      "source": [
        "### <a class=\"anchor\" id=\"4.2.Q2\"></a>5.2. Analysis-2: Which boroughs are the biggest \"complainers\" relative to the size of the population in 2023?"
      ]
    },
    {
      "attachments": {},
      "cell_type": "markdown",
      "metadata": {
        "id": "Z1xCOEaXPJlu"
      },
      "source": [
        "#### 5.2.1. Import population data and convert the keys used for merging to the same data type"
      ]
    },
    {
      "cell_type": "code",
      "execution_count": 12,
      "metadata": {
        "colab": {
          "base_uri": "https://localhost:8080/",
          "height": 206
        },
        "id": "rmwxYUymj1qe",
        "outputId": "a025b451-9831-469d-e26d-5f19b4df6b20"
      },
      "outputs": [
        {
          "data": {
            "text/html": [
              "\n",
              "  <div id=\"df-1fe05a66-70e9-4406-9ea4-8fef3651145d\">\n",
              "    <div class=\"colab-df-container\">\n",
              "      <div>\n",
              "<style scoped>\n",
              "    .dataframe tbody tr th:only-of-type {\n",
              "        vertical-align: middle;\n",
              "    }\n",
              "\n",
              "    .dataframe tbody tr th {\n",
              "        vertical-align: top;\n",
              "    }\n",
              "\n",
              "    .dataframe thead th {\n",
              "        text-align: right;\n",
              "    }\n",
              "</style>\n",
              "<table border=\"1\" class=\"dataframe\">\n",
              "  <thead>\n",
              "    <tr style=\"text-align: right;\">\n",
              "      <th></th>\n",
              "      <th>modzcta</th>\n",
              "      <th>label</th>\n",
              "      <th>zcta</th>\n",
              "      <th>pop_est</th>\n",
              "      <th>the_geom.type</th>\n",
              "      <th>the_geom.coordinates</th>\n",
              "    </tr>\n",
              "  </thead>\n",
              "  <tbody>\n",
              "    <tr>\n",
              "      <th>0</th>\n",
              "      <td>10001</td>\n",
              "      <td>10001, 10118</td>\n",
              "      <td>10001, 10119, 10199</td>\n",
              "      <td>23072</td>\n",
              "      <td>MultiPolygon</td>\n",
              "      <td>[[[[-73.98774438827894, 40.74406551211233], [-...</td>\n",
              "    </tr>\n",
              "    <tr>\n",
              "      <th>1</th>\n",
              "      <td>10002</td>\n",
              "      <td>10002</td>\n",
              "      <td>10002</td>\n",
              "      <td>74993</td>\n",
              "      <td>MultiPolygon</td>\n",
              "      <td>[[[[-73.99750380833868, 40.714071446737606], [...</td>\n",
              "    </tr>\n",
              "    <tr>\n",
              "      <th>2</th>\n",
              "      <td>10003</td>\n",
              "      <td>10003</td>\n",
              "      <td>10003</td>\n",
              "      <td>54682</td>\n",
              "      <td>MultiPolygon</td>\n",
              "      <td>[[[[-73.98863576728334, 40.7229309971691], [-7...</td>\n",
              "    </tr>\n",
              "    <tr>\n",
              "      <th>3</th>\n",
              "      <td>10026</td>\n",
              "      <td>10026</td>\n",
              "      <td>10026</td>\n",
              "      <td>39363</td>\n",
              "      <td>MultiPolygon</td>\n",
              "      <td>[[[[-73.96200720826798, 40.80550908737535], [-...</td>\n",
              "    </tr>\n",
              "    <tr>\n",
              "      <th>4</th>\n",
              "      <td>10004</td>\n",
              "      <td>10004</td>\n",
              "      <td>10004</td>\n",
              "      <td>3028</td>\n",
              "      <td>MultiPolygon</td>\n",
              "      <td>[[[[-74.00826694529984, 40.707719796661166], [...</td>\n",
              "    </tr>\n",
              "  </tbody>\n",
              "</table>\n",
              "</div>\n",
              "      <button class=\"colab-df-convert\" onclick=\"convertToInteractive('df-1fe05a66-70e9-4406-9ea4-8fef3651145d')\"\n",
              "              title=\"Convert this dataframe to an interactive table.\"\n",
              "              style=\"display:none;\">\n",
              "        \n",
              "  <svg xmlns=\"http://www.w3.org/2000/svg\" height=\"24px\"viewBox=\"0 0 24 24\"\n",
              "       width=\"24px\">\n",
              "    <path d=\"M0 0h24v24H0V0z\" fill=\"none\"/>\n",
              "    <path d=\"M18.56 5.44l.94 2.06.94-2.06 2.06-.94-2.06-.94-.94-2.06-.94 2.06-2.06.94zm-11 1L8.5 8.5l.94-2.06 2.06-.94-2.06-.94L8.5 2.5l-.94 2.06-2.06.94zm10 10l.94 2.06.94-2.06 2.06-.94-2.06-.94-.94-2.06-.94 2.06-2.06.94z\"/><path d=\"M17.41 7.96l-1.37-1.37c-.4-.4-.92-.59-1.43-.59-.52 0-1.04.2-1.43.59L10.3 9.45l-7.72 7.72c-.78.78-.78 2.05 0 2.83L4 21.41c.39.39.9.59 1.41.59.51 0 1.02-.2 1.41-.59l7.78-7.78 2.81-2.81c.8-.78.8-2.07 0-2.86zM5.41 20L4 18.59l7.72-7.72 1.47 1.35L5.41 20z\"/>\n",
              "  </svg>\n",
              "      </button>\n",
              "      \n",
              "  <style>\n",
              "    .colab-df-container {\n",
              "      display:flex;\n",
              "      flex-wrap:wrap;\n",
              "      gap: 12px;\n",
              "    }\n",
              "\n",
              "    .colab-df-convert {\n",
              "      background-color: #E8F0FE;\n",
              "      border: none;\n",
              "      border-radius: 50%;\n",
              "      cursor: pointer;\n",
              "      display: none;\n",
              "      fill: #1967D2;\n",
              "      height: 32px;\n",
              "      padding: 0 0 0 0;\n",
              "      width: 32px;\n",
              "    }\n",
              "\n",
              "    .colab-df-convert:hover {\n",
              "      background-color: #E2EBFA;\n",
              "      box-shadow: 0px 1px 2px rgba(60, 64, 67, 0.3), 0px 1px 3px 1px rgba(60, 64, 67, 0.15);\n",
              "      fill: #174EA6;\n",
              "    }\n",
              "\n",
              "    [theme=dark] .colab-df-convert {\n",
              "      background-color: #3B4455;\n",
              "      fill: #D2E3FC;\n",
              "    }\n",
              "\n",
              "    [theme=dark] .colab-df-convert:hover {\n",
              "      background-color: #434B5C;\n",
              "      box-shadow: 0px 1px 3px 1px rgba(0, 0, 0, 0.15);\n",
              "      filter: drop-shadow(0px 1px 2px rgba(0, 0, 0, 0.3));\n",
              "      fill: #FFFFFF;\n",
              "    }\n",
              "  </style>\n",
              "\n",
              "      <script>\n",
              "        const buttonEl =\n",
              "          document.querySelector('#df-1fe05a66-70e9-4406-9ea4-8fef3651145d button.colab-df-convert');\n",
              "        buttonEl.style.display =\n",
              "          google.colab.kernel.accessAllowed ? 'block' : 'none';\n",
              "\n",
              "        async function convertToInteractive(key) {\n",
              "          const element = document.querySelector('#df-1fe05a66-70e9-4406-9ea4-8fef3651145d');\n",
              "          const dataTable =\n",
              "            await google.colab.kernel.invokeFunction('convertToInteractive',\n",
              "                                                     [key], {});\n",
              "          if (!dataTable) return;\n",
              "\n",
              "          const docLinkHtml = 'Like what you see? Visit the ' +\n",
              "            '<a target=\"_blank\" href=https://colab.research.google.com/notebooks/data_table.ipynb>data table notebook</a>'\n",
              "            + ' to learn more about interactive tables.';\n",
              "          element.innerHTML = '';\n",
              "          dataTable['output_type'] = 'display_data';\n",
              "          await google.colab.output.renderOutput(dataTable, element);\n",
              "          const docLink = document.createElement('div');\n",
              "          docLink.innerHTML = docLinkHtml;\n",
              "          element.appendChild(docLink);\n",
              "        }\n",
              "      </script>\n",
              "    </div>\n",
              "  </div>\n",
              "  "
            ],
            "text/plain": [
              "  modzcta         label                 zcta pop_est the_geom.type  \\\n",
              "0   10001  10001, 10118  10001, 10119, 10199   23072  MultiPolygon   \n",
              "1   10002         10002                10002   74993  MultiPolygon   \n",
              "2   10003         10003                10003   54682  MultiPolygon   \n",
              "3   10026         10026                10026   39363  MultiPolygon   \n",
              "4   10004         10004                10004    3028  MultiPolygon   \n",
              "\n",
              "                                the_geom.coordinates  \n",
              "0  [[[[-73.98774438827894, 40.74406551211233], [-...  \n",
              "1  [[[[-73.99750380833868, 40.714071446737606], [...  \n",
              "2  [[[[-73.98863576728334, 40.7229309971691], [-7...  \n",
              "3  [[[[-73.96200720826798, 40.80550908737535], [-...  \n",
              "4  [[[[-74.00826694529984, 40.707719796661166], [...  "
            ]
          },
          "execution_count": 12,
          "metadata": {},
          "output_type": "execute_result"
        }
      ],
      "source": [
        "Data_API = requests.get('https://data.cityofnewyork.us/resource/pri4-ifjk.json')\n",
        "Pop_Data = Data_API.text\n",
        "parse_json = json.loads(Pop_Data) #parses the json objects\n",
        "Pop_Data_df = pd.json_normalize(parse_json) #flatterns the json object to form a dataframe\n",
        "Pop_Data_df.head()"
      ]
    },
    {
      "cell_type": "code",
      "execution_count": 13,
      "metadata": {
        "colab": {
          "base_uri": "https://localhost:8080/",
          "height": 206
        },
        "id": "HiFGg__1kGjj",
        "outputId": "7387ed01-85b3-4b05-d21e-fc38f7645c1c"
      },
      "outputs": [
        {
          "data": {
            "text/html": [
              "\n",
              "  <div id=\"df-feb1c490-7a37-41e9-b792-91a831b6d2cd\">\n",
              "    <div class=\"colab-df-container\">\n",
              "      <div>\n",
              "<style scoped>\n",
              "    .dataframe tbody tr th:only-of-type {\n",
              "        vertical-align: middle;\n",
              "    }\n",
              "\n",
              "    .dataframe tbody tr th {\n",
              "        vertical-align: top;\n",
              "    }\n",
              "\n",
              "    .dataframe thead th {\n",
              "        text-align: right;\n",
              "    }\n",
              "</style>\n",
              "<table border=\"1\" class=\"dataframe\">\n",
              "  <thead>\n",
              "    <tr style=\"text-align: right;\">\n",
              "      <th></th>\n",
              "      <th>incident_zip</th>\n",
              "      <th>population</th>\n",
              "    </tr>\n",
              "  </thead>\n",
              "  <tbody>\n",
              "    <tr>\n",
              "      <th>0</th>\n",
              "      <td>10001</td>\n",
              "      <td>23072</td>\n",
              "    </tr>\n",
              "    <tr>\n",
              "      <th>1</th>\n",
              "      <td>10002</td>\n",
              "      <td>74993</td>\n",
              "    </tr>\n",
              "    <tr>\n",
              "      <th>2</th>\n",
              "      <td>10003</td>\n",
              "      <td>54682</td>\n",
              "    </tr>\n",
              "    <tr>\n",
              "      <th>3</th>\n",
              "      <td>10026</td>\n",
              "      <td>39363</td>\n",
              "    </tr>\n",
              "    <tr>\n",
              "      <th>4</th>\n",
              "      <td>10004</td>\n",
              "      <td>3028</td>\n",
              "    </tr>\n",
              "  </tbody>\n",
              "</table>\n",
              "</div>\n",
              "      <button class=\"colab-df-convert\" onclick=\"convertToInteractive('df-feb1c490-7a37-41e9-b792-91a831b6d2cd')\"\n",
              "              title=\"Convert this dataframe to an interactive table.\"\n",
              "              style=\"display:none;\">\n",
              "        \n",
              "  <svg xmlns=\"http://www.w3.org/2000/svg\" height=\"24px\"viewBox=\"0 0 24 24\"\n",
              "       width=\"24px\">\n",
              "    <path d=\"M0 0h24v24H0V0z\" fill=\"none\"/>\n",
              "    <path d=\"M18.56 5.44l.94 2.06.94-2.06 2.06-.94-2.06-.94-.94-2.06-.94 2.06-2.06.94zm-11 1L8.5 8.5l.94-2.06 2.06-.94-2.06-.94L8.5 2.5l-.94 2.06-2.06.94zm10 10l.94 2.06.94-2.06 2.06-.94-2.06-.94-.94-2.06-.94 2.06-2.06.94z\"/><path d=\"M17.41 7.96l-1.37-1.37c-.4-.4-.92-.59-1.43-.59-.52 0-1.04.2-1.43.59L10.3 9.45l-7.72 7.72c-.78.78-.78 2.05 0 2.83L4 21.41c.39.39.9.59 1.41.59.51 0 1.02-.2 1.41-.59l7.78-7.78 2.81-2.81c.8-.78.8-2.07 0-2.86zM5.41 20L4 18.59l7.72-7.72 1.47 1.35L5.41 20z\"/>\n",
              "  </svg>\n",
              "      </button>\n",
              "      \n",
              "  <style>\n",
              "    .colab-df-container {\n",
              "      display:flex;\n",
              "      flex-wrap:wrap;\n",
              "      gap: 12px;\n",
              "    }\n",
              "\n",
              "    .colab-df-convert {\n",
              "      background-color: #E8F0FE;\n",
              "      border: none;\n",
              "      border-radius: 50%;\n",
              "      cursor: pointer;\n",
              "      display: none;\n",
              "      fill: #1967D2;\n",
              "      height: 32px;\n",
              "      padding: 0 0 0 0;\n",
              "      width: 32px;\n",
              "    }\n",
              "\n",
              "    .colab-df-convert:hover {\n",
              "      background-color: #E2EBFA;\n",
              "      box-shadow: 0px 1px 2px rgba(60, 64, 67, 0.3), 0px 1px 3px 1px rgba(60, 64, 67, 0.15);\n",
              "      fill: #174EA6;\n",
              "    }\n",
              "\n",
              "    [theme=dark] .colab-df-convert {\n",
              "      background-color: #3B4455;\n",
              "      fill: #D2E3FC;\n",
              "    }\n",
              "\n",
              "    [theme=dark] .colab-df-convert:hover {\n",
              "      background-color: #434B5C;\n",
              "      box-shadow: 0px 1px 3px 1px rgba(0, 0, 0, 0.15);\n",
              "      filter: drop-shadow(0px 1px 2px rgba(0, 0, 0, 0.3));\n",
              "      fill: #FFFFFF;\n",
              "    }\n",
              "  </style>\n",
              "\n",
              "      <script>\n",
              "        const buttonEl =\n",
              "          document.querySelector('#df-feb1c490-7a37-41e9-b792-91a831b6d2cd button.colab-df-convert');\n",
              "        buttonEl.style.display =\n",
              "          google.colab.kernel.accessAllowed ? 'block' : 'none';\n",
              "\n",
              "        async function convertToInteractive(key) {\n",
              "          const element = document.querySelector('#df-feb1c490-7a37-41e9-b792-91a831b6d2cd');\n",
              "          const dataTable =\n",
              "            await google.colab.kernel.invokeFunction('convertToInteractive',\n",
              "                                                     [key], {});\n",
              "          if (!dataTable) return;\n",
              "\n",
              "          const docLinkHtml = 'Like what you see? Visit the ' +\n",
              "            '<a target=\"_blank\" href=https://colab.research.google.com/notebooks/data_table.ipynb>data table notebook</a>'\n",
              "            + ' to learn more about interactive tables.';\n",
              "          element.innerHTML = '';\n",
              "          dataTable['output_type'] = 'display_data';\n",
              "          await google.colab.output.renderOutput(dataTable, element);\n",
              "          const docLink = document.createElement('div');\n",
              "          docLink.innerHTML = docLinkHtml;\n",
              "          element.appendChild(docLink);\n",
              "        }\n",
              "      </script>\n",
              "    </div>\n",
              "  </div>\n",
              "  "
            ],
            "text/plain": [
              "   incident_zip  population\n",
              "0         10001       23072\n",
              "1         10002       74993\n",
              "2         10003       54682\n",
              "3         10026       39363\n",
              "4         10004        3028"
            ]
          },
          "execution_count": 13,
          "metadata": {},
          "output_type": "execute_result"
        }
      ],
      "source": [
        "# Include only the essential columns and strip spaces\n",
        "df2 = Pop_Data_df[['modzcta','pop_est']]\n",
        "\n",
        "# Strip spaces from the dataframe\n",
        "for item in df2.columns.tolist():\n",
        "  df2[item] = df2[item].str.strip()\n",
        "\n",
        "# Rename columns\n",
        "df2 = df2.rename(columns={'modzcta': 'incident_zip', 'pop_est': 'population'})\n",
        "\n",
        "# Convert string to numeric\n",
        "df2['population']= pd.to_numeric(df2['population'], errors='coerce') \n",
        "df2['incident_zip']= pd.to_numeric(df2['incident_zip'], errors='coerce') \n",
        "\n",
        "pop = df2.dropna() #delete rows with missing values\n",
        "\n",
        "# Drop rows with population=0, otherwise it creates complaint-index = infinity\n",
        "pop.drop(pop[pop['population'] == 0].index, inplace = True) \n",
        "\n",
        "# Save the population dataset in Google Drive\n",
        "pop.to_csv('/content/gdrive/My Drive/Colab Notebooks/311_Service_Request_Analysis/population.csv', index=False) \n",
        "\n",
        "pop.head()\n",
        "# df2.head()"
      ]
    },
    {
      "attachments": {},
      "cell_type": "markdown",
      "metadata": {
        "id": "BjElLLjfPJlv"
      },
      "source": [
        "#### 5.2.2. Create unique zipcode & borough combination table from the original 311 service request dataset"
      ]
    },
    {
      "cell_type": "code",
      "execution_count": 14,
      "metadata": {
        "colab": {
          "base_uri": "https://localhost:8080/",
          "height": 206
        },
        "id": "-u6MZPGhPJlv",
        "outputId": "6771acc1-d5e5-45b4-dd6b-c50260a9b543",
        "scrolled": false
      },
      "outputs": [
        {
          "data": {
            "text/html": [
              "\n",
              "  <div id=\"df-b6fa7d31-65a2-4403-8336-f204eb350a34\">\n",
              "    <div class=\"colab-df-container\">\n",
              "      <div>\n",
              "<style scoped>\n",
              "    .dataframe tbody tr th:only-of-type {\n",
              "        vertical-align: middle;\n",
              "    }\n",
              "\n",
              "    .dataframe tbody tr th {\n",
              "        vertical-align: top;\n",
              "    }\n",
              "\n",
              "    .dataframe thead th {\n",
              "        text-align: right;\n",
              "    }\n",
              "</style>\n",
              "<table border=\"1\" class=\"dataframe\">\n",
              "  <thead>\n",
              "    <tr style=\"text-align: right;\">\n",
              "      <th></th>\n",
              "      <th>borough</th>\n",
              "      <th>incident_zip</th>\n",
              "    </tr>\n",
              "  </thead>\n",
              "  <tbody>\n",
              "    <tr>\n",
              "      <th>26</th>\n",
              "      <td>BRONX</td>\n",
              "      <td>10454</td>\n",
              "    </tr>\n",
              "    <tr>\n",
              "      <th>60</th>\n",
              "      <td>BRONX</td>\n",
              "      <td>10463</td>\n",
              "    </tr>\n",
              "    <tr>\n",
              "      <th>71</th>\n",
              "      <td>BRONX</td>\n",
              "      <td>10453</td>\n",
              "    </tr>\n",
              "    <tr>\n",
              "      <th>85</th>\n",
              "      <td>BROOKLYN</td>\n",
              "      <td>11238</td>\n",
              "    </tr>\n",
              "    <tr>\n",
              "      <th>89</th>\n",
              "      <td>QUEENS</td>\n",
              "      <td>11372</td>\n",
              "    </tr>\n",
              "  </tbody>\n",
              "</table>\n",
              "</div>\n",
              "      <button class=\"colab-df-convert\" onclick=\"convertToInteractive('df-b6fa7d31-65a2-4403-8336-f204eb350a34')\"\n",
              "              title=\"Convert this dataframe to an interactive table.\"\n",
              "              style=\"display:none;\">\n",
              "        \n",
              "  <svg xmlns=\"http://www.w3.org/2000/svg\" height=\"24px\"viewBox=\"0 0 24 24\"\n",
              "       width=\"24px\">\n",
              "    <path d=\"M0 0h24v24H0V0z\" fill=\"none\"/>\n",
              "    <path d=\"M18.56 5.44l.94 2.06.94-2.06 2.06-.94-2.06-.94-.94-2.06-.94 2.06-2.06.94zm-11 1L8.5 8.5l.94-2.06 2.06-.94-2.06-.94L8.5 2.5l-.94 2.06-2.06.94zm10 10l.94 2.06.94-2.06 2.06-.94-2.06-.94-.94-2.06-.94 2.06-2.06.94z\"/><path d=\"M17.41 7.96l-1.37-1.37c-.4-.4-.92-.59-1.43-.59-.52 0-1.04.2-1.43.59L10.3 9.45l-7.72 7.72c-.78.78-.78 2.05 0 2.83L4 21.41c.39.39.9.59 1.41.59.51 0 1.02-.2 1.41-.59l7.78-7.78 2.81-2.81c.8-.78.8-2.07 0-2.86zM5.41 20L4 18.59l7.72-7.72 1.47 1.35L5.41 20z\"/>\n",
              "  </svg>\n",
              "      </button>\n",
              "      \n",
              "  <style>\n",
              "    .colab-df-container {\n",
              "      display:flex;\n",
              "      flex-wrap:wrap;\n",
              "      gap: 12px;\n",
              "    }\n",
              "\n",
              "    .colab-df-convert {\n",
              "      background-color: #E8F0FE;\n",
              "      border: none;\n",
              "      border-radius: 50%;\n",
              "      cursor: pointer;\n",
              "      display: none;\n",
              "      fill: #1967D2;\n",
              "      height: 32px;\n",
              "      padding: 0 0 0 0;\n",
              "      width: 32px;\n",
              "    }\n",
              "\n",
              "    .colab-df-convert:hover {\n",
              "      background-color: #E2EBFA;\n",
              "      box-shadow: 0px 1px 2px rgba(60, 64, 67, 0.3), 0px 1px 3px 1px rgba(60, 64, 67, 0.15);\n",
              "      fill: #174EA6;\n",
              "    }\n",
              "\n",
              "    [theme=dark] .colab-df-convert {\n",
              "      background-color: #3B4455;\n",
              "      fill: #D2E3FC;\n",
              "    }\n",
              "\n",
              "    [theme=dark] .colab-df-convert:hover {\n",
              "      background-color: #434B5C;\n",
              "      box-shadow: 0px 1px 3px 1px rgba(0, 0, 0, 0.15);\n",
              "      filter: drop-shadow(0px 1px 2px rgba(0, 0, 0, 0.3));\n",
              "      fill: #FFFFFF;\n",
              "    }\n",
              "  </style>\n",
              "\n",
              "      <script>\n",
              "        const buttonEl =\n",
              "          document.querySelector('#df-b6fa7d31-65a2-4403-8336-f204eb350a34 button.colab-df-convert');\n",
              "        buttonEl.style.display =\n",
              "          google.colab.kernel.accessAllowed ? 'block' : 'none';\n",
              "\n",
              "        async function convertToInteractive(key) {\n",
              "          const element = document.querySelector('#df-b6fa7d31-65a2-4403-8336-f204eb350a34');\n",
              "          const dataTable =\n",
              "            await google.colab.kernel.invokeFunction('convertToInteractive',\n",
              "                                                     [key], {});\n",
              "          if (!dataTable) return;\n",
              "\n",
              "          const docLinkHtml = 'Like what you see? Visit the ' +\n",
              "            '<a target=\"_blank\" href=https://colab.research.google.com/notebooks/data_table.ipynb>data table notebook</a>'\n",
              "            + ' to learn more about interactive tables.';\n",
              "          element.innerHTML = '';\n",
              "          dataTable['output_type'] = 'display_data';\n",
              "          await google.colab.output.renderOutput(dataTable, element);\n",
              "          const docLink = document.createElement('div');\n",
              "          docLink.innerHTML = docLinkHtml;\n",
              "          element.appendChild(docLink);\n",
              "        }\n",
              "      </script>\n",
              "    </div>\n",
              "  </div>\n",
              "  "
            ],
            "text/plain": [
              "     borough  incident_zip\n",
              "26     BRONX         10454\n",
              "60     BRONX         10463\n",
              "71     BRONX         10453\n",
              "85  BROOKLYN         11238\n",
              "89    QUEENS         11372"
            ]
          },
          "execution_count": 14,
          "metadata": {},
          "output_type": "execute_result"
        }
      ],
      "source": [
        "# Convert string to numeric\n",
        "df_subset = df_subset.dropna()\n",
        "df_subset['incident_zip'] = df_subset['incident_zip'].astype(int)\n",
        "\n",
        "Borough_Zip = df_subset[['borough','incident_zip']].drop_duplicates()\n",
        "Borough_Zip = Borough_Zip.dropna() # dropping rows with missing values\n",
        "Borough_Zip.head()"
      ]
    },
    {
      "attachments": {},
      "cell_type": "markdown",
      "metadata": {
        "id": "ZC0DXFQBPJlv"
      },
      "source": [
        "#### 5.2.3. Calculate total number of complaints by zip code"
      ]
    },
    {
      "cell_type": "code",
      "execution_count": 15,
      "metadata": {
        "colab": {
          "base_uri": "https://localhost:8080/"
        },
        "id": "M8stZ03uPJlv",
        "outputId": "65ff5a9d-71a6-43c9-d49b-8c720456a8da",
        "scrolled": false
      },
      "outputs": [
        {
          "data": {
            "text/plain": [
              "(220, 2)"
            ]
          },
          "execution_count": 15,
          "metadata": {},
          "output_type": "execute_result"
        }
      ],
      "source": [
        "total_complaints_freq_all = df_subset['incident_zip'].value_counts().tolist() #list with frequencies of the complaints\n",
        "total_complaints_all = df_subset['incident_zip'].value_counts().index.tolist() #list with index of zipcodes\n",
        "total_complaints_freq_all = pd.DataFrame(total_complaints_freq_all, columns=['num_complaints'])\n",
        "total_complaints_all = pd.DataFrame(total_complaints_all, columns=['incident_zip'])\n",
        "df_subset5 = pd.concat([total_complaints_all, total_complaints_freq_all], axis=1)\n",
        "df_subset5.shape"
      ]
    },
    {
      "attachments": {},
      "cell_type": "markdown",
      "metadata": {
        "id": "EkPw5u1-PJl4"
      },
      "source": [
        "#### 5.2.4. Merge population dataset with the above total number of complaints dataset using zip code as the key"
      ]
    },
    {
      "cell_type": "code",
      "execution_count": 16,
      "metadata": {
        "colab": {
          "base_uri": "https://localhost:8080/",
          "height": 242
        },
        "id": "u76C0l6aPJl4",
        "outputId": "ac8962f9-ec2c-4909-b7b3-61760ee1e8c4",
        "scrolled": false
      },
      "outputs": [
        {
          "name": "stdout",
          "output_type": "stream",
          "text": [
            "(177, 2)\n",
            "(220, 3)\n"
          ]
        },
        {
          "data": {
            "text/html": [
              "\n",
              "  <div id=\"df-61508d1e-7417-4a54-8a95-a711ee437c49\">\n",
              "    <div class=\"colab-df-container\">\n",
              "      <div>\n",
              "<style scoped>\n",
              "    .dataframe tbody tr th:only-of-type {\n",
              "        vertical-align: middle;\n",
              "    }\n",
              "\n",
              "    .dataframe tbody tr th {\n",
              "        vertical-align: top;\n",
              "    }\n",
              "\n",
              "    .dataframe thead th {\n",
              "        text-align: right;\n",
              "    }\n",
              "</style>\n",
              "<table border=\"1\" class=\"dataframe\">\n",
              "  <thead>\n",
              "    <tr style=\"text-align: right;\">\n",
              "      <th></th>\n",
              "      <th>incident_zip</th>\n",
              "      <th>num_complaints</th>\n",
              "      <th>population</th>\n",
              "    </tr>\n",
              "  </thead>\n",
              "  <tbody>\n",
              "    <tr>\n",
              "      <th>0</th>\n",
              "      <td>11385</td>\n",
              "      <td>6408</td>\n",
              "      <td>106717.0</td>\n",
              "    </tr>\n",
              "    <tr>\n",
              "      <th>1</th>\n",
              "      <td>11226</td>\n",
              "      <td>6329</td>\n",
              "      <td>100277.0</td>\n",
              "    </tr>\n",
              "    <tr>\n",
              "      <th>2</th>\n",
              "      <td>10468</td>\n",
              "      <td>5823</td>\n",
              "      <td>78647.0</td>\n",
              "    </tr>\n",
              "    <tr>\n",
              "      <th>3</th>\n",
              "      <td>10467</td>\n",
              "      <td>5764</td>\n",
              "      <td>103732.0</td>\n",
              "    </tr>\n",
              "    <tr>\n",
              "      <th>4</th>\n",
              "      <td>11201</td>\n",
              "      <td>5712</td>\n",
              "      <td>62823.0</td>\n",
              "    </tr>\n",
              "  </tbody>\n",
              "</table>\n",
              "</div>\n",
              "      <button class=\"colab-df-convert\" onclick=\"convertToInteractive('df-61508d1e-7417-4a54-8a95-a711ee437c49')\"\n",
              "              title=\"Convert this dataframe to an interactive table.\"\n",
              "              style=\"display:none;\">\n",
              "        \n",
              "  <svg xmlns=\"http://www.w3.org/2000/svg\" height=\"24px\"viewBox=\"0 0 24 24\"\n",
              "       width=\"24px\">\n",
              "    <path d=\"M0 0h24v24H0V0z\" fill=\"none\"/>\n",
              "    <path d=\"M18.56 5.44l.94 2.06.94-2.06 2.06-.94-2.06-.94-.94-2.06-.94 2.06-2.06.94zm-11 1L8.5 8.5l.94-2.06 2.06-.94-2.06-.94L8.5 2.5l-.94 2.06-2.06.94zm10 10l.94 2.06.94-2.06 2.06-.94-2.06-.94-.94-2.06-.94 2.06-2.06.94z\"/><path d=\"M17.41 7.96l-1.37-1.37c-.4-.4-.92-.59-1.43-.59-.52 0-1.04.2-1.43.59L10.3 9.45l-7.72 7.72c-.78.78-.78 2.05 0 2.83L4 21.41c.39.39.9.59 1.41.59.51 0 1.02-.2 1.41-.59l7.78-7.78 2.81-2.81c.8-.78.8-2.07 0-2.86zM5.41 20L4 18.59l7.72-7.72 1.47 1.35L5.41 20z\"/>\n",
              "  </svg>\n",
              "      </button>\n",
              "      \n",
              "  <style>\n",
              "    .colab-df-container {\n",
              "      display:flex;\n",
              "      flex-wrap:wrap;\n",
              "      gap: 12px;\n",
              "    }\n",
              "\n",
              "    .colab-df-convert {\n",
              "      background-color: #E8F0FE;\n",
              "      border: none;\n",
              "      border-radius: 50%;\n",
              "      cursor: pointer;\n",
              "      display: none;\n",
              "      fill: #1967D2;\n",
              "      height: 32px;\n",
              "      padding: 0 0 0 0;\n",
              "      width: 32px;\n",
              "    }\n",
              "\n",
              "    .colab-df-convert:hover {\n",
              "      background-color: #E2EBFA;\n",
              "      box-shadow: 0px 1px 2px rgba(60, 64, 67, 0.3), 0px 1px 3px 1px rgba(60, 64, 67, 0.15);\n",
              "      fill: #174EA6;\n",
              "    }\n",
              "\n",
              "    [theme=dark] .colab-df-convert {\n",
              "      background-color: #3B4455;\n",
              "      fill: #D2E3FC;\n",
              "    }\n",
              "\n",
              "    [theme=dark] .colab-df-convert:hover {\n",
              "      background-color: #434B5C;\n",
              "      box-shadow: 0px 1px 3px 1px rgba(0, 0, 0, 0.15);\n",
              "      filter: drop-shadow(0px 1px 2px rgba(0, 0, 0, 0.3));\n",
              "      fill: #FFFFFF;\n",
              "    }\n",
              "  </style>\n",
              "\n",
              "      <script>\n",
              "        const buttonEl =\n",
              "          document.querySelector('#df-61508d1e-7417-4a54-8a95-a711ee437c49 button.colab-df-convert');\n",
              "        buttonEl.style.display =\n",
              "          google.colab.kernel.accessAllowed ? 'block' : 'none';\n",
              "\n",
              "        async function convertToInteractive(key) {\n",
              "          const element = document.querySelector('#df-61508d1e-7417-4a54-8a95-a711ee437c49');\n",
              "          const dataTable =\n",
              "            await google.colab.kernel.invokeFunction('convertToInteractive',\n",
              "                                                     [key], {});\n",
              "          if (!dataTable) return;\n",
              "\n",
              "          const docLinkHtml = 'Like what you see? Visit the ' +\n",
              "            '<a target=\"_blank\" href=https://colab.research.google.com/notebooks/data_table.ipynb>data table notebook</a>'\n",
              "            + ' to learn more about interactive tables.';\n",
              "          element.innerHTML = '';\n",
              "          dataTable['output_type'] = 'display_data';\n",
              "          await google.colab.output.renderOutput(dataTable, element);\n",
              "          const docLink = document.createElement('div');\n",
              "          docLink.innerHTML = docLinkHtml;\n",
              "          element.appendChild(docLink);\n",
              "        }\n",
              "      </script>\n",
              "    </div>\n",
              "  </div>\n",
              "  "
            ],
            "text/plain": [
              "   incident_zip  num_complaints  population\n",
              "0         11385            6408    106717.0\n",
              "1         11226            6329    100277.0\n",
              "2         10468            5823     78647.0\n",
              "3         10467            5764    103732.0\n",
              "4         11201            5712     62823.0"
            ]
          },
          "execution_count": 16,
          "metadata": {},
          "output_type": "execute_result"
        }
      ],
      "source": [
        "df_subset6 = df_subset5.merge(pop, on='incident_zip', how='left') #Left join merge\n",
        "print(pop.shape)\n",
        "print(df_subset6.shape) # checking if the merged table has same no. of obs as the left-side dataset\n",
        "\n",
        "# Save the merged dataset in Google Drive\n",
        "df_subset6.to_csv('/content/gdrive/My Drive/Colab Notebooks/311_Service_Request_Analysis/df_subset6.csv', index=False) \n",
        "\n",
        "df_subset6.head()"
      ]
    },
    {
      "attachments": {},
      "cell_type": "markdown",
      "metadata": {
        "id": "_hO16RIBPJl4"
      },
      "source": [
        "#### 5.2.5. Merging Borough Zip table with total number of complaints dataset to estimate complaint-index (total complaints relative to their population) for each borough of NYC"
      ]
    },
    {
      "cell_type": "code",
      "execution_count": 17,
      "metadata": {
        "colab": {
          "base_uri": "https://localhost:8080/",
          "height": 242
        },
        "id": "DZ8RsfX5PJl4",
        "outputId": "53ececa8-26e9-41d3-b240-1d9f0febaff0",
        "scrolled": false
      },
      "outputs": [
        {
          "name": "stdout",
          "output_type": "stream",
          "text": [
            "(222, 2)\n",
            "(5, 3)\n"
          ]
        },
        {
          "data": {
            "text/html": [
              "\n",
              "  <div id=\"df-710c84f4-1800-4b4b-a497-b87f15871432\">\n",
              "    <div class=\"colab-df-container\">\n",
              "      <div>\n",
              "<style scoped>\n",
              "    .dataframe tbody tr th:only-of-type {\n",
              "        vertical-align: middle;\n",
              "    }\n",
              "\n",
              "    .dataframe tbody tr th {\n",
              "        vertical-align: top;\n",
              "    }\n",
              "\n",
              "    .dataframe thead th {\n",
              "        text-align: right;\n",
              "    }\n",
              "</style>\n",
              "<table border=\"1\" class=\"dataframe\">\n",
              "  <thead>\n",
              "    <tr style=\"text-align: right;\">\n",
              "      <th></th>\n",
              "      <th>borough</th>\n",
              "      <th>complaint_index</th>\n",
              "    </tr>\n",
              "  </thead>\n",
              "  <tbody>\n",
              "    <tr>\n",
              "      <th>0</th>\n",
              "      <td>BRONX</td>\n",
              "      <td>0.055515</td>\n",
              "    </tr>\n",
              "    <tr>\n",
              "      <th>1</th>\n",
              "      <td>BROOKLYN</td>\n",
              "      <td>0.048793</td>\n",
              "    </tr>\n",
              "    <tr>\n",
              "      <th>2</th>\n",
              "      <td>MANHATTAN</td>\n",
              "      <td>0.049610</td>\n",
              "    </tr>\n",
              "    <tr>\n",
              "      <th>3</th>\n",
              "      <td>QUEENS</td>\n",
              "      <td>0.045483</td>\n",
              "    </tr>\n",
              "    <tr>\n",
              "      <th>4</th>\n",
              "      <td>STATEN ISLAND</td>\n",
              "      <td>0.036414</td>\n",
              "    </tr>\n",
              "  </tbody>\n",
              "</table>\n",
              "</div>\n",
              "      <button class=\"colab-df-convert\" onclick=\"convertToInteractive('df-710c84f4-1800-4b4b-a497-b87f15871432')\"\n",
              "              title=\"Convert this dataframe to an interactive table.\"\n",
              "              style=\"display:none;\">\n",
              "        \n",
              "  <svg xmlns=\"http://www.w3.org/2000/svg\" height=\"24px\"viewBox=\"0 0 24 24\"\n",
              "       width=\"24px\">\n",
              "    <path d=\"M0 0h24v24H0V0z\" fill=\"none\"/>\n",
              "    <path d=\"M18.56 5.44l.94 2.06.94-2.06 2.06-.94-2.06-.94-.94-2.06-.94 2.06-2.06.94zm-11 1L8.5 8.5l.94-2.06 2.06-.94-2.06-.94L8.5 2.5l-.94 2.06-2.06.94zm10 10l.94 2.06.94-2.06 2.06-.94-2.06-.94-.94-2.06-.94 2.06-2.06.94z\"/><path d=\"M17.41 7.96l-1.37-1.37c-.4-.4-.92-.59-1.43-.59-.52 0-1.04.2-1.43.59L10.3 9.45l-7.72 7.72c-.78.78-.78 2.05 0 2.83L4 21.41c.39.39.9.59 1.41.59.51 0 1.02-.2 1.41-.59l7.78-7.78 2.81-2.81c.8-.78.8-2.07 0-2.86zM5.41 20L4 18.59l7.72-7.72 1.47 1.35L5.41 20z\"/>\n",
              "  </svg>\n",
              "      </button>\n",
              "      \n",
              "  <style>\n",
              "    .colab-df-container {\n",
              "      display:flex;\n",
              "      flex-wrap:wrap;\n",
              "      gap: 12px;\n",
              "    }\n",
              "\n",
              "    .colab-df-convert {\n",
              "      background-color: #E8F0FE;\n",
              "      border: none;\n",
              "      border-radius: 50%;\n",
              "      cursor: pointer;\n",
              "      display: none;\n",
              "      fill: #1967D2;\n",
              "      height: 32px;\n",
              "      padding: 0 0 0 0;\n",
              "      width: 32px;\n",
              "    }\n",
              "\n",
              "    .colab-df-convert:hover {\n",
              "      background-color: #E2EBFA;\n",
              "      box-shadow: 0px 1px 2px rgba(60, 64, 67, 0.3), 0px 1px 3px 1px rgba(60, 64, 67, 0.15);\n",
              "      fill: #174EA6;\n",
              "    }\n",
              "\n",
              "    [theme=dark] .colab-df-convert {\n",
              "      background-color: #3B4455;\n",
              "      fill: #D2E3FC;\n",
              "    }\n",
              "\n",
              "    [theme=dark] .colab-df-convert:hover {\n",
              "      background-color: #434B5C;\n",
              "      box-shadow: 0px 1px 3px 1px rgba(0, 0, 0, 0.15);\n",
              "      filter: drop-shadow(0px 1px 2px rgba(0, 0, 0, 0.3));\n",
              "      fill: #FFFFFF;\n",
              "    }\n",
              "  </style>\n",
              "\n",
              "      <script>\n",
              "        const buttonEl =\n",
              "          document.querySelector('#df-710c84f4-1800-4b4b-a497-b87f15871432 button.colab-df-convert');\n",
              "        buttonEl.style.display =\n",
              "          google.colab.kernel.accessAllowed ? 'block' : 'none';\n",
              "\n",
              "        async function convertToInteractive(key) {\n",
              "          const element = document.querySelector('#df-710c84f4-1800-4b4b-a497-b87f15871432');\n",
              "          const dataTable =\n",
              "            await google.colab.kernel.invokeFunction('convertToInteractive',\n",
              "                                                     [key], {});\n",
              "          if (!dataTable) return;\n",
              "\n",
              "          const docLinkHtml = 'Like what you see? Visit the ' +\n",
              "            '<a target=\"_blank\" href=https://colab.research.google.com/notebooks/data_table.ipynb>data table notebook</a>'\n",
              "            + ' to learn more about interactive tables.';\n",
              "          element.innerHTML = '';\n",
              "          dataTable['output_type'] = 'display_data';\n",
              "          await google.colab.output.renderOutput(dataTable, element);\n",
              "          const docLink = document.createElement('div');\n",
              "          docLink.innerHTML = docLinkHtml;\n",
              "          element.appendChild(docLink);\n",
              "        }\n",
              "      </script>\n",
              "    </div>\n",
              "  </div>\n",
              "  "
            ],
            "text/plain": [
              "         borough  complaint_index\n",
              "0          BRONX         0.055515\n",
              "1       BROOKLYN         0.048793\n",
              "2      MANHATTAN         0.049610\n",
              "3         QUEENS         0.045483\n",
              "4  STATEN ISLAND         0.036414"
            ]
          },
          "execution_count": 17,
          "metadata": {},
          "output_type": "execute_result"
        }
      ],
      "source": [
        "df_subset7 = df_subset6.merge(Borough_Zip, on='incident_zip', how='left') #Left join merge\n",
        "df_subset7 = df_subset7.dropna() \n",
        "\n",
        "# Aggregate the number of complaints and population for each borough\n",
        "df_subset8 = df_subset7.groupby(['borough'])[['num_complaints','population']].sum()\n",
        "\n",
        "# Complaint-index at borough-level\n",
        "df_subset8['complaint_index'] = df_subset8['num_complaints']/df_subset8['population']\n",
        "\n",
        "print(Borough_Zip.shape)\n",
        "print(df_subset8.shape) # checking if the merged table has same no. of obs as the left-side dataset\n",
        "\n",
        "df_subset8.reset_index(inplace=True) # onverts labels to column\n",
        "df_subset9 = df_subset8[['borough','complaint_index']]\n",
        "df_subset9.head()"
      ]
    },
    {
      "attachments": {},
      "cell_type": "markdown",
      "metadata": {
        "id": "aNIl4AGIPJl5"
      },
      "source": [
        "#### <a class=\"anchor\" id=\"4.2.6.Fig3\"></a>5.2.6. Plot of Complaint-index (total complaints relative to their population) for each Borough in 2023"
      ]
    },
    {
      "cell_type": "code",
      "execution_count": 18,
      "metadata": {
        "colab": {
          "base_uri": "https://localhost:8080/",
          "height": 564
        },
        "id": "ruRT9jKuPJl5",
        "outputId": "7aa3cf10-e91c-4c17-c034-fe41b9a9e8cf",
        "scrolled": false
      },
      "outputs": [
        {
          "data": {
            "image/png": "[encoded data removed]",
            "text/plain": [
              "<Figure size 600x600 with 1 Axes>"
            ]
          },
          "metadata": {},
          "output_type": "display_data"
        }
      ],
      "source": [
        "(df_subset9.reindex(index=df_subset9.mean(axis=1)\n",
        "    .sort_values(ascending=False)\n",
        "    .index).set_index('borough').plot(kind='barh', figsize=(6,6), width=0.25)) #renaming bar plot index values\n",
        "plt.ylabel('Borough')\n",
        "plt.xlabel('Complaint-index')\n",
        "plt.title(\"Complaint-index (total complaints relative to their population) for each Borough of NYC in 2023\") \n",
        "plt.show()"
      ]
    },
    {
      "attachments": {},
      "cell_type": "markdown",
      "metadata": {
        "id": "ezgrHS4oPJl5"
      },
      "source": [
        "<a class=\"anchor\" id=\"comment3\"></a> \n",
        "**Observation:** From the above plot, Bronx has the most number of complaints relative to the size of its population in 2023, followed by Brooklyn, Queens, Manhattan, and Staten Island."
      ]
    },
    {
      "attachments": {},
      "cell_type": "markdown",
      "metadata": {
        "id": "bFtR242mPJl6"
      },
      "source": [
        "## 5.3. <a class=\"anchor\" id=\"4.3.Q3\"></a>Analysis-3: Run the Complaint index focusing on one or two complaint types you’re curious about."
      ]
    },
    {
      "attachments": {},
      "cell_type": "markdown",
      "metadata": {
        "id": "u5Ni8IGxPJl6"
      },
      "source": [
        "#### Here, I will analyze two of the most frequent complaint types- 'Illegal Parking' & 'Noise - Residential'"
      ]
    },
    {
      "attachments": {},
      "cell_type": "markdown",
      "metadata": {
        "id": "uM6o4EkEPJl6"
      },
      "source": [
        "#### 5.3.1. Calculate total number of complaints by complaint type by zipcode"
      ]
    },
    {
      "cell_type": "code",
      "execution_count": 19,
      "metadata": {
        "colab": {
          "base_uri": "https://localhost:8080/",
          "height": 224
        },
        "id": "tWC34qqwPJl6",
        "outputId": "b17ab66f-e609-480a-dd7d-70270f99f8c3",
        "scrolled": false
      },
      "outputs": [
        {
          "name": "stdout",
          "output_type": "stream",
          "text": [
            "(385, 3)\n"
          ]
        },
        {
          "data": {
            "text/html": [
              "\n",
              "  <div id=\"df-8fba01c3-a238-411e-a613-c6005eef6964\">\n",
              "    <div class=\"colab-df-container\">\n",
              "      <div>\n",
              "<style scoped>\n",
              "    .dataframe tbody tr th:only-of-type {\n",
              "        vertical-align: middle;\n",
              "    }\n",
              "\n",
              "    .dataframe tbody tr th {\n",
              "        vertical-align: top;\n",
              "    }\n",
              "\n",
              "    .dataframe thead th {\n",
              "        text-align: right;\n",
              "    }\n",
              "</style>\n",
              "<table border=\"1\" class=\"dataframe\">\n",
              "  <thead>\n",
              "    <tr style=\"text-align: right;\">\n",
              "      <th></th>\n",
              "      <th>incident_zip</th>\n",
              "      <th>complaint_type</th>\n",
              "      <th>num_complaints</th>\n",
              "    </tr>\n",
              "  </thead>\n",
              "  <tbody>\n",
              "    <tr>\n",
              "      <th>0</th>\n",
              "      <td>11201</td>\n",
              "      <td>Illegal Parking</td>\n",
              "      <td>2750</td>\n",
              "    </tr>\n",
              "    <tr>\n",
              "      <th>1</th>\n",
              "      <td>11101</td>\n",
              "      <td>Illegal Parking</td>\n",
              "      <td>2000</td>\n",
              "    </tr>\n",
              "    <tr>\n",
              "      <th>2</th>\n",
              "      <td>11385</td>\n",
              "      <td>Illegal Parking</td>\n",
              "      <td>1927</td>\n",
              "    </tr>\n",
              "    <tr>\n",
              "      <th>4</th>\n",
              "      <td>11222</td>\n",
              "      <td>Illegal Parking</td>\n",
              "      <td>1413</td>\n",
              "    </tr>\n",
              "    <tr>\n",
              "      <th>5</th>\n",
              "      <td>10466</td>\n",
              "      <td>Noise - Residential</td>\n",
              "      <td>1360</td>\n",
              "    </tr>\n",
              "  </tbody>\n",
              "</table>\n",
              "</div>\n",
              "      <button class=\"colab-df-convert\" onclick=\"convertToInteractive('df-8fba01c3-a238-411e-a613-c6005eef6964')\"\n",
              "              title=\"Convert this dataframe to an interactive table.\"\n",
              "              style=\"display:none;\">\n",
              "        \n",
              "  <svg xmlns=\"http://www.w3.org/2000/svg\" height=\"24px\"viewBox=\"0 0 24 24\"\n",
              "       width=\"24px\">\n",
              "    <path d=\"M0 0h24v24H0V0z\" fill=\"none\"/>\n",
              "    <path d=\"M18.56 5.44l.94 2.06.94-2.06 2.06-.94-2.06-.94-.94-2.06-.94 2.06-2.06.94zm-11 1L8.5 8.5l.94-2.06 2.06-.94-2.06-.94L8.5 2.5l-.94 2.06-2.06.94zm10 10l.94 2.06.94-2.06 2.06-.94-2.06-.94-.94-2.06-.94 2.06-2.06.94z\"/><path d=\"M17.41 7.96l-1.37-1.37c-.4-.4-.92-.59-1.43-.59-.52 0-1.04.2-1.43.59L10.3 9.45l-7.72 7.72c-.78.78-.78 2.05 0 2.83L4 21.41c.39.39.9.59 1.41.59.51 0 1.02-.2 1.41-.59l7.78-7.78 2.81-2.81c.8-.78.8-2.07 0-2.86zM5.41 20L4 18.59l7.72-7.72 1.47 1.35L5.41 20z\"/>\n",
              "  </svg>\n",
              "      </button>\n",
              "      \n",
              "  <style>\n",
              "    .colab-df-container {\n",
              "      display:flex;\n",
              "      flex-wrap:wrap;\n",
              "      gap: 12px;\n",
              "    }\n",
              "\n",
              "    .colab-df-convert {\n",
              "      background-color: #E8F0FE;\n",
              "      border: none;\n",
              "      border-radius: 50%;\n",
              "      cursor: pointer;\n",
              "      display: none;\n",
              "      fill: #1967D2;\n",
              "      height: 32px;\n",
              "      padding: 0 0 0 0;\n",
              "      width: 32px;\n",
              "    }\n",
              "\n",
              "    .colab-df-convert:hover {\n",
              "      background-color: #E2EBFA;\n",
              "      box-shadow: 0px 1px 2px rgba(60, 64, 67, 0.3), 0px 1px 3px 1px rgba(60, 64, 67, 0.15);\n",
              "      fill: #174EA6;\n",
              "    }\n",
              "\n",
              "    [theme=dark] .colab-df-convert {\n",
              "      background-color: #3B4455;\n",
              "      fill: #D2E3FC;\n",
              "    }\n",
              "\n",
              "    [theme=dark] .colab-df-convert:hover {\n",
              "      background-color: #434B5C;\n",
              "      box-shadow: 0px 1px 3px 1px rgba(0, 0, 0, 0.15);\n",
              "      filter: drop-shadow(0px 1px 2px rgba(0, 0, 0, 0.3));\n",
              "      fill: #FFFFFF;\n",
              "    }\n",
              "  </style>\n",
              "\n",
              "      <script>\n",
              "        const buttonEl =\n",
              "          document.querySelector('#df-8fba01c3-a238-411e-a613-c6005eef6964 button.colab-df-convert');\n",
              "        buttonEl.style.display =\n",
              "          google.colab.kernel.accessAllowed ? 'block' : 'none';\n",
              "\n",
              "        async function convertToInteractive(key) {\n",
              "          const element = document.querySelector('#df-8fba01c3-a238-411e-a613-c6005eef6964');\n",
              "          const dataTable =\n",
              "            await google.colab.kernel.invokeFunction('convertToInteractive',\n",
              "                                                     [key], {});\n",
              "          if (!dataTable) return;\n",
              "\n",
              "          const docLinkHtml = 'Like what you see? Visit the ' +\n",
              "            '<a target=\"_blank\" href=https://colab.research.google.com/notebooks/data_table.ipynb>data table notebook</a>'\n",
              "            + ' to learn more about interactive tables.';\n",
              "          element.innerHTML = '';\n",
              "          dataTable['output_type'] = 'display_data';\n",
              "          await google.colab.output.renderOutput(dataTable, element);\n",
              "          const docLink = document.createElement('div');\n",
              "          docLink.innerHTML = docLinkHtml;\n",
              "          element.appendChild(docLink);\n",
              "        }\n",
              "      </script>\n",
              "    </div>\n",
              "  </div>\n",
              "  "
            ],
            "text/plain": [
              "   incident_zip       complaint_type  num_complaints\n",
              "0         11201      Illegal Parking            2750\n",
              "1         11101      Illegal Parking            2000\n",
              "2         11385      Illegal Parking            1927\n",
              "4         11222      Illegal Parking            1413\n",
              "5         10466  Noise - Residential            1360"
            ]
          },
          "execution_count": 19,
          "metadata": {},
          "output_type": "execute_result"
        }
      ],
      "source": [
        "# List of frequencies of the complaints\n",
        "ct_total_complaints_freq_all = df_subset[['incident_zip','complaint_type']].value_counts().tolist()\n",
        "\n",
        "# List of index of zipcodes\n",
        "ct_total_complaints_all = df_subset[['incident_zip','complaint_type']].value_counts().index.tolist() \n",
        "\n",
        "# Convert these lists to dataframes\n",
        "ct_total_complaints_freq_all = pd.DataFrame(ct_total_complaints_freq_all, columns=['num_complaints'])\n",
        "ct_total_complaints_all = pd.DataFrame(ct_total_complaints_all, columns=['incident_zip','complaint_type'])\n",
        "\n",
        "# Column bind to form one dataset\n",
        "df_subset10 = pd.concat([ct_total_complaints_all, ct_total_complaints_freq_all], axis=1) \n",
        "\n",
        "# Include observations of the two compaint types of interest \n",
        "df_subset11 = df_subset10[df_subset10['complaint_type'].isin(['Illegal Parking', 'Noise - Residential'])]\n",
        "print(df_subset11.shape)\n",
        "df_subset11.head()"
      ]
    },
    {
      "attachments": {},
      "cell_type": "markdown",
      "metadata": {
        "id": "4yttTMn4PJl7"
      },
      "source": [
        "#### 5.3.2. Merge poulation dataset with the above total number of complaints dataset using zip code as key"
      ]
    },
    {
      "cell_type": "code",
      "execution_count": 20,
      "metadata": {
        "colab": {
          "base_uri": "https://localhost:8080/"
        },
        "id": "_AVWo9-wPJl7",
        "outputId": "193cb451-c293-4488-ceab-3652275b0f5a",
        "scrolled": false
      },
      "outputs": [
        {
          "name": "stdout",
          "output_type": "stream",
          "text": [
            "(177, 2)\n",
            "(385, 4)\n"
          ]
        }
      ],
      "source": [
        "df_subset12 = df_subset11.merge(pop, on='incident_zip', how='left') # Left join merge\n",
        "print(pop.shape)\n",
        "print(df_subset12.shape) # checking if the merged table has same no. of obs as the left-side dataset"
      ]
    },
    {
      "attachments": {},
      "cell_type": "markdown",
      "metadata": {
        "id": "8bc65TtfPJl7"
      },
      "source": [
        "#### 5.3.3. Merging Borough table with the total number of complaints dataset to estimate complaint-index (total complaints relative to their population) for each Borough in 2023"
      ]
    },
    {
      "cell_type": "code",
      "execution_count": 21,
      "metadata": {
        "colab": {
          "base_uri": "https://localhost:8080/"
        },
        "id": "PadsZyA1PJl7",
        "outputId": "538e0b3f-729c-491d-8447-423e8fc0568b",
        "scrolled": true
      },
      "outputs": [
        {
          "name": "stdout",
          "output_type": "stream",
          "text": [
            "(222, 2)\n",
            "(10, 3)\n",
            "complaint_type        borough  Illegal Parking  Noise - Residential\n",
            "0                       BRONX         0.008108             0.008907\n",
            "1                    BROOKLYN         0.010875             0.005509\n",
            "2                   MANHATTAN         0.007023             0.006201\n",
            "3                      QUEENS         0.009634             0.005211\n",
            "4               STATEN ISLAND         0.004556             0.003107\n"
          ]
        }
      ],
      "source": [
        "df_subset13 = df_subset12.merge(Borough_Zip, on='incident_zip', how='left') #Left join merge\n",
        "df_subset13 = df_subset13.dropna() \n",
        "\n",
        "# Aggregating number of complaints and population by borough and complaint type\n",
        "df_subset14 = df_subset13.groupby(['borough','complaint_type'])[['num_complaints','population']].sum()\n",
        "\n",
        "# Complaint-index at borough-level for each complaint type\n",
        "df_subset14['complaint_index'] = df_subset14['num_complaints']/df_subset14['population']\n",
        "\n",
        "print(Borough_Zip.shape)\n",
        "print(df_subset14.shape) # checking if the merged table has same no. of obs as the left-side dataset\n",
        "\n",
        "df_subset14.reset_index(inplace=True) # converts labels to column\n",
        "df_subset15 = df_subset14[['borough','complaint_type','complaint_index']]\n",
        "\n",
        "# Convert the dataframe long to wide format for plots\n",
        "df_subset16 = df_subset15.pivot(index='borough', columns='complaint_type', values='complaint_index') \n",
        "df_subset16.reset_index(inplace=True) # converts labels to column\n",
        "print(df_subset16.head())"
      ]
    },
    {
      "attachments": {},
      "cell_type": "markdown",
      "metadata": {
        "id": "r75ySmJhPJl8"
      },
      "source": [
        "#### <a class=\"anchor\" id=\"4.3.4.Fig4\"></a>5.3.4. Plot of Complaint-index (total complaints relative to their population) of the two complaint types for each Borough in NYC in 2023'"
      ]
    },
    {
      "cell_type": "code",
      "execution_count": 23,
      "metadata": {
        "colab": {
          "base_uri": "https://localhost:8080/",
          "height": 564
        },
        "id": "cffmJHlEPJl8",
        "outputId": "d87c576e-37d2-4863-c0b6-c725d45d569b",
        "scrolled": false
      },
      "outputs": [
        {
          "data": {
            "image/png": "[encoded data removed]",
            "text/plain": [
              "<Figure size 600x600 with 1 Axes>"
            ]
          },
          "metadata": {},
          "output_type": "display_data"
        }
      ],
      "source": [
        "(df_subset16.reindex(index=df_subset16.mean(axis=1)\n",
        "    .sort_values(ascending=False)\n",
        "    .index).set_index('borough').plot(kind='barh', figsize=(6,6), width=0.3,\n",
        "            title='Complaint-index (total complaints relative to their population) for each Borough of NYC in 2023'))\n",
        "plt.xlabel('Complaint-index')\n",
        "plt.show()"
      ]
    },
    {
      "attachments": {},
      "cell_type": "markdown",
      "metadata": {
        "id": "QugsXJc_PJl8"
      },
      "source": [
        "<a class=\"anchor\" id=\"comment4\"></a> **Observation:** From the above plot, Brooklyn and Bronx have the highest complaint indices on an average, wheras the other three boroughs are not far behind from them. With regard to the variance of the complaint-indices, the level of 'Noise - Residential' seems to be smaller across all the boroughs in NYC compared to the variance for 'illegal parking' complaint indices."
      ]
    },
    {
      "attachments": {},
      "cell_type": "markdown",
      "metadata": {
        "id": "1Be4w-F3PJl8"
      },
      "source": [
        "\n",
        "# <a class=\"anchor\" id=\"5.TS\"></a> 6. Time Series / Exploratory Analysis"
      ]
    },
    {
      "attachments": {},
      "cell_type": "markdown",
      "metadata": {
        "id": "RRvmq4wDPJl8"
      },
      "source": [
        "### 6.1. <a class=\"anchor\" id=\"5.1.Q1\"></a> Analysis-1: \n",
        "### Focus on complaints for “Loud Music / Party”. Create a graph of the rate of complaints by population over time for the city overall and each of the boroughs. Comment on any notable trends."
      ]
    },
    {
      "attachments": {},
      "cell_type": "markdown",
      "metadata": {
        "id": "wADH_1SJPJl9"
      },
      "source": [
        "#### 6.1.1. Create a subset which has complaint descriptor variable - 'Loud music/Party'"
      ]
    },
    {
      "cell_type": "code",
      "execution_count": 24,
      "metadata": {
        "id": "xFBv-aLfPJl9"
      },
      "outputs": [],
      "source": [
        "Loud_music = data[data['descriptor'].isin(['Loud Music/Party'])]\n",
        "Loud_music['incident_zip'] = pd.to_numeric(Loud_music['incident_zip'], errors='coerce') # convert string to numeric\n",
        "Loud_music.shape\n",
        "\n",
        "# Save the merged dataset in Google Drive\n",
        "Loud_music.to_csv('/content/gdrive/My Drive/Colab Notebooks/311_Service_Request_Analysis/Loud_music.csv', index=False)"
      ]
    },
    {
      "attachments": {},
      "cell_type": "markdown",
      "metadata": {
        "id": "pkFI30PfPJl9"
      },
      "source": [
        "#### 6.1.2. Calculate total number of complaints by descriptor by zipcode each month in 2021"
      ]
    },
    {
      "cell_type": "code",
      "execution_count": 25,
      "metadata": {
        "colab": {
          "base_uri": "https://localhost:8080/",
          "height": 224
        },
        "id": "Bafa-ZBoPJl9",
        "outputId": "ba9d8f52-d81c-4bd2-974a-0e363136443d"
      },
      "outputs": [
        {
          "name": "stdout",
          "output_type": "stream",
          "text": [
            "(498, 5)\n"
          ]
        },
        {
          "data": {
            "text/html": [
              "\n",
              "  <div id=\"df-0ff05374-2c76-4110-bd67-308c3818c94c\">\n",
              "    <div class=\"colab-df-container\">\n",
              "      <div>\n",
              "<style scoped>\n",
              "    .dataframe tbody tr th:only-of-type {\n",
              "        vertical-align: middle;\n",
              "    }\n",
              "\n",
              "    .dataframe tbody tr th {\n",
              "        vertical-align: top;\n",
              "    }\n",
              "\n",
              "    .dataframe thead th {\n",
              "        text-align: right;\n",
              "    }\n",
              "</style>\n",
              "<table border=\"1\" class=\"dataframe\">\n",
              "  <thead>\n",
              "    <tr style=\"text-align: right;\">\n",
              "      <th></th>\n",
              "      <th>incident_zip</th>\n",
              "      <th>Year_month</th>\n",
              "      <th>Year</th>\n",
              "      <th>Month</th>\n",
              "      <th>num_complaints</th>\n",
              "    </tr>\n",
              "  </thead>\n",
              "  <tbody>\n",
              "    <tr>\n",
              "      <th>0</th>\n",
              "      <td>10031.0</td>\n",
              "      <td>2023-04</td>\n",
              "      <td>2023</td>\n",
              "      <td>4</td>\n",
              "      <td>1112</td>\n",
              "    </tr>\n",
              "    <tr>\n",
              "      <th>1</th>\n",
              "      <td>10466.0</td>\n",
              "      <td>2023-05</td>\n",
              "      <td>2023</td>\n",
              "      <td>5</td>\n",
              "      <td>784</td>\n",
              "    </tr>\n",
              "    <tr>\n",
              "      <th>2</th>\n",
              "      <td>10453.0</td>\n",
              "      <td>2023-05</td>\n",
              "      <td>2023</td>\n",
              "      <td>5</td>\n",
              "      <td>754</td>\n",
              "    </tr>\n",
              "    <tr>\n",
              "      <th>3</th>\n",
              "      <td>10452.0</td>\n",
              "      <td>2023-05</td>\n",
              "      <td>2023</td>\n",
              "      <td>5</td>\n",
              "      <td>746</td>\n",
              "    </tr>\n",
              "    <tr>\n",
              "      <th>4</th>\n",
              "      <td>10457.0</td>\n",
              "      <td>2023-05</td>\n",
              "      <td>2023</td>\n",
              "      <td>5</td>\n",
              "      <td>746</td>\n",
              "    </tr>\n",
              "  </tbody>\n",
              "</table>\n",
              "</div>\n",
              "      <button class=\"colab-df-convert\" onclick=\"convertToInteractive('df-0ff05374-2c76-4110-bd67-308c3818c94c')\"\n",
              "              title=\"Convert this dataframe to an interactive table.\"\n",
              "              style=\"display:none;\">\n",
              "        \n",
              "  <svg xmlns=\"http://www.w3.org/2000/svg\" height=\"24px\"viewBox=\"0 0 24 24\"\n",
              "       width=\"24px\">\n",
              "    <path d=\"M0 0h24v24H0V0z\" fill=\"none\"/>\n",
              "    <path d=\"M18.56 5.44l.94 2.06.94-2.06 2.06-.94-2.06-.94-.94-2.06-.94 2.06-2.06.94zm-11 1L8.5 8.5l.94-2.06 2.06-.94-2.06-.94L8.5 2.5l-.94 2.06-2.06.94zm10 10l.94 2.06.94-2.06 2.06-.94-2.06-.94-.94-2.06-.94 2.06-2.06.94z\"/><path d=\"M17.41 7.96l-1.37-1.37c-.4-.4-.92-.59-1.43-.59-.52 0-1.04.2-1.43.59L10.3 9.45l-7.72 7.72c-.78.78-.78 2.05 0 2.83L4 21.41c.39.39.9.59 1.41.59.51 0 1.02-.2 1.41-.59l7.78-7.78 2.81-2.81c.8-.78.8-2.07 0-2.86zM5.41 20L4 18.59l7.72-7.72 1.47 1.35L5.41 20z\"/>\n",
              "  </svg>\n",
              "      </button>\n",
              "      \n",
              "  <style>\n",
              "    .colab-df-container {\n",
              "      display:flex;\n",
              "      flex-wrap:wrap;\n",
              "      gap: 12px;\n",
              "    }\n",
              "\n",
              "    .colab-df-convert {\n",
              "      background-color: #E8F0FE;\n",
              "      border: none;\n",
              "      border-radius: 50%;\n",
              "      cursor: pointer;\n",
              "      display: none;\n",
              "      fill: #1967D2;\n",
              "      height: 32px;\n",
              "      padding: 0 0 0 0;\n",
              "      width: 32px;\n",
              "    }\n",
              "\n",
              "    .colab-df-convert:hover {\n",
              "      background-color: #E2EBFA;\n",
              "      box-shadow: 0px 1px 2px rgba(60, 64, 67, 0.3), 0px 1px 3px 1px rgba(60, 64, 67, 0.15);\n",
              "      fill: #174EA6;\n",
              "    }\n",
              "\n",
              "    [theme=dark] .colab-df-convert {\n",
              "      background-color: #3B4455;\n",
              "      fill: #D2E3FC;\n",
              "    }\n",
              "\n",
              "    [theme=dark] .colab-df-convert:hover {\n",
              "      background-color: #434B5C;\n",
              "      box-shadow: 0px 1px 3px 1px rgba(0, 0, 0, 0.15);\n",
              "      filter: drop-shadow(0px 1px 2px rgba(0, 0, 0, 0.3));\n",
              "      fill: #FFFFFF;\n",
              "    }\n",
              "  </style>\n",
              "\n",
              "      <script>\n",
              "        const buttonEl =\n",
              "          document.querySelector('#df-0ff05374-2c76-4110-bd67-308c3818c94c button.colab-df-convert');\n",
              "        buttonEl.style.display =\n",
              "          google.colab.kernel.accessAllowed ? 'block' : 'none';\n",
              "\n",
              "        async function convertToInteractive(key) {\n",
              "          const element = document.querySelector('#df-0ff05374-2c76-4110-bd67-308c3818c94c');\n",
              "          const dataTable =\n",
              "            await google.colab.kernel.invokeFunction('convertToInteractive',\n",
              "                                                     [key], {});\n",
              "          if (!dataTable) return;\n",
              "\n",
              "          const docLinkHtml = 'Like what you see? Visit the ' +\n",
              "            '<a target=\"_blank\" href=https://colab.research.google.com/notebooks/data_table.ipynb>data table notebook</a>'\n",
              "            + ' to learn more about interactive tables.';\n",
              "          element.innerHTML = '';\n",
              "          dataTable['output_type'] = 'display_data';\n",
              "          await google.colab.output.renderOutput(dataTable, element);\n",
              "          const docLink = document.createElement('div');\n",
              "          docLink.innerHTML = docLinkHtml;\n",
              "          element.appendChild(docLink);\n",
              "        }\n",
              "      </script>\n",
              "    </div>\n",
              "  </div>\n",
              "  "
            ],
            "text/plain": [
              "   incident_zip Year_month  Year  Month  num_complaints\n",
              "0       10031.0    2023-04  2023      4            1112\n",
              "1       10466.0    2023-05  2023      5             784\n",
              "2       10453.0    2023-05  2023      5             754\n",
              "3       10452.0    2023-05  2023      5             746\n",
              "4       10457.0    2023-05  2023      5             746"
            ]
          },
          "execution_count": 25,
          "metadata": {},
          "output_type": "execute_result"
        }
      ],
      "source": [
        "# List of frequencies of the complaints\n",
        "LM_total_complaints_freq_all = Loud_music[['incident_zip','Year_month','Year','Month']].value_counts().tolist() \n",
        "# List of index of zipcodes\n",
        "LM_total_complaints_all = Loud_music[['incident_zip','Year_month','Year','Month']].value_counts().index.tolist() \n",
        "\n",
        "# Convert lists to dataframes\n",
        "LM_total_complaints_freq_all = pd.DataFrame(LM_total_complaints_freq_all, columns=['num_complaints'])\n",
        "LM_total_complaints_all = pd.DataFrame(LM_total_complaints_all, columns=['incident_zip','Year_month','Year','Month'])\n",
        "\n",
        "# Combine dataframes to form one\n",
        "Loud_music2 = pd.concat([LM_total_complaints_all, LM_total_complaints_freq_all], axis=1)\n",
        "print(Loud_music2.shape)\n",
        "Loud_music2.head()"
      ]
    },
    {
      "attachments": {},
      "cell_type": "markdown",
      "metadata": {
        "id": "Or2NRvkJPJl9"
      },
      "source": [
        "#### 6.1.3. Merge Loud music dataset with population & Borough-Zip datasets"
      ]
    },
    {
      "cell_type": "code",
      "execution_count": 26,
      "metadata": {
        "colab": {
          "base_uri": "https://localhost:8080/",
          "height": 206
        },
        "id": "SlznPYPBPJl-",
        "outputId": "2dff9807-8f3c-4be2-e465-85da97e92b10",
        "scrolled": true
      },
      "outputs": [
        {
          "data": {
            "text/html": [
              "\n",
              "  <div id=\"df-aa47b45b-3371-4a87-97a6-931225c84304\">\n",
              "    <div class=\"colab-df-container\">\n",
              "      <div>\n",
              "<style scoped>\n",
              "    .dataframe tbody tr th:only-of-type {\n",
              "        vertical-align: middle;\n",
              "    }\n",
              "\n",
              "    .dataframe tbody tr th {\n",
              "        vertical-align: top;\n",
              "    }\n",
              "\n",
              "    .dataframe thead th {\n",
              "        text-align: right;\n",
              "    }\n",
              "</style>\n",
              "<table border=\"1\" class=\"dataframe\">\n",
              "  <thead>\n",
              "    <tr style=\"text-align: right;\">\n",
              "      <th></th>\n",
              "      <th>incident_zip</th>\n",
              "      <th>Year_month</th>\n",
              "      <th>Year</th>\n",
              "      <th>Month</th>\n",
              "      <th>num_complaints</th>\n",
              "      <th>population</th>\n",
              "      <th>borough</th>\n",
              "    </tr>\n",
              "  </thead>\n",
              "  <tbody>\n",
              "    <tr>\n",
              "      <th>0</th>\n",
              "      <td>10031.0</td>\n",
              "      <td>2023-04</td>\n",
              "      <td>2023</td>\n",
              "      <td>4</td>\n",
              "      <td>1112</td>\n",
              "      <td>60254.0</td>\n",
              "      <td>MANHATTAN</td>\n",
              "    </tr>\n",
              "    <tr>\n",
              "      <th>1</th>\n",
              "      <td>10466.0</td>\n",
              "      <td>2023-05</td>\n",
              "      <td>2023</td>\n",
              "      <td>5</td>\n",
              "      <td>784</td>\n",
              "      <td>72479.0</td>\n",
              "      <td>BRONX</td>\n",
              "    </tr>\n",
              "    <tr>\n",
              "      <th>2</th>\n",
              "      <td>10453.0</td>\n",
              "      <td>2023-05</td>\n",
              "      <td>2023</td>\n",
              "      <td>5</td>\n",
              "      <td>754</td>\n",
              "      <td>79606.0</td>\n",
              "      <td>BRONX</td>\n",
              "    </tr>\n",
              "    <tr>\n",
              "      <th>3</th>\n",
              "      <td>10452.0</td>\n",
              "      <td>2023-05</td>\n",
              "      <td>2023</td>\n",
              "      <td>5</td>\n",
              "      <td>746</td>\n",
              "      <td>76078.0</td>\n",
              "      <td>BRONX</td>\n",
              "    </tr>\n",
              "    <tr>\n",
              "      <th>4</th>\n",
              "      <td>10457.0</td>\n",
              "      <td>2023-05</td>\n",
              "      <td>2023</td>\n",
              "      <td>5</td>\n",
              "      <td>746</td>\n",
              "      <td>74554.0</td>\n",
              "      <td>BRONX</td>\n",
              "    </tr>\n",
              "  </tbody>\n",
              "</table>\n",
              "</div>\n",
              "      <button class=\"colab-df-convert\" onclick=\"convertToInteractive('df-aa47b45b-3371-4a87-97a6-931225c84304')\"\n",
              "              title=\"Convert this dataframe to an interactive table.\"\n",
              "              style=\"display:none;\">\n",
              "        \n",
              "  <svg xmlns=\"http://www.w3.org/2000/svg\" height=\"24px\"viewBox=\"0 0 24 24\"\n",
              "       width=\"24px\">\n",
              "    <path d=\"M0 0h24v24H0V0z\" fill=\"none\"/>\n",
              "    <path d=\"M18.56 5.44l.94 2.06.94-2.06 2.06-.94-2.06-.94-.94-2.06-.94 2.06-2.06.94zm-11 1L8.5 8.5l.94-2.06 2.06-.94-2.06-.94L8.5 2.5l-.94 2.06-2.06.94zm10 10l.94 2.06.94-2.06 2.06-.94-2.06-.94-.94-2.06-.94 2.06-2.06.94z\"/><path d=\"M17.41 7.96l-1.37-1.37c-.4-.4-.92-.59-1.43-.59-.52 0-1.04.2-1.43.59L10.3 9.45l-7.72 7.72c-.78.78-.78 2.05 0 2.83L4 21.41c.39.39.9.59 1.41.59.51 0 1.02-.2 1.41-.59l7.78-7.78 2.81-2.81c.8-.78.8-2.07 0-2.86zM5.41 20L4 18.59l7.72-7.72 1.47 1.35L5.41 20z\"/>\n",
              "  </svg>\n",
              "      </button>\n",
              "      \n",
              "  <style>\n",
              "    .colab-df-container {\n",
              "      display:flex;\n",
              "      flex-wrap:wrap;\n",
              "      gap: 12px;\n",
              "    }\n",
              "\n",
              "    .colab-df-convert {\n",
              "      background-color: #E8F0FE;\n",
              "      border: none;\n",
              "      border-radius: 50%;\n",
              "      cursor: pointer;\n",
              "      display: none;\n",
              "      fill: #1967D2;\n",
              "      height: 32px;\n",
              "      padding: 0 0 0 0;\n",
              "      width: 32px;\n",
              "    }\n",
              "\n",
              "    .colab-df-convert:hover {\n",
              "      background-color: #E2EBFA;\n",
              "      box-shadow: 0px 1px 2px rgba(60, 64, 67, 0.3), 0px 1px 3px 1px rgba(60, 64, 67, 0.15);\n",
              "      fill: #174EA6;\n",
              "    }\n",
              "\n",
              "    [theme=dark] .colab-df-convert {\n",
              "      background-color: #3B4455;\n",
              "      fill: #D2E3FC;\n",
              "    }\n",
              "\n",
              "    [theme=dark] .colab-df-convert:hover {\n",
              "      background-color: #434B5C;\n",
              "      box-shadow: 0px 1px 3px 1px rgba(0, 0, 0, 0.15);\n",
              "      filter: drop-shadow(0px 1px 2px rgba(0, 0, 0, 0.3));\n",
              "      fill: #FFFFFF;\n",
              "    }\n",
              "  </style>\n",
              "\n",
              "      <script>\n",
              "        const buttonEl =\n",
              "          document.querySelector('#df-aa47b45b-3371-4a87-97a6-931225c84304 button.colab-df-convert');\n",
              "        buttonEl.style.display =\n",
              "          google.colab.kernel.accessAllowed ? 'block' : 'none';\n",
              "\n",
              "        async function convertToInteractive(key) {\n",
              "          const element = document.querySelector('#df-aa47b45b-3371-4a87-97a6-931225c84304');\n",
              "          const dataTable =\n",
              "            await google.colab.kernel.invokeFunction('convertToInteractive',\n",
              "                                                     [key], {});\n",
              "          if (!dataTable) return;\n",
              "\n",
              "          const docLinkHtml = 'Like what you see? Visit the ' +\n",
              "            '<a target=\"_blank\" href=https://colab.research.google.com/notebooks/data_table.ipynb>data table notebook</a>'\n",
              "            + ' to learn more about interactive tables.';\n",
              "          element.innerHTML = '';\n",
              "          dataTable['output_type'] = 'display_data';\n",
              "          await google.colab.output.renderOutput(dataTable, element);\n",
              "          const docLink = document.createElement('div');\n",
              "          docLink.innerHTML = docLinkHtml;\n",
              "          element.appendChild(docLink);\n",
              "        }\n",
              "      </script>\n",
              "    </div>\n",
              "  </div>\n",
              "  "
            ],
            "text/plain": [
              "   incident_zip Year_month  Year  Month  num_complaints  population    borough\n",
              "0       10031.0    2023-04  2023      4            1112     60254.0  MANHATTAN\n",
              "1       10466.0    2023-05  2023      5             784     72479.0      BRONX\n",
              "2       10453.0    2023-05  2023      5             754     79606.0      BRONX\n",
              "3       10452.0    2023-05  2023      5             746     76078.0      BRONX\n",
              "4       10457.0    2023-05  2023      5             746     74554.0      BRONX"
            ]
          },
          "execution_count": 26,
          "metadata": {},
          "output_type": "execute_result"
        }
      ],
      "source": [
        "Loud_music3 = Loud_music2.merge(pop, on='incident_zip', how='left')\n",
        "Loud_music4 = Loud_music3.merge(Borough_Zip, on='incident_zip', how='left') #Left join merge\n",
        "Loud_music4 = Loud_music4.dropna() \n",
        "Loud_music4.head()"
      ]
    },
    {
      "attachments": {},
      "cell_type": "markdown",
      "metadata": {
        "id": "Xh98bctkPJl-"
      },
      "source": [
        "#### 6.1.4. Create complaint-index variable & complaint-rate variable to form dataset by borough"
      ]
    },
    {
      "cell_type": "code",
      "execution_count": 27,
      "metadata": {
        "colab": {
          "base_uri": "https://localhost:8080/",
          "height": 224
        },
        "id": "SD7An0bbPJl-",
        "outputId": "c1d05e77-d959-41b6-9c86-7fca9e340641"
      },
      "outputs": [
        {
          "name": "stdout",
          "output_type": "stream",
          "text": [
            "(15, 9)\n"
          ]
        },
        {
          "data": {
            "text/html": [
              "\n",
              "  <div id=\"df-4c8725b1-331a-4606-a1da-397b288b8d45\">\n",
              "    <div class=\"colab-df-container\">\n",
              "      <div>\n",
              "<style scoped>\n",
              "    .dataframe tbody tr th:only-of-type {\n",
              "        vertical-align: middle;\n",
              "    }\n",
              "\n",
              "    .dataframe tbody tr th {\n",
              "        vertical-align: top;\n",
              "    }\n",
              "\n",
              "    .dataframe thead th {\n",
              "        text-align: right;\n",
              "    }\n",
              "</style>\n",
              "<table border=\"1\" class=\"dataframe\">\n",
              "  <thead>\n",
              "    <tr style=\"text-align: right;\">\n",
              "      <th></th>\n",
              "      <th>borough</th>\n",
              "      <th>Year_month</th>\n",
              "      <th>Month</th>\n",
              "      <th>Year</th>\n",
              "      <th>num_complaints</th>\n",
              "      <th>population</th>\n",
              "      <th>complaint_index</th>\n",
              "      <th>complaint_index_1</th>\n",
              "      <th>complaint_rate</th>\n",
              "    </tr>\n",
              "  </thead>\n",
              "  <tbody>\n",
              "    <tr>\n",
              "      <th>0</th>\n",
              "      <td>BRONX</td>\n",
              "      <td>2023-03</td>\n",
              "      <td>3</td>\n",
              "      <td>2023</td>\n",
              "      <td>138</td>\n",
              "      <td>1364224.0</td>\n",
              "      <td>0.000101</td>\n",
              "      <td>NaN</td>\n",
              "      <td>NaN</td>\n",
              "    </tr>\n",
              "    <tr>\n",
              "      <th>1</th>\n",
              "      <td>BRONX</td>\n",
              "      <td>2023-04</td>\n",
              "      <td>4</td>\n",
              "      <td>2023</td>\n",
              "      <td>7080</td>\n",
              "      <td>1441455.0</td>\n",
              "      <td>0.004912</td>\n",
              "      <td>0.000101</td>\n",
              "      <td>47.555538</td>\n",
              "    </tr>\n",
              "    <tr>\n",
              "      <th>2</th>\n",
              "      <td>BRONX</td>\n",
              "      <td>2023-05</td>\n",
              "      <td>5</td>\n",
              "      <td>2023</td>\n",
              "      <td>8853</td>\n",
              "      <td>1441455.0</td>\n",
              "      <td>0.006142</td>\n",
              "      <td>0.004912</td>\n",
              "      <td>0.250424</td>\n",
              "    </tr>\n",
              "    <tr>\n",
              "      <th>3</th>\n",
              "      <td>BROOKLYN</td>\n",
              "      <td>2023-03</td>\n",
              "      <td>3</td>\n",
              "      <td>2023</td>\n",
              "      <td>188</td>\n",
              "      <td>2397136.0</td>\n",
              "      <td>0.000078</td>\n",
              "      <td>0.006142</td>\n",
              "      <td>-0.987230</td>\n",
              "    </tr>\n",
              "    <tr>\n",
              "      <th>4</th>\n",
              "      <td>BROOKLYN</td>\n",
              "      <td>2023-04</td>\n",
              "      <td>4</td>\n",
              "      <td>2023</td>\n",
              "      <td>7461</td>\n",
              "      <td>2600747.0</td>\n",
              "      <td>0.002869</td>\n",
              "      <td>0.000078</td>\n",
              "      <td>35.579163</td>\n",
              "    </tr>\n",
              "  </tbody>\n",
              "</table>\n",
              "</div>\n",
              "      <button class=\"colab-df-convert\" onclick=\"convertToInteractive('df-4c8725b1-331a-4606-a1da-397b288b8d45')\"\n",
              "              title=\"Convert this dataframe to an interactive table.\"\n",
              "              style=\"display:none;\">\n",
              "        \n",
              "  <svg xmlns=\"http://www.w3.org/2000/svg\" height=\"24px\"viewBox=\"0 0 24 24\"\n",
              "       width=\"24px\">\n",
              "    <path d=\"M0 0h24v24H0V0z\" fill=\"none\"/>\n",
              "    <path d=\"M18.56 5.44l.94 2.06.94-2.06 2.06-.94-2.06-.94-.94-2.06-.94 2.06-2.06.94zm-11 1L8.5 8.5l.94-2.06 2.06-.94-2.06-.94L8.5 2.5l-.94 2.06-2.06.94zm10 10l.94 2.06.94-2.06 2.06-.94-2.06-.94-.94-2.06-.94 2.06-2.06.94z\"/><path d=\"M17.41 7.96l-1.37-1.37c-.4-.4-.92-.59-1.43-.59-.52 0-1.04.2-1.43.59L10.3 9.45l-7.72 7.72c-.78.78-.78 2.05 0 2.83L4 21.41c.39.39.9.59 1.41.59.51 0 1.02-.2 1.41-.59l7.78-7.78 2.81-2.81c.8-.78.8-2.07 0-2.86zM5.41 20L4 18.59l7.72-7.72 1.47 1.35L5.41 20z\"/>\n",
              "  </svg>\n",
              "      </button>\n",
              "      \n",
              "  <style>\n",
              "    .colab-df-container {\n",
              "      display:flex;\n",
              "      flex-wrap:wrap;\n",
              "      gap: 12px;\n",
              "    }\n",
              "\n",
              "    .colab-df-convert {\n",
              "      background-color: #E8F0FE;\n",
              "      border: none;\n",
              "      border-radius: 50%;\n",
              "      cursor: pointer;\n",
              "      display: none;\n",
              "      fill: #1967D2;\n",
              "      height: 32px;\n",
              "      padding: 0 0 0 0;\n",
              "      width: 32px;\n",
              "    }\n",
              "\n",
              "    .colab-df-convert:hover {\n",
              "      background-color: #E2EBFA;\n",
              "      box-shadow: 0px 1px 2px rgba(60, 64, 67, 0.3), 0px 1px 3px 1px rgba(60, 64, 67, 0.15);\n",
              "      fill: #174EA6;\n",
              "    }\n",
              "\n",
              "    [theme=dark] .colab-df-convert {\n",
              "      background-color: #3B4455;\n",
              "      fill: #D2E3FC;\n",
              "    }\n",
              "\n",
              "    [theme=dark] .colab-df-convert:hover {\n",
              "      background-color: #434B5C;\n",
              "      box-shadow: 0px 1px 3px 1px rgba(0, 0, 0, 0.15);\n",
              "      filter: drop-shadow(0px 1px 2px rgba(0, 0, 0, 0.3));\n",
              "      fill: #FFFFFF;\n",
              "    }\n",
              "  </style>\n",
              "\n",
              "      <script>\n",
              "        const buttonEl =\n",
              "          document.querySelector('#df-4c8725b1-331a-4606-a1da-397b288b8d45 button.colab-df-convert');\n",
              "        buttonEl.style.display =\n",
              "          google.colab.kernel.accessAllowed ? 'block' : 'none';\n",
              "\n",
              "        async function convertToInteractive(key) {\n",
              "          const element = document.querySelector('#df-4c8725b1-331a-4606-a1da-397b288b8d45');\n",
              "          const dataTable =\n",
              "            await google.colab.kernel.invokeFunction('convertToInteractive',\n",
              "                                                     [key], {});\n",
              "          if (!dataTable) return;\n",
              "\n",
              "          const docLinkHtml = 'Like what you see? Visit the ' +\n",
              "            '<a target=\"_blank\" href=https://colab.research.google.com/notebooks/data_table.ipynb>data table notebook</a>'\n",
              "            + ' to learn more about interactive tables.';\n",
              "          element.innerHTML = '';\n",
              "          dataTable['output_type'] = 'display_data';\n",
              "          await google.colab.output.renderOutput(dataTable, element);\n",
              "          const docLink = document.createElement('div');\n",
              "          docLink.innerHTML = docLinkHtml;\n",
              "          element.appendChild(docLink);\n",
              "        }\n",
              "      </script>\n",
              "    </div>\n",
              "  </div>\n",
              "  "
            ],
            "text/plain": [
              "    borough Year_month  Month  Year  num_complaints  population  \\\n",
              "0     BRONX    2023-03      3  2023             138   1364224.0   \n",
              "1     BRONX    2023-04      4  2023            7080   1441455.0   \n",
              "2     BRONX    2023-05      5  2023            8853   1441455.0   \n",
              "3  BROOKLYN    2023-03      3  2023             188   2397136.0   \n",
              "4  BROOKLYN    2023-04      4  2023            7461   2600747.0   \n",
              "\n",
              "   complaint_index  complaint_index_1  complaint_rate  \n",
              "0         0.000101                NaN             NaN  \n",
              "1         0.004912           0.000101       47.555538  \n",
              "2         0.006142           0.004912        0.250424  \n",
              "3         0.000078           0.006142       -0.987230  \n",
              "4         0.002869           0.000078       35.579163  "
            ]
          },
          "execution_count": 27,
          "metadata": {},
          "output_type": "execute_result"
        }
      ],
      "source": [
        "# Aggregating num_complaints and population by borough, month, year\n",
        "Loud_music5 = Loud_music4.groupby(['borough','Year_month','Month','Year'])[['num_complaints','population']].sum()\n",
        "\n",
        "# Complaint-index variable\n",
        "Loud_music5['complaint_index'] = Loud_music5['num_complaints']/Loud_music5['population']\n",
        "\n",
        "# Add lag of complaint_index variable by zipcode by month\n",
        "Loud_music5['complaint_index_1'] = Loud_music5.sort_values(['borough','Year_month','Month','Year'],ascending=True)['complaint_index'].shift(1)\n",
        "\n",
        "# Add complaint-rate variable which is the growth rate in complaint index\n",
        "Loud_music5['complaint_rate'] = (Loud_music5['complaint_index']-Loud_music5['complaint_index_1'])/Loud_music5['complaint_index_1']\n",
        "\n",
        "Loud_music5 = Loud_music5.sort_values(['borough','Year_month','Month','Year'],ascending=True) #sort by group\n",
        "Loud_music5.reset_index(inplace=True) #converts labels to column\n",
        "print(Loud_music5.shape)\n",
        "Loud_music5.head()"
      ]
    },
    {
      "attachments": {},
      "cell_type": "markdown",
      "metadata": {
        "id": "1B0xKwDXPJl-"
      },
      "source": [
        "#### <a class=\"anchor\" id=\"5.1.5.Fig5\"></a>6.1.5. Monthly plot of complaint-rates by each Borough for entire duration of the dataset"
      ]
    },
    {
      "cell_type": "code",
      "execution_count": 30,
      "metadata": {
        "colab": {
          "base_uri": "https://localhost:8080/",
          "height": 667
        },
        "id": "L9ZSbcf2PJl-",
        "outputId": "2d570a6c-f9a8-4efc-f32b-7709ff5ad940",
        "scrolled": false
      },
      "outputs": [
        {
          "data": {
            "image/png": "[encoded data removed]",
            "text/plain": [
              "<Figure size 1500x800 with 1 Axes>"
            ]
          },
          "metadata": {},
          "output_type": "display_data"
        }
      ],
      "source": [
        "fig, ax = plt.subplots(figsize=(15,8))\n",
        "\n",
        "for name, group in Loud_music5.groupby('borough'):\n",
        "    group.plot(x='Year_month', y='complaint_rate', ax=ax, label=name)\n",
        "\n",
        "plt.xlabel('Calendar Year-Month')\n",
        "plt.ylabel('Complaint rate')\n",
        "plt.legend(title = \"Borough\")\n",
        "plt.title(\"Monthly complaint-rates by each Borough for entire duration of the dataset\") \n",
        "plt.show()"
      ]
    },
    {
      "attachments": {},
      "cell_type": "markdown",
      "metadata": {
        "id": "g3r1KviEPJl_"
      },
      "source": [
        "#### 6.1.6. Create complaint-index variable & complaint-rate variable to form dataset for the entire city"
      ]
    },
    {
      "cell_type": "code",
      "execution_count": 29,
      "metadata": {
        "colab": {
          "base_uri": "https://localhost:8080/",
          "height": 143
        },
        "id": "Kq4l1vxLPJl_",
        "outputId": "ab43a22c-4942-4c2d-c52e-36404adc3da2"
      },
      "outputs": [
        {
          "data": {
            "text/html": [
              "\n",
              "  <div id=\"df-b3dcaceb-560a-4fbc-91c9-1d3e51c5ab84\">\n",
              "    <div class=\"colab-df-container\">\n",
              "      <div>\n",
              "<style scoped>\n",
              "    .dataframe tbody tr th:only-of-type {\n",
              "        vertical-align: middle;\n",
              "    }\n",
              "\n",
              "    .dataframe tbody tr th {\n",
              "        vertical-align: top;\n",
              "    }\n",
              "\n",
              "    .dataframe thead th {\n",
              "        text-align: right;\n",
              "    }\n",
              "</style>\n",
              "<table border=\"1\" class=\"dataframe\">\n",
              "  <thead>\n",
              "    <tr style=\"text-align: right;\">\n",
              "      <th></th>\n",
              "      <th>Year_month</th>\n",
              "      <th>Month</th>\n",
              "      <th>Year</th>\n",
              "      <th>num_complaints</th>\n",
              "      <th>population</th>\n",
              "      <th>complaint_index</th>\n",
              "      <th>complaint_index_1</th>\n",
              "      <th>complaint_rate</th>\n",
              "    </tr>\n",
              "  </thead>\n",
              "  <tbody>\n",
              "    <tr>\n",
              "      <th>0</th>\n",
              "      <td>2023-03</td>\n",
              "      <td>3</td>\n",
              "      <td>2023</td>\n",
              "      <td>606</td>\n",
              "      <td>7252349.0</td>\n",
              "      <td>0.000084</td>\n",
              "      <td>NaN</td>\n",
              "      <td>NaN</td>\n",
              "    </tr>\n",
              "    <tr>\n",
              "      <th>1</th>\n",
              "      <td>2023-04</td>\n",
              "      <td>4</td>\n",
              "      <td>2023</td>\n",
              "      <td>29497</td>\n",
              "      <td>8604523.0</td>\n",
              "      <td>0.003428</td>\n",
              "      <td>0.000084</td>\n",
              "      <td>40.025806</td>\n",
              "    </tr>\n",
              "    <tr>\n",
              "      <th>2</th>\n",
              "      <td>2023-05</td>\n",
              "      <td>5</td>\n",
              "      <td>2023</td>\n",
              "      <td>34719</td>\n",
              "      <td>8610116.0</td>\n",
              "      <td>0.004032</td>\n",
              "      <td>0.003428</td>\n",
              "      <td>0.176270</td>\n",
              "    </tr>\n",
              "  </tbody>\n",
              "</table>\n",
              "</div>\n",
              "      <button class=\"colab-df-convert\" onclick=\"convertToInteractive('df-b3dcaceb-560a-4fbc-91c9-1d3e51c5ab84')\"\n",
              "              title=\"Convert this dataframe to an interactive table.\"\n",
              "              style=\"display:none;\">\n",
              "        \n",
              "  <svg xmlns=\"http://www.w3.org/2000/svg\" height=\"24px\"viewBox=\"0 0 24 24\"\n",
              "       width=\"24px\">\n",
              "    <path d=\"M0 0h24v24H0V0z\" fill=\"none\"/>\n",
              "    <path d=\"M18.56 5.44l.94 2.06.94-2.06 2.06-.94-2.06-.94-.94-2.06-.94 2.06-2.06.94zm-11 1L8.5 8.5l.94-2.06 2.06-.94-2.06-.94L8.5 2.5l-.94 2.06-2.06.94zm10 10l.94 2.06.94-2.06 2.06-.94-2.06-.94-.94-2.06-.94 2.06-2.06.94z\"/><path d=\"M17.41 7.96l-1.37-1.37c-.4-.4-.92-.59-1.43-.59-.52 0-1.04.2-1.43.59L10.3 9.45l-7.72 7.72c-.78.78-.78 2.05 0 2.83L4 21.41c.39.39.9.59 1.41.59.51 0 1.02-.2 1.41-.59l7.78-7.78 2.81-2.81c.8-.78.8-2.07 0-2.86zM5.41 20L4 18.59l7.72-7.72 1.47 1.35L5.41 20z\"/>\n",
              "  </svg>\n",
              "      </button>\n",
              "      \n",
              "  <style>\n",
              "    .colab-df-container {\n",
              "      display:flex;\n",
              "      flex-wrap:wrap;\n",
              "      gap: 12px;\n",
              "    }\n",
              "\n",
              "    .colab-df-convert {\n",
              "      background-color: #E8F0FE;\n",
              "      border: none;\n",
              "      border-radius: 50%;\n",
              "      cursor: pointer;\n",
              "      display: none;\n",
              "      fill: #1967D2;\n",
              "      height: 32px;\n",
              "      padding: 0 0 0 0;\n",
              "      width: 32px;\n",
              "    }\n",
              "\n",
              "    .colab-df-convert:hover {\n",
              "      background-color: #E2EBFA;\n",
              "      box-shadow: 0px 1px 2px rgba(60, 64, 67, 0.3), 0px 1px 3px 1px rgba(60, 64, 67, 0.15);\n",
              "      fill: #174EA6;\n",
              "    }\n",
              "\n",
              "    [theme=dark] .colab-df-convert {\n",
              "      background-color: #3B4455;\n",
              "      fill: #D2E3FC;\n",
              "    }\n",
              "\n",
              "    [theme=dark] .colab-df-convert:hover {\n",
              "      background-color: #434B5C;\n",
              "      box-shadow: 0px 1px 3px 1px rgba(0, 0, 0, 0.15);\n",
              "      filter: drop-shadow(0px 1px 2px rgba(0, 0, 0, 0.3));\n",
              "      fill: #FFFFFF;\n",
              "    }\n",
              "  </style>\n",
              "\n",
              "      <script>\n",
              "        const buttonEl =\n",
              "          document.querySelector('#df-b3dcaceb-560a-4fbc-91c9-1d3e51c5ab84 button.colab-df-convert');\n",
              "        buttonEl.style.display =\n",
              "          google.colab.kernel.accessAllowed ? 'block' : 'none';\n",
              "\n",
              "        async function convertToInteractive(key) {\n",
              "          const element = document.querySelector('#df-b3dcaceb-560a-4fbc-91c9-1d3e51c5ab84');\n",
              "          const dataTable =\n",
              "            await google.colab.kernel.invokeFunction('convertToInteractive',\n",
              "                                                     [key], {});\n",
              "          if (!dataTable) return;\n",
              "\n",
              "          const docLinkHtml = 'Like what you see? Visit the ' +\n",
              "            '<a target=\"_blank\" href=https://colab.research.google.com/notebooks/data_table.ipynb>data table notebook</a>'\n",
              "            + ' to learn more about interactive tables.';\n",
              "          element.innerHTML = '';\n",
              "          dataTable['output_type'] = 'display_data';\n",
              "          await google.colab.output.renderOutput(dataTable, element);\n",
              "          const docLink = document.createElement('div');\n",
              "          docLink.innerHTML = docLinkHtml;\n",
              "          element.appendChild(docLink);\n",
              "        }\n",
              "      </script>\n",
              "    </div>\n",
              "  </div>\n",
              "  "
            ],
            "text/plain": [
              "  Year_month  Month  Year  num_complaints  population  complaint_index  \\\n",
              "0    2023-03      3  2023             606   7252349.0         0.000084   \n",
              "1    2023-04      4  2023           29497   8604523.0         0.003428   \n",
              "2    2023-05      5  2023           34719   8610116.0         0.004032   \n",
              "\n",
              "   complaint_index_1  complaint_rate  \n",
              "0                NaN             NaN  \n",
              "1           0.000084       40.025806  \n",
              "2           0.003428        0.176270  "
            ]
          },
          "execution_count": 29,
          "metadata": {},
          "output_type": "execute_result"
        }
      ],
      "source": [
        "# Aggregating num_complaints and population by borough, month, year\n",
        "Loud_music6 = Loud_music4.groupby(['Year_month','Month','Year'])[['num_complaints','population']].sum()\n",
        "\n",
        "# Complaint-index variable\n",
        "Loud_music6['complaint_index'] = Loud_music6['num_complaints']/Loud_music6['population']\n",
        "\n",
        "# Add lag of complaint_index variable by zipcode by month\n",
        "Loud_music6['complaint_index_1'] = Loud_music6.sort_values(['Year_month','Month','Year'],ascending=True)['complaint_index'].shift(1)\n",
        "\n",
        "# Add complaint-rate variable which is the growth rate in complaint index\n",
        "Loud_music6['complaint_rate'] = (Loud_music6['complaint_index']-Loud_music6['complaint_index_1'])/Loud_music6['complaint_index_1']\n",
        "\n",
        "Loud_music6 = Loud_music6.sort_values(['Year_month','Month','Year'],ascending=True) # sort by group\n",
        "Loud_music6.reset_index(inplace=True) # converts labels to column\n",
        "\n",
        "Loud_music6.head()"
      ]
    },
    {
      "attachments": {},
      "cell_type": "markdown",
      "metadata": {
        "id": "t_skd3pYPJl_"
      },
      "source": [
        "#### <a class=\"anchor\" id=\"5.1.7.Fig6\"></a> 6.1.7. Monthly plot of complaint-rates for NYC for entire duration of the dataset"
      ]
    },
    {
      "cell_type": "code",
      "execution_count": 31,
      "metadata": {
        "colab": {
          "base_uri": "https://localhost:8080/",
          "height": 667
        },
        "id": "ZLAW8P8vPJl_",
        "outputId": "269b8b2e-2896-4846-c48b-3ea02be8dce8"
      },
      "outputs": [
        {
          "data": {
            "image/png": "[encoded data removed]",
            "text/plain": [
              "<Figure size 1500x800 with 1 Axes>"
            ]
          },
          "metadata": {},
          "output_type": "display_data"
        }
      ],
      "source": [
        "fig, ax = plt.subplots(figsize=(15,8))\n",
        "\n",
        "Loud_music6.plot(x='Year_month', y='complaint_rate', ax=ax)\n",
        "\n",
        "plt.xlabel('Calendar Year-Month')\n",
        "plt.ylabel('Complaint rate')\n",
        "plt.title(\"Monthly complaint-rate for NYC for entire duration of the dataset\") \n",
        "plt.show()"
      ]
    },
    {
      "attachments": {},
      "cell_type": "markdown",
      "metadata": {
        "id": "1mtND16iPJl_"
      },
      "source": [
        "<a class=\"anchor\" id=\"comment5\"></a> **Observation:**  The above two plots imply that the complaint rates have gone down from April to May of this year. However we cannot generalize the results as the data here is only for two months."
      ]
    },
    {
      "attachments": {},
      "cell_type": "markdown",
      "metadata": {
        "id": "sXe59vZ2PJmA"
      },
      "source": [
        "## <a class=\"anchor\" id=\"5.2.Q2\"></a> 6.2. Analysis-2: Which zip codes have shown the largest increase in these complaints over time? Develop some filter to make sure that the growth rates aren’t merely an artifact of low volumes."
      ]
    },
    {
      "attachments": {},
      "cell_type": "markdown",
      "metadata": {
        "id": "zy-ht9CNPJmA"
      },
      "source": [
        "#### 6.2.1. Create complaint-index variable & complaint-rate variable by zipcode by each month for entire duration of the dataset"
      ]
    },
    {
      "cell_type": "code",
      "execution_count": 32,
      "metadata": {
        "colab": {
          "base_uri": "https://localhost:8080/",
          "height": 206
        },
        "id": "MnCVpHcXPJmA",
        "outputId": "7877146b-30a7-422a-904a-b839b41edc2b"
      },
      "outputs": [
        {
          "data": {
            "text/html": [
              "\n",
              "  <div id=\"df-e9a92cdf-a4d8-42c2-ab5e-abbd52877859\">\n",
              "    <div class=\"colab-df-container\">\n",
              "      <div>\n",
              "<style scoped>\n",
              "    .dataframe tbody tr th:only-of-type {\n",
              "        vertical-align: middle;\n",
              "    }\n",
              "\n",
              "    .dataframe tbody tr th {\n",
              "        vertical-align: top;\n",
              "    }\n",
              "\n",
              "    .dataframe thead th {\n",
              "        text-align: right;\n",
              "    }\n",
              "</style>\n",
              "<table border=\"1\" class=\"dataframe\">\n",
              "  <thead>\n",
              "    <tr style=\"text-align: right;\">\n",
              "      <th></th>\n",
              "      <th>index</th>\n",
              "      <th>incident_zip</th>\n",
              "      <th>Year_month</th>\n",
              "      <th>Year</th>\n",
              "      <th>Month</th>\n",
              "      <th>num_complaints</th>\n",
              "      <th>population</th>\n",
              "      <th>borough</th>\n",
              "      <th>complaint_index</th>\n",
              "      <th>complaint_index_1</th>\n",
              "      <th>complaint_rate</th>\n",
              "    </tr>\n",
              "  </thead>\n",
              "  <tbody>\n",
              "    <tr>\n",
              "      <th>0</th>\n",
              "      <td>241</td>\n",
              "      <td>10001.0</td>\n",
              "      <td>2023-04</td>\n",
              "      <td>2023</td>\n",
              "      <td>4</td>\n",
              "      <td>72</td>\n",
              "      <td>23072.0</td>\n",
              "      <td>MANHATTAN</td>\n",
              "      <td>0.003121</td>\n",
              "      <td>NaN</td>\n",
              "      <td>NaN</td>\n",
              "    </tr>\n",
              "    <tr>\n",
              "      <th>1</th>\n",
              "      <td>220</td>\n",
              "      <td>10001.0</td>\n",
              "      <td>2023-05</td>\n",
              "      <td>2023</td>\n",
              "      <td>5</td>\n",
              "      <td>87</td>\n",
              "      <td>23072.0</td>\n",
              "      <td>MANHATTAN</td>\n",
              "      <td>0.003771</td>\n",
              "      <td>0.003121</td>\n",
              "      <td>0.208333</td>\n",
              "    </tr>\n",
              "    <tr>\n",
              "      <th>2</th>\n",
              "      <td>427</td>\n",
              "      <td>10002.0</td>\n",
              "      <td>2023-03</td>\n",
              "      <td>2023</td>\n",
              "      <td>3</td>\n",
              "      <td>3</td>\n",
              "      <td>74993.0</td>\n",
              "      <td>MANHATTAN</td>\n",
              "      <td>0.000040</td>\n",
              "      <td>0.003771</td>\n",
              "      <td>-0.989391</td>\n",
              "    </tr>\n",
              "    <tr>\n",
              "      <th>3</th>\n",
              "      <td>18</td>\n",
              "      <td>10002.0</td>\n",
              "      <td>2023-04</td>\n",
              "      <td>2023</td>\n",
              "      <td>4</td>\n",
              "      <td>545</td>\n",
              "      <td>74993.0</td>\n",
              "      <td>MANHATTAN</td>\n",
              "      <td>0.007267</td>\n",
              "      <td>0.000040</td>\n",
              "      <td>180.666667</td>\n",
              "    </tr>\n",
              "    <tr>\n",
              "      <th>4</th>\n",
              "      <td>20</td>\n",
              "      <td>10002.0</td>\n",
              "      <td>2023-05</td>\n",
              "      <td>2023</td>\n",
              "      <td>5</td>\n",
              "      <td>529</td>\n",
              "      <td>74993.0</td>\n",
              "      <td>MANHATTAN</td>\n",
              "      <td>0.007054</td>\n",
              "      <td>0.007267</td>\n",
              "      <td>-0.029358</td>\n",
              "    </tr>\n",
              "  </tbody>\n",
              "</table>\n",
              "</div>\n",
              "      <button class=\"colab-df-convert\" onclick=\"convertToInteractive('df-e9a92cdf-a4d8-42c2-ab5e-abbd52877859')\"\n",
              "              title=\"Convert this dataframe to an interactive table.\"\n",
              "              style=\"display:none;\">\n",
              "        \n",
              "  <svg xmlns=\"http://www.w3.org/2000/svg\" height=\"24px\"viewBox=\"0 0 24 24\"\n",
              "       width=\"24px\">\n",
              "    <path d=\"M0 0h24v24H0V0z\" fill=\"none\"/>\n",
              "    <path d=\"M18.56 5.44l.94 2.06.94-2.06 2.06-.94-2.06-.94-.94-2.06-.94 2.06-2.06.94zm-11 1L8.5 8.5l.94-2.06 2.06-.94-2.06-.94L8.5 2.5l-.94 2.06-2.06.94zm10 10l.94 2.06.94-2.06 2.06-.94-2.06-.94-.94-2.06-.94 2.06-2.06.94z\"/><path d=\"M17.41 7.96l-1.37-1.37c-.4-.4-.92-.59-1.43-.59-.52 0-1.04.2-1.43.59L10.3 9.45l-7.72 7.72c-.78.78-.78 2.05 0 2.83L4 21.41c.39.39.9.59 1.41.59.51 0 1.02-.2 1.41-.59l7.78-7.78 2.81-2.81c.8-.78.8-2.07 0-2.86zM5.41 20L4 18.59l7.72-7.72 1.47 1.35L5.41 20z\"/>\n",
              "  </svg>\n",
              "      </button>\n",
              "      \n",
              "  <style>\n",
              "    .colab-df-container {\n",
              "      display:flex;\n",
              "      flex-wrap:wrap;\n",
              "      gap: 12px;\n",
              "    }\n",
              "\n",
              "    .colab-df-convert {\n",
              "      background-color: #E8F0FE;\n",
              "      border: none;\n",
              "      border-radius: 50%;\n",
              "      cursor: pointer;\n",
              "      display: none;\n",
              "      fill: #1967D2;\n",
              "      height: 32px;\n",
              "      padding: 0 0 0 0;\n",
              "      width: 32px;\n",
              "    }\n",
              "\n",
              "    .colab-df-convert:hover {\n",
              "      background-color: #E2EBFA;\n",
              "      box-shadow: 0px 1px 2px rgba(60, 64, 67, 0.3), 0px 1px 3px 1px rgba(60, 64, 67, 0.15);\n",
              "      fill: #174EA6;\n",
              "    }\n",
              "\n",
              "    [theme=dark] .colab-df-convert {\n",
              "      background-color: #3B4455;\n",
              "      fill: #D2E3FC;\n",
              "    }\n",
              "\n",
              "    [theme=dark] .colab-df-convert:hover {\n",
              "      background-color: #434B5C;\n",
              "      box-shadow: 0px 1px 3px 1px rgba(0, 0, 0, 0.15);\n",
              "      filter: drop-shadow(0px 1px 2px rgba(0, 0, 0, 0.3));\n",
              "      fill: #FFFFFF;\n",
              "    }\n",
              "  </style>\n",
              "\n",
              "      <script>\n",
              "        const buttonEl =\n",
              "          document.querySelector('#df-e9a92cdf-a4d8-42c2-ab5e-abbd52877859 button.colab-df-convert');\n",
              "        buttonEl.style.display =\n",
              "          google.colab.kernel.accessAllowed ? 'block' : 'none';\n",
              "\n",
              "        async function convertToInteractive(key) {\n",
              "          const element = document.querySelector('#df-e9a92cdf-a4d8-42c2-ab5e-abbd52877859');\n",
              "          const dataTable =\n",
              "            await google.colab.kernel.invokeFunction('convertToInteractive',\n",
              "                                                     [key], {});\n",
              "          if (!dataTable) return;\n",
              "\n",
              "          const docLinkHtml = 'Like what you see? Visit the ' +\n",
              "            '<a target=\"_blank\" href=https://colab.research.google.com/notebooks/data_table.ipynb>data table notebook</a>'\n",
              "            + ' to learn more about interactive tables.';\n",
              "          element.innerHTML = '';\n",
              "          dataTable['output_type'] = 'display_data';\n",
              "          await google.colab.output.renderOutput(dataTable, element);\n",
              "          const docLink = document.createElement('div');\n",
              "          docLink.innerHTML = docLinkHtml;\n",
              "          element.appendChild(docLink);\n",
              "        }\n",
              "      </script>\n",
              "    </div>\n",
              "  </div>\n",
              "  "
            ],
            "text/plain": [
              "   index  incident_zip Year_month  Year  Month  num_complaints  population  \\\n",
              "0    241       10001.0    2023-04  2023      4              72     23072.0   \n",
              "1    220       10001.0    2023-05  2023      5              87     23072.0   \n",
              "2    427       10002.0    2023-03  2023      3               3     74993.0   \n",
              "3     18       10002.0    2023-04  2023      4             545     74993.0   \n",
              "4     20       10002.0    2023-05  2023      5             529     74993.0   \n",
              "\n",
              "     borough  complaint_index  complaint_index_1  complaint_rate  \n",
              "0  MANHATTAN         0.003121                NaN             NaN  \n",
              "1  MANHATTAN         0.003771           0.003121        0.208333  \n",
              "2  MANHATTAN         0.000040           0.003771       -0.989391  \n",
              "3  MANHATTAN         0.007267           0.000040      180.666667  \n",
              "4  MANHATTAN         0.007054           0.007267       -0.029358  "
            ]
          },
          "execution_count": 32,
          "metadata": {},
          "output_type": "execute_result"
        }
      ],
      "source": [
        "Loud_music8 = Loud_music4.copy()\n",
        "\n",
        "# Complaint-index variable\n",
        "Loud_music8['complaint_index'] = Loud_music8['num_complaints']/Loud_music8['population']\n",
        "\n",
        "# Add lag of complaint_index variable by zipcode by month\n",
        "Loud_music8['complaint_index_1'] = Loud_music8.sort_values(['incident_zip','Year_month','Month','Year'],ascending=True)['complaint_index'].shift(1)\n",
        "\n",
        "# Add complaint-rate variable which is the growth rate in complaint index\n",
        "Loud_music8['complaint_rate'] = (Loud_music8['complaint_index']-Loud_music8['complaint_index_1'])/Loud_music8['complaint_index_1']\n",
        "\n",
        "Loud_music8 = Loud_music8.sort_values(['incident_zip','Year_month','Month','Year'],ascending=True) #sort by group\n",
        "Loud_music8.reset_index(inplace=True) #converts labels to column\n",
        "Loud_music8.head()"
      ]
    },
    {
      "attachments": {},
      "cell_type": "markdown",
      "metadata": {
        "id": "YNRWBCJuPJmB"
      },
      "source": [
        "#### 6.2.1.2. Estimating mean of complaint-rates for entire duration of the dataset by zipcode"
      ]
    },
    {
      "attachments": {},
      "cell_type": "markdown",
      "metadata": {
        "id": "OsRzy_OhPJmB"
      },
      "source": [
        "I estimate the means of complaint rates by zip code to check which zip codes have higher average growth rate"
      ]
    },
    {
      "cell_type": "code",
      "execution_count": 33,
      "metadata": {
        "id": "IPzKHG9vPJmB"
      },
      "outputs": [],
      "source": [
        "Loud_music9 = Loud_music8.groupby(['incident_zip','population'])[['num_complaints','complaint_index','complaint_rate']].mean()\n",
        "Loud_music9.reset_index(inplace=True) #converts labels to column\n",
        "Loud_music9 = Loud_music9.sort_values(['complaint_rate'],ascending=False) # sort by complaint_rate\n",
        "Loud_music9a = Loud_music9[:20] # 20 largest zipcodes in terms of the increase in complaints"
      ]
    },
    {
      "attachments": {},
      "cell_type": "markdown",
      "metadata": {
        "id": "uLGrDuraPJmB"
      },
      "source": [
        "#### <a class=\"anchor\" id=\"5.2.2.Fig6\"></a> 6.2.2. Scatter plot of Complaint rate vs Complaint Index at Zipcode level for entire duration of the dataset"
      ]
    },
    {
      "attachments": {},
      "cell_type": "markdown",
      "metadata": {
        "id": "yqKfA-W7PJmC"
      },
      "source": [
        "I then plot the scatter plot to look for anomalies/outliers either in complaint rates or complaint index or population"
      ]
    },
    {
      "cell_type": "code",
      "execution_count": 34,
      "metadata": {
        "colab": {
          "base_uri": "https://localhost:8080/",
          "height": 564
        },
        "id": "HKH0KrnGPJmC",
        "outputId": "2c50c30b-d4e0-4ba4-fb3e-e91ace153ae0",
        "scrolled": false
      },
      "outputs": [
        {
          "data": {
            "image/png": "[encoded data removed]",
            "text/plain": [
              "<Figure size 1200x600 with 1 Axes>"
            ]
          },
          "metadata": {},
          "output_type": "display_data"
        }
      ],
      "source": [
        "fig, ax = plt.subplots(figsize=(12,6))\n",
        "ax.scatter(Loud_music8['complaint_rate'],Loud_music8['complaint_index'])\n",
        "ax.set_xlabel('Complaint rate')\n",
        "ax.set_ylabel('Complaint index')\n",
        "plt.title(\"Complaint rate vs Complaint Index at Zipcode level for entire duration of the dataset\")\n",
        "plt.show()"
      ]
    },
    {
      "attachments": {},
      "cell_type": "markdown",
      "metadata": {
        "id": "pEU-eKPRPJmC"
      },
      "source": [
        "<a class=\"anchor\" id=\"comment6\"></a> **Observation:** From the above scatter plot, there are a few outliers (too far from the cluster), wherein the complaint index (number of complaints to population ratio) is low but complaint rates (rate of change of complaint index) are high, and vice versa. Hence, I winsorize the extreme 10 percentile values of the variables - population, number of complaints, and complaint index variables below to eliminate these outliers (meaning, replace observations less than 10 and greater than 90 percentile values with 10 and 90 values respectively)."
      ]
    },
    {
      "attachments": {},
      "cell_type": "markdown",
      "metadata": {
        "id": "Qc7jsVsYPJmD"
      },
      "source": [
        "#### 6.2.2.1. Print 10 and 90 percentile values"
      ]
    },
    {
      "cell_type": "code",
      "execution_count": 36,
      "metadata": {
        "colab": {
          "base_uri": "https://localhost:8080/"
        },
        "id": "62-EOap_PJmD",
        "outputId": "369b4935-f99a-40fd-ce77-8812e833d1f9"
      },
      "outputs": [
        {
          "name": "stdout",
          "output_type": "stream",
          "text": [
            "19043.800000000003\n",
            "89651.60000000002\n",
            "2.0\n",
            "374.0\n"
          ]
        }
      ],
      "source": [
        "print(Loud_music8['population'].quantile(0.10))\n",
        "print(Loud_music8['population'].quantile(0.90))\n",
        "print(Loud_music8['num_complaints'].quantile(0.10))\n",
        "print(Loud_music8['num_complaints'].quantile(0.90))"
      ]
    },
    {
      "attachments": {},
      "cell_type": "markdown",
      "metadata": {
        "id": "TZCWkpcrPJmE"
      },
      "source": [
        "#### 6.2.2.2. Winsorize the variables - complaint index and complaint rate"
      ]
    },
    {
      "cell_type": "code",
      "execution_count": 37,
      "metadata": {
        "id": "oiTRLcYDPJmE"
      },
      "outputs": [],
      "source": [
        "Loud_music8['population'] = np.where(Loud_music8['population'] < Loud_music8['population'].quantile(0.10), Loud_music8['population'].quantile(0.10), Loud_music8['population'])\n",
        "Loud_music8['population'] = np.where(Loud_music8['population'] > Loud_music8['population'].quantile(0.90), Loud_music8['population'].quantile(0.90), Loud_music8['population'])\n",
        "Loud_music8['num_complaints'] = np.where(Loud_music8['num_complaints'] < Loud_music8['num_complaints'].quantile(0.10), Loud_music8['num_complaints'].quantile(0.10), Loud_music8['num_complaints'])\n",
        "Loud_music8['num_complaints'] = np.where(Loud_music8['num_complaints'] > Loud_music8['num_complaints'].quantile(0.90), Loud_music8['num_complaints'].quantile(0.90), Loud_music8['num_complaints'])"
      ]
    },
    {
      "attachments": {},
      "cell_type": "markdown",
      "metadata": {
        "id": "nkwWHcgcPJmE"
      },
      "source": [
        "#### 6.2.3. Post winsorization, create complaint-index variable by zipcode by each month for entire duration of the dataset"
      ]
    },
    {
      "cell_type": "code",
      "execution_count": 38,
      "metadata": {
        "id": "3Cm6Bq2XPJmE",
        "scrolled": true
      },
      "outputs": [],
      "source": [
        "# Complaint-index variable\n",
        "Loud_music8['complaint_index']=Loud_music8['num_complaints']/Loud_music8['population']"
      ]
    },
    {
      "attachments": {},
      "cell_type": "markdown",
      "metadata": {
        "id": "8Xh6D4qePJmF"
      },
      "source": [
        "#### 6.2.3.1. Winsorize complaint index variable"
      ]
    },
    {
      "cell_type": "code",
      "execution_count": 39,
      "metadata": {
        "colab": {
          "base_uri": "https://localhost:8080/"
        },
        "id": "96TRbTMLPJmF",
        "outputId": "ed10575d-b86f-4b33-fe75-a2f7de01b9c2",
        "scrolled": true
      },
      "outputs": [
        {
          "name": "stdout",
          "output_type": "stream",
          "text": [
            "5.5771453047129094e-05\n",
            "0.005260773169071123\n"
          ]
        }
      ],
      "source": [
        "print(Loud_music8['complaint_index'].quantile(0.10))\n",
        "print(Loud_music8['complaint_index'].quantile(0.90))"
      ]
    },
    {
      "cell_type": "code",
      "execution_count": 40,
      "metadata": {
        "colab": {
          "base_uri": "https://localhost:8080/",
          "height": 206
        },
        "id": "orA6j2NuPJmF",
        "outputId": "1e4f92bb-b51c-4921-f89e-e816776079c3"
      },
      "outputs": [
        {
          "data": {
            "text/html": [
              "\n",
              "  <div id=\"df-a7c87035-f97e-4ec8-8886-d93656a184c4\">\n",
              "    <div class=\"colab-df-container\">\n",
              "      <div>\n",
              "<style scoped>\n",
              "    .dataframe tbody tr th:only-of-type {\n",
              "        vertical-align: middle;\n",
              "    }\n",
              "\n",
              "    .dataframe tbody tr th {\n",
              "        vertical-align: top;\n",
              "    }\n",
              "\n",
              "    .dataframe thead th {\n",
              "        text-align: right;\n",
              "    }\n",
              "</style>\n",
              "<table border=\"1\" class=\"dataframe\">\n",
              "  <thead>\n",
              "    <tr style=\"text-align: right;\">\n",
              "      <th></th>\n",
              "      <th>index</th>\n",
              "      <th>incident_zip</th>\n",
              "      <th>Year_month</th>\n",
              "      <th>Year</th>\n",
              "      <th>Month</th>\n",
              "      <th>num_complaints</th>\n",
              "      <th>population</th>\n",
              "      <th>borough</th>\n",
              "      <th>complaint_index</th>\n",
              "      <th>complaint_index_1</th>\n",
              "      <th>complaint_rate</th>\n",
              "    </tr>\n",
              "  </thead>\n",
              "  <tbody>\n",
              "    <tr>\n",
              "      <th>0</th>\n",
              "      <td>241</td>\n",
              "      <td>10001.0</td>\n",
              "      <td>2023-04</td>\n",
              "      <td>2023</td>\n",
              "      <td>4</td>\n",
              "      <td>72.0</td>\n",
              "      <td>23072.0</td>\n",
              "      <td>MANHATTAN</td>\n",
              "      <td>0.003121</td>\n",
              "      <td>NaN</td>\n",
              "      <td>NaN</td>\n",
              "    </tr>\n",
              "    <tr>\n",
              "      <th>1</th>\n",
              "      <td>220</td>\n",
              "      <td>10001.0</td>\n",
              "      <td>2023-05</td>\n",
              "      <td>2023</td>\n",
              "      <td>5</td>\n",
              "      <td>87.0</td>\n",
              "      <td>23072.0</td>\n",
              "      <td>MANHATTAN</td>\n",
              "      <td>0.003771</td>\n",
              "      <td>0.003121</td>\n",
              "      <td>0.208333</td>\n",
              "    </tr>\n",
              "    <tr>\n",
              "      <th>2</th>\n",
              "      <td>427</td>\n",
              "      <td>10002.0</td>\n",
              "      <td>2023-03</td>\n",
              "      <td>2023</td>\n",
              "      <td>3</td>\n",
              "      <td>3.0</td>\n",
              "      <td>74993.0</td>\n",
              "      <td>MANHATTAN</td>\n",
              "      <td>0.000056</td>\n",
              "      <td>0.003771</td>\n",
              "      <td>-0.985210</td>\n",
              "    </tr>\n",
              "    <tr>\n",
              "      <th>3</th>\n",
              "      <td>18</td>\n",
              "      <td>10002.0</td>\n",
              "      <td>2023-04</td>\n",
              "      <td>2023</td>\n",
              "      <td>4</td>\n",
              "      <td>374.0</td>\n",
              "      <td>74993.0</td>\n",
              "      <td>MANHATTAN</td>\n",
              "      <td>0.004987</td>\n",
              "      <td>0.000056</td>\n",
              "      <td>88.420875</td>\n",
              "    </tr>\n",
              "    <tr>\n",
              "      <th>4</th>\n",
              "      <td>20</td>\n",
              "      <td>10002.0</td>\n",
              "      <td>2023-05</td>\n",
              "      <td>2023</td>\n",
              "      <td>5</td>\n",
              "      <td>374.0</td>\n",
              "      <td>74993.0</td>\n",
              "      <td>MANHATTAN</td>\n",
              "      <td>0.004987</td>\n",
              "      <td>0.004987</td>\n",
              "      <td>0.000000</td>\n",
              "    </tr>\n",
              "  </tbody>\n",
              "</table>\n",
              "</div>\n",
              "      <button class=\"colab-df-convert\" onclick=\"convertToInteractive('df-a7c87035-f97e-4ec8-8886-d93656a184c4')\"\n",
              "              title=\"Convert this dataframe to an interactive table.\"\n",
              "              style=\"display:none;\">\n",
              "        \n",
              "  <svg xmlns=\"http://www.w3.org/2000/svg\" height=\"24px\"viewBox=\"0 0 24 24\"\n",
              "       width=\"24px\">\n",
              "    <path d=\"M0 0h24v24H0V0z\" fill=\"none\"/>\n",
              "    <path d=\"M18.56 5.44l.94 2.06.94-2.06 2.06-.94-2.06-.94-.94-2.06-.94 2.06-2.06.94zm-11 1L8.5 8.5l.94-2.06 2.06-.94-2.06-.94L8.5 2.5l-.94 2.06-2.06.94zm10 10l.94 2.06.94-2.06 2.06-.94-2.06-.94-.94-2.06-.94 2.06-2.06.94z\"/><path d=\"M17.41 7.96l-1.37-1.37c-.4-.4-.92-.59-1.43-.59-.52 0-1.04.2-1.43.59L10.3 9.45l-7.72 7.72c-.78.78-.78 2.05 0 2.83L4 21.41c.39.39.9.59 1.41.59.51 0 1.02-.2 1.41-.59l7.78-7.78 2.81-2.81c.8-.78.8-2.07 0-2.86zM5.41 20L4 18.59l7.72-7.72 1.47 1.35L5.41 20z\"/>\n",
              "  </svg>\n",
              "      </button>\n",
              "      \n",
              "  <style>\n",
              "    .colab-df-container {\n",
              "      display:flex;\n",
              "      flex-wrap:wrap;\n",
              "      gap: 12px;\n",
              "    }\n",
              "\n",
              "    .colab-df-convert {\n",
              "      background-color: #E8F0FE;\n",
              "      border: none;\n",
              "      border-radius: 50%;\n",
              "      cursor: pointer;\n",
              "      display: none;\n",
              "      fill: #1967D2;\n",
              "      height: 32px;\n",
              "      padding: 0 0 0 0;\n",
              "      width: 32px;\n",
              "    }\n",
              "\n",
              "    .colab-df-convert:hover {\n",
              "      background-color: #E2EBFA;\n",
              "      box-shadow: 0px 1px 2px rgba(60, 64, 67, 0.3), 0px 1px 3px 1px rgba(60, 64, 67, 0.15);\n",
              "      fill: #174EA6;\n",
              "    }\n",
              "\n",
              "    [theme=dark] .colab-df-convert {\n",
              "      background-color: #3B4455;\n",
              "      fill: #D2E3FC;\n",
              "    }\n",
              "\n",
              "    [theme=dark] .colab-df-convert:hover {\n",
              "      background-color: #434B5C;\n",
              "      box-shadow: 0px 1px 3px 1px rgba(0, 0, 0, 0.15);\n",
              "      filter: drop-shadow(0px 1px 2px rgba(0, 0, 0, 0.3));\n",
              "      fill: #FFFFFF;\n",
              "    }\n",
              "  </style>\n",
              "\n",
              "      <script>\n",
              "        const buttonEl =\n",
              "          document.querySelector('#df-a7c87035-f97e-4ec8-8886-d93656a184c4 button.colab-df-convert');\n",
              "        buttonEl.style.display =\n",
              "          google.colab.kernel.accessAllowed ? 'block' : 'none';\n",
              "\n",
              "        async function convertToInteractive(key) {\n",
              "          const element = document.querySelector('#df-a7c87035-f97e-4ec8-8886-d93656a184c4');\n",
              "          const dataTable =\n",
              "            await google.colab.kernel.invokeFunction('convertToInteractive',\n",
              "                                                     [key], {});\n",
              "          if (!dataTable) return;\n",
              "\n",
              "          const docLinkHtml = 'Like what you see? Visit the ' +\n",
              "            '<a target=\"_blank\" href=https://colab.research.google.com/notebooks/data_table.ipynb>data table notebook</a>'\n",
              "            + ' to learn more about interactive tables.';\n",
              "          element.innerHTML = '';\n",
              "          dataTable['output_type'] = 'display_data';\n",
              "          await google.colab.output.renderOutput(dataTable, element);\n",
              "          const docLink = document.createElement('div');\n",
              "          docLink.innerHTML = docLinkHtml;\n",
              "          element.appendChild(docLink);\n",
              "        }\n",
              "      </script>\n",
              "    </div>\n",
              "  </div>\n",
              "  "
            ],
            "text/plain": [
              "   index  incident_zip Year_month  Year  Month  num_complaints  population  \\\n",
              "0    241       10001.0    2023-04  2023      4            72.0     23072.0   \n",
              "1    220       10001.0    2023-05  2023      5            87.0     23072.0   \n",
              "2    427       10002.0    2023-03  2023      3             3.0     74993.0   \n",
              "3     18       10002.0    2023-04  2023      4           374.0     74993.0   \n",
              "4     20       10002.0    2023-05  2023      5           374.0     74993.0   \n",
              "\n",
              "     borough  complaint_index  complaint_index_1  complaint_rate  \n",
              "0  MANHATTAN         0.003121                NaN             NaN  \n",
              "1  MANHATTAN         0.003771           0.003121        0.208333  \n",
              "2  MANHATTAN         0.000056           0.003771       -0.985210  \n",
              "3  MANHATTAN         0.004987           0.000056       88.420875  \n",
              "4  MANHATTAN         0.004987           0.004987        0.000000  "
            ]
          },
          "execution_count": 40,
          "metadata": {},
          "output_type": "execute_result"
        }
      ],
      "source": [
        "Loud_music8['complaint_index'] = np.where(Loud_music8['complaint_index'] < Loud_music8['complaint_index'].quantile(0.10), Loud_music8['complaint_index'].quantile(0.10), Loud_music8['complaint_index'])\n",
        "Loud_music8['complaint_index'] = np.where(Loud_music8['complaint_index'] > Loud_music8['complaint_index'].quantile(0.90), Loud_music8['complaint_index'].quantile(0.90), Loud_music8['complaint_index'])\n",
        "                                         \n",
        "                                         \n",
        "# Add lag of complaint_index variable by zipcode by month\n",
        "Loud_music8['complaint_index_1']=Loud_music8.sort_values(['incident_zip','Year_month','Month','Year'],ascending=True)['complaint_index'].shift(1)\n",
        "\n",
        "# Add complaint-rate variable which is the growth rate in complaint index\n",
        "Loud_music8['complaint_rate']=(Loud_music8['complaint_index']-Loud_music8['complaint_index_1'])/Loud_music8['complaint_index_1']\n",
        "\n",
        "Loud_music8 = Loud_music8.sort_values(['incident_zip','Year_month','Month','Year'], ascending=True) # sort by group\n",
        "Loud_music8.head()"
      ]
    },
    {
      "attachments": {},
      "cell_type": "markdown",
      "metadata": {
        "id": "Qq88nY4ZPJmF"
      },
      "source": [
        "#### 6.2.3.2. Scatter plot of Complaint rate vs Complaint Index at Zipcode level for entire duration of the dataset -- after winsorization"
      ]
    },
    {
      "attachments": {},
      "cell_type": "markdown",
      "metadata": {
        "id": "iodH4yUCPJmG"
      },
      "source": [
        "This is to make sure that there are no outliers"
      ]
    },
    {
      "cell_type": "code",
      "execution_count": 41,
      "metadata": {
        "colab": {
          "base_uri": "https://localhost:8080/",
          "height": 564
        },
        "id": "haVpAdHOPJmG",
        "outputId": "81115121-c648-414d-f937-7f48a9ce7545"
      },
      "outputs": [
        {
          "data": {
            "image/png": "[encoded data removed]",
            "text/plain": [
              "<Figure size 1200x600 with 1 Axes>"
            ]
          },
          "metadata": {},
          "output_type": "display_data"
        }
      ],
      "source": [
        "fig, ax = plt.subplots(figsize=(12,6))\n",
        "ax.scatter(Loud_music8['complaint_rate'],Loud_music8['complaint_index'])\n",
        "ax.set_xlabel('Complaint rate')\n",
        "ax.set_ylabel('Complaint index')\n",
        "plt.title(\"Complaint rate vs Complaint Index at Zipcode level for entire duration of the dataset\")\n",
        "plt.show()"
      ]
    },
    {
      "attachments": {},
      "cell_type": "markdown",
      "metadata": {
        "id": "WPhKOkWHPJmG"
      },
      "source": [
        "<a class=\"anchor\" id=\"comment7\"></a> From the above plot, upon eliminating the outliers, it seems like higher average complaint index values have higher average complaint rates and vice versa. So this is an evidence that growth rates are not just a manifestation of low volumes. I also provide a comparison of average complaint indices and average growth rates for the top 20 zip codes below to reaffirm my conclusion."
      ]
    },
    {
      "cell_type": "code",
      "execution_count": 42,
      "metadata": {
        "id": "ywHy-U56PJmG"
      },
      "outputs": [],
      "source": [
        "Loud_music9 = Loud_music8.groupby(['incident_zip','population'])[['num_complaints','complaint_index','complaint_rate']].mean()\n",
        "Loud_music9.reset_index(inplace=True) # converts labels to column\n",
        "Loud_music9 = Loud_music9.sort_values(['complaint_rate'],ascending=False) # sort by complaint_rate\n",
        "Loud_music9b = Loud_music9[:20] # 20 largest zipcodes in terms of the increase in complaints"
      ]
    },
    {
      "attachments": {},
      "cell_type": "markdown",
      "metadata": {
        "id": "IgG40zGqPJmH"
      },
      "source": [
        "#### <a class=\"anchor\" id=\"5.2.3.Tab1\"></a> 6.2.3. Zip codes with highest average complaint growth rates before and after winsorization"
      ]
    },
    {
      "cell_type": "code",
      "execution_count": 43,
      "metadata": {
        "colab": {
          "base_uri": "https://localhost:8080/",
          "height": 1000
        },
        "id": "89nmiJqwPJmH",
        "outputId": "def53a45-6b1a-4196-8b0f-ee08abd62836",
        "scrolled": false
      },
      "outputs": [
        {
          "data": {
            "text/html": [
              "<th style=\"text-align:center\"><td style=\"vertical-align:top\"><h2>Before winsorization</h2><table style=\"display:inline\" border=\"1\" class=\"dataframe\">\n",
              "  <thead>\n",
              "    <tr style=\"text-align: right;\">\n",
              "      <th></th>\n",
              "      <th>incident_zip</th>\n",
              "      <th>population</th>\n",
              "      <th>num_complaints</th>\n",
              "      <th>complaint_index</th>\n",
              "      <th>complaint_rate</th>\n",
              "    </tr>\n",
              "  </thead>\n",
              "  <tbody>\n",
              "    <tr>\n",
              "      <th>112</th>\n",
              "      <td>11225.0</td>\n",
              "      <td>58882.0</td>\n",
              "      <td>183.000000</td>\n",
              "      <td>0.003108</td>\n",
              "      <td>101.265802</td>\n",
              "    </tr>\n",
              "    <tr>\n",
              "      <th>149</th>\n",
              "      <td>11385.0</td>\n",
              "      <td>106717.0</td>\n",
              "      <td>290.333333</td>\n",
              "      <td>0.002721</td>\n",
              "      <td>68.206298</td>\n",
              "    </tr>\n",
              "    <tr>\n",
              "      <th>1</th>\n",
              "      <td>10002.0</td>\n",
              "      <td>74993.0</td>\n",
              "      <td>359.000000</td>\n",
              "      <td>0.004787</td>\n",
              "      <td>59.882639</td>\n",
              "    </tr>\n",
              "    <tr>\n",
              "      <th>26</th>\n",
              "      <td>10030.0</td>\n",
              "      <td>29882.0</td>\n",
              "      <td>119.666667</td>\n",
              "      <td>0.004005</td>\n",
              "      <td>59.661571</td>\n",
              "    </tr>\n",
              "    <tr>\n",
              "      <th>44</th>\n",
              "      <td>10301.0</td>\n",
              "      <td>38733.0</td>\n",
              "      <td>100.000000</td>\n",
              "      <td>0.002582</td>\n",
              "      <td>55.967741</td>\n",
              "    </tr>\n",
              "    <tr>\n",
              "      <th>28</th>\n",
              "      <td>10032.0</td>\n",
              "      <td>64264.0</td>\n",
              "      <td>433.000000</td>\n",
              "      <td>0.006738</td>\n",
              "      <td>51.442347</td>\n",
              "    </tr>\n",
              "    <tr>\n",
              "      <th>142</th>\n",
              "      <td>11372.0</td>\n",
              "      <td>61844.0</td>\n",
              "      <td>179.333333</td>\n",
              "      <td>0.002900</td>\n",
              "      <td>48.116156</td>\n",
              "    </tr>\n",
              "    <tr>\n",
              "      <th>110</th>\n",
              "      <td>11223.0</td>\n",
              "      <td>81789.0</td>\n",
              "      <td>93.000000</td>\n",
              "      <td>0.001137</td>\n",
              "      <td>45.338762</td>\n",
              "    </tr>\n",
              "    <tr>\n",
              "      <th>105</th>\n",
              "      <td>11218.0</td>\n",
              "      <td>74508.0</td>\n",
              "      <td>115.333333</td>\n",
              "      <td>0.001548</td>\n",
              "      <td>40.928478</td>\n",
              "    </tr>\n",
              "    <tr>\n",
              "      <th>137</th>\n",
              "      <td>11366.0</td>\n",
              "      <td>14650.0</td>\n",
              "      <td>75.666667</td>\n",
              "      <td>0.005165</td>\n",
              "      <td>39.971708</td>\n",
              "    </tr>\n",
              "    <tr>\n",
              "      <th>92</th>\n",
              "      <td>11205.0</td>\n",
              "      <td>46064.0</td>\n",
              "      <td>77.666667</td>\n",
              "      <td>0.001686</td>\n",
              "      <td>38.005743</td>\n",
              "    </tr>\n",
              "    <tr>\n",
              "      <th>24</th>\n",
              "      <td>10028.0</td>\n",
              "      <td>47793.0</td>\n",
              "      <td>149.000000</td>\n",
              "      <td>0.003118</td>\n",
              "      <td>37.972199</td>\n",
              "    </tr>\n",
              "    <tr>\n",
              "      <th>157</th>\n",
              "      <td>11418.0</td>\n",
              "      <td>38517.0</td>\n",
              "      <td>79.666667</td>\n",
              "      <td>0.002068</td>\n",
              "      <td>37.037104</td>\n",
              "    </tr>\n",
              "    <tr>\n",
              "      <th>78</th>\n",
              "      <td>10473.0</td>\n",
              "      <td>59609.0</td>\n",
              "      <td>146.000000</td>\n",
              "      <td>0.002449</td>\n",
              "      <td>36.814910</td>\n",
              "    </tr>\n",
              "    <tr>\n",
              "      <th>36</th>\n",
              "      <td>10040.0</td>\n",
              "      <td>44571.0</td>\n",
              "      <td>315.333333</td>\n",
              "      <td>0.007075</td>\n",
              "      <td>35.072861</td>\n",
              "    </tr>\n",
              "    <tr>\n",
              "      <th>118</th>\n",
              "      <td>11232.0</td>\n",
              "      <td>27602.0</td>\n",
              "      <td>77.333333</td>\n",
              "      <td>0.002802</td>\n",
              "      <td>34.730321</td>\n",
              "    </tr>\n",
              "    <tr>\n",
              "      <th>109</th>\n",
              "      <td>11222.0</td>\n",
              "      <td>36492.0</td>\n",
              "      <td>152.000000</td>\n",
              "      <td>0.004165</td>\n",
              "      <td>33.574451</td>\n",
              "    </tr>\n",
              "    <tr>\n",
              "      <th>121</th>\n",
              "      <td>11235.0</td>\n",
              "      <td>78128.0</td>\n",
              "      <td>121.333333</td>\n",
              "      <td>0.001553</td>\n",
              "      <td>32.936064</td>\n",
              "    </tr>\n",
              "    <tr>\n",
              "      <th>27</th>\n",
              "      <td>10031.0</td>\n",
              "      <td>60254.0</td>\n",
              "      <td>622.333333</td>\n",
              "      <td>0.010328</td>\n",
              "      <td>32.930265</td>\n",
              "    </tr>\n",
              "    <tr>\n",
              "      <th>73</th>\n",
              "      <td>10468.0</td>\n",
              "      <td>78647.0</td>\n",
              "      <td>362.666667</td>\n",
              "      <td>0.004611</td>\n",
              "      <td>31.552799</td>\n",
              "    </tr>\n",
              "  </tbody>\n",
              "</table style=\"display:inline\"></td></th><th style=\"text-align:center\"><td style=\"vertical-align:top\"><h2>After winsorization</h2><table style=\"display:inline\" border=\"1\" class=\"dataframe\">\n",
              "  <thead>\n",
              "    <tr style=\"text-align: right;\">\n",
              "      <th></th>\n",
              "      <th>incident_zip</th>\n",
              "      <th>population</th>\n",
              "      <th>num_complaints</th>\n",
              "      <th>complaint_index</th>\n",
              "      <th>complaint_rate</th>\n",
              "    </tr>\n",
              "  </thead>\n",
              "  <tbody>\n",
              "    <tr>\n",
              "      <th>109</th>\n",
              "      <td>11222.0</td>\n",
              "      <td>36492.0</td>\n",
              "      <td>152.000000</td>\n",
              "      <td>0.003526</td>\n",
              "      <td>30.779949</td>\n",
              "    </tr>\n",
              "    <tr>\n",
              "      <th>112</th>\n",
              "      <td>11225.0</td>\n",
              "      <td>58882.0</td>\n",
              "      <td>183.333333</td>\n",
              "      <td>0.003121</td>\n",
              "      <td>30.331094</td>\n",
              "    </tr>\n",
              "    <tr>\n",
              "      <th>1</th>\n",
              "      <td>10002.0</td>\n",
              "      <td>74993.0</td>\n",
              "      <td>250.333333</td>\n",
              "      <td>0.003343</td>\n",
              "      <td>29.145222</td>\n",
              "    </tr>\n",
              "    <tr>\n",
              "      <th>77</th>\n",
              "      <td>10472.0</td>\n",
              "      <td>68796.0</td>\n",
              "      <td>228.666667</td>\n",
              "      <td>0.003324</td>\n",
              "      <td>28.490050</td>\n",
              "    </tr>\n",
              "    <tr>\n",
              "      <th>142</th>\n",
              "      <td>11372.0</td>\n",
              "      <td>61844.0</td>\n",
              "      <td>179.333333</td>\n",
              "      <td>0.002908</td>\n",
              "      <td>27.603762</td>\n",
              "    </tr>\n",
              "    <tr>\n",
              "      <th>28</th>\n",
              "      <td>10032.0</td>\n",
              "      <td>64264.0</td>\n",
              "      <td>250.666667</td>\n",
              "      <td>0.003528</td>\n",
              "      <td>27.510471</td>\n",
              "    </tr>\n",
              "    <tr>\n",
              "      <th>44</th>\n",
              "      <td>10301.0</td>\n",
              "      <td>38733.0</td>\n",
              "      <td>100.333333</td>\n",
              "      <td>0.002592</td>\n",
              "      <td>25.662149</td>\n",
              "    </tr>\n",
              "    <tr>\n",
              "      <th>26</th>\n",
              "      <td>10030.0</td>\n",
              "      <td>29882.0</td>\n",
              "      <td>120.000000</td>\n",
              "      <td>0.003529</td>\n",
              "      <td>25.538485</td>\n",
              "    </tr>\n",
              "    <tr>\n",
              "      <th>149</th>\n",
              "      <td>11385.0</td>\n",
              "      <td>89651.6</td>\n",
              "      <td>250.000000</td>\n",
              "      <td>0.002800</td>\n",
              "      <td>24.281326</td>\n",
              "    </tr>\n",
              "    <tr>\n",
              "      <th>73</th>\n",
              "      <td>10468.0</td>\n",
              "      <td>78647.0</td>\n",
              "      <td>251.000000</td>\n",
              "      <td>0.003191</td>\n",
              "      <td>24.271747</td>\n",
              "    </tr>\n",
              "    <tr>\n",
              "      <th>78</th>\n",
              "      <td>10473.0</td>\n",
              "      <td>59609.0</td>\n",
              "      <td>146.000000</td>\n",
              "      <td>0.002457</td>\n",
              "      <td>21.876360</td>\n",
              "    </tr>\n",
              "    <tr>\n",
              "      <th>98</th>\n",
              "      <td>11211.0</td>\n",
              "      <td>89651.6</td>\n",
              "      <td>238.000000</td>\n",
              "      <td>0.002655</td>\n",
              "      <td>21.719320</td>\n",
              "    </tr>\n",
              "    <tr>\n",
              "      <th>160</th>\n",
              "      <td>11421.0</td>\n",
              "      <td>41002.0</td>\n",
              "      <td>113.333333</td>\n",
              "      <td>0.002766</td>\n",
              "      <td>21.005103</td>\n",
              "    </tr>\n",
              "    <tr>\n",
              "      <th>64</th>\n",
              "      <td>10459.0</td>\n",
              "      <td>48351.0</td>\n",
              "      <td>149.666667</td>\n",
              "      <td>0.003091</td>\n",
              "      <td>20.670781</td>\n",
              "    </tr>\n",
              "    <tr>\n",
              "      <th>21</th>\n",
              "      <td>10025.0</td>\n",
              "      <td>89651.6</td>\n",
              "      <td>196.333333</td>\n",
              "      <td>0.002190</td>\n",
              "      <td>20.555898</td>\n",
              "    </tr>\n",
              "    <tr>\n",
              "      <th>65</th>\n",
              "      <td>10460.0</td>\n",
              "      <td>59505.0</td>\n",
              "      <td>238.000000</td>\n",
              "      <td>0.003535</td>\n",
              "      <td>20.208145</td>\n",
              "    </tr>\n",
              "    <tr>\n",
              "      <th>113</th>\n",
              "      <td>11226.0</td>\n",
              "      <td>89651.6</td>\n",
              "      <td>251.333333</td>\n",
              "      <td>0.002803</td>\n",
              "      <td>20.116539</td>\n",
              "    </tr>\n",
              "    <tr>\n",
              "      <th>9</th>\n",
              "      <td>10011.0</td>\n",
              "      <td>50472.0</td>\n",
              "      <td>123.000000</td>\n",
              "      <td>0.002442</td>\n",
              "      <td>20.098442</td>\n",
              "    </tr>\n",
              "    <tr>\n",
              "      <th>31</th>\n",
              "      <td>10035.0</td>\n",
              "      <td>35743.0</td>\n",
              "      <td>154.000000</td>\n",
              "      <td>0.003507</td>\n",
              "      <td>19.899677</td>\n",
              "    </tr>\n",
              "    <tr>\n",
              "      <th>67</th>\n",
              "      <td>10462.0</td>\n",
              "      <td>76756.0</td>\n",
              "      <td>181.666667</td>\n",
              "      <td>0.002368</td>\n",
              "      <td>19.537963</td>\n",
              "    </tr>\n",
              "  </tbody>\n",
              "</table style=\"display:inline\"></td></th>"
            ]
          },
          "metadata": {},
          "output_type": "display_data"
        }
      ],
      "source": [
        "# Code to display two pandas dataframes side by side\n",
        "from IPython.display import display_html\n",
        "from itertools import chain,cycle\n",
        "def display_side_by_side(*args,titles=cycle([''])):\n",
        "    html_str=''\n",
        "    for df,title in zip(args, chain(titles,cycle(['</br>'])) ):\n",
        "        html_str+='<th style=\"text-align:center\"><td style=\"vertical-align:top\">'\n",
        "        html_str+=f'<h2>{title}</h2>'\n",
        "        html_str+=df.to_html().replace('table','table style=\"display:inline\"')\n",
        "        html_str+='</td></th>'\n",
        "    display_html(html_str,raw=True)\n",
        "\n",
        "display_side_by_side(Loud_music9a, Loud_music9b, titles=['Before winsorization','After winsorization'])"
      ]
    },
    {
      "attachments": {},
      "cell_type": "markdown",
      "metadata": {
        "id": "TZCAdZ4pPJmH"
      },
      "source": [
        "<a class=\"anchor\" id=\"comment8\"></a> From the above datasets, the Incident Zip codes with the highest average complaint rates have higher complaint indices, before and after the winsorization of number of complaints, population, and complaint index values. "
      ]
    }
  ],
  "metadata": {
    "accelerator": "GPU",
    "colab": {
      "gpuType": "T4",
      "provenance": [],
      "toc_visible": true
    },
    "kernelspec": {
      "display_name": "Python 3",
      "name": "python3"
    },
    "language_info": {
      "codemirror_mode": {
        "name": "ipython",
        "version": 3
      },
      "file_extension": ".py",
      "mimetype": "text/x-python",
      "name": "python",
      "nbconvert_exporter": "python",
      "pygments_lexer": "ipython3",
      "version": "3.10.2"
    }
  },
  "nbformat": 4,
  "nbformat_minor": 0
}
